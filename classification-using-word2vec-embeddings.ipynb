{
 "cells": [
  {
   "cell_type": "code",
   "execution_count": 2,
   "metadata": {},
   "outputs": [],
   "source": [
    "import pandas as pd"
   ]
  },
  {
   "cell_type": "code",
   "execution_count": 3,
   "metadata": {},
   "outputs": [],
   "source": [
    "replacements = {'IT Audit / IT Compliance': 'Risk/Legal/Compliance',\n",
    "               'IT': 'IT',\n",
    "               'Engineering': 'Engineering',\n",
    "               'Purchasing': 'Procurement',\n",
    "               'Legal': 'Risk/Legal/Compliance',\n",
    "               'Finance': 'Non-ICP',\n",
    "               'Marketing': 'Non-ICP',\n",
    "               'Sales': 'Non-ICP',\n",
    "               'Unknown': 'Non-ICP',\n",
    "               'Facilities': 'Non-ICP',\n",
    "               'Human Resource': 'Non-ICP',\n",
    "               'Management': 'Non-ICP',\n",
    "               'Services': 'Non-ICP',\n",
    "               'Operations': 'Non-ICP',\n",
    "               'Administration': 'Non-ICP',\n",
    "               'Corporate': 'Non-ICP',\n",
    "               'Support': 'Non-ICP',\n",
    "               'Education': 'Non-ICP',\n",
    "               'Public Sector': 'Non-ICP',\n",
    "               'Procurement': 'Procurement',\n",
    "               'Medical': 'Non-ICP',\n",
    "               'Other': 'Non-ICP',\n",
    "               'IT Audit / IT Compliance': 'Risk/Legal/Compliance',\n",
    "               'Information Security': 'IT',\n",
    "               'IT - Security': 'IT',\n",
    "               'Help Desk / Desktop Services': 'IT',\n",
    "               'Information Technology': 'IT',\n",
    "               'Infrastructure': 'Non-ICP',\n",
    "               'Customer Service / Support': 'Non-ICP',\n",
    "               'Emerging Technology / Innovation': 'IT'}"
   ]
  },
  {
   "cell_type": "code",
   "execution_count": 4,
   "metadata": {},
   "outputs": [],
   "source": [
    "# Create dictionary for Job Role within IT function\n",
    "replacements_role = {'Information Security': 'Information Security',\n",
    "               'information security': 'Information Security',\n",
    "               'Networking': 'Networking',\n",
    "               'IT General': 'IT General',\n",
    "               'None Technical': 'IT General',\n",
    "               'Help Desk': 'IT General',\n",
    "               'Governance Risk Compliance': 'IT General',\n",
    "               'Program Management': 'IT General',\n",
    "               'Data': 'IT General',\n",
    "               'IT Facilities': 'IT General',\n",
    "               'Operations': 'IT General',\n",
    "               'Communications': 'IT General',\n",
    "               'Integration': 'IT General',\n",
    "               'Vendor Management': 'IT General',\n",
    "               'Training': 'IT General',\n",
    "               'Business Continuity': 'IT General',\n",
    "               'Other': 'IT General',\n",
    "               'Development': 'Development',\n",
    "                'Security': 'Information Security',\n",
    "                    'Business Systems': 'Systems'}"
   ]
  },
  {
   "cell_type": "code",
   "execution_count": 5,
   "metadata": {},
   "outputs": [],
   "source": [
    "# Create dictionary for Job Level within all ICP functions\n",
    "replacements_level = {'Manager': 'Manager',\n",
    "                     'Contributor': 'Contributor',\n",
    "                      'contributor': 'Contributor',\n",
    "                     'Director': 'Director',\n",
    "                     'C-Level': 'C-level',\n",
    "                      'C-level': 'C-level',\n",
    "                     'Executive': 'Executive',\n",
    "                     'Unknown': pd.NA,\n",
    "                      'Non-Manager': 'Contributor',\n",
    "                      'VP-level': 'Executive',\n",
    "                      'VP-Level': 'Executive',\n",
    "                      'Decision maker': 'Manager',\n",
    "                      'Team Lead': 'Manager',\n",
    "                      'VP/Director': 'Director',\n",
    "                      'Engineer/Admin': 'Contributor',\n",
    "                      'CxO': 'C-level',\n",
    "                      'VP': 'Executive',\n",
    "                      'Director / C-Level': 'C-level',\n",
    "                      'Individual Contributor': 'Contributor',\n",
    "                      'Director Level': 'Director',\n",
    "                      'contribtuor': 'Contributor',\n",
    "                      'Management': 'Manager',\n",
    "                      'Director of Enterprise Cloud Business': 'Director',\n",
    "                      'Admin': 'Contributor'\n",
    "                     }"
   ]
  },
  {
   "cell_type": "code",
   "execution_count": 6,
   "metadata": {},
   "outputs": [],
   "source": [
    "def replace_role(row):\n",
    "    if pd.isnull(row['Job Function']): \n",
    "        return 'N/A'\n",
    "    elif 'IT' not in row['Job Function']:\n",
    "        return 'N/A'\n",
    "    else:\n",
    "        return row['Job Role']"
   ]
  },
  {
   "cell_type": "code",
   "execution_count": 24,
   "metadata": {},
   "outputs": [],
   "source": [
    "df = pd.read_csv('df_filtered.csv')\n",
    "df = df.applymap(lambda x: x.strip() if isinstance(x, str) else x)\n",
    "df['Job Function'] = df['Job Function'].replace(replacements)\n",
    "df['Job Function'] = df['Job Function'].fillna('Non-ICP')\n",
    "df['Job Role'] = df.apply(replace_role, axis=1)\n",
    "df['Job Level'] = df['Job Level'].replace(replacements_level)\n",
    "df.loc[df['Job Function']=='Non-ICP', 'Job Level'] = pd.NA\n",
    "df['Job Level'] = df['Job Level'].fillna(pd.NA)\n",
    "df = df.dropna(subset=['Job Level'])\n",
    "\n"
   ]
  },
  {
   "cell_type": "code",
   "execution_count": 33,
   "metadata": {},
   "outputs": [],
   "source": [
    "# Remove any stop words from the titles\n",
    "from gensim.parsing.preprocessing import remove_stopwords\n",
    "df['Title'] = df['Title'].apply(remove_stopwords)"
   ]
  },
  {
   "cell_type": "code",
   "execution_count": 34,
   "metadata": {},
   "outputs": [],
   "source": [
    "import gensim \n",
    "#Some more preprocessing that will remove punctuations. \n",
    "tokenised_titles = df['Title'].apply(gensim.utils.simple_preprocess)"
   ]
  },
  {
   "cell_type": "code",
   "execution_count": 35,
   "metadata": {},
   "outputs": [
    {
     "data": {
      "text/plain": [
       "0            [manager, cybersecurity]\n",
       "1    [manager, information, security]\n",
       "2         [user, experience, analyst]\n",
       "3               [network, specialist]\n",
       "4     [director, privacy, compliance]\n",
       "Name: Title, dtype: object"
      ]
     },
     "execution_count": 35,
     "metadata": {},
     "output_type": "execute_result"
    }
   ],
   "source": [
    "tokenised_titles.head()"
   ]
  },
  {
   "cell_type": "code",
   "execution_count": 36,
   "metadata": {},
   "outputs": [
    {
     "data": {
      "text/html": [
       "<div>\n",
       "<style scoped>\n",
       "    .dataframe tbody tr th:only-of-type {\n",
       "        vertical-align: middle;\n",
       "    }\n",
       "\n",
       "    .dataframe tbody tr th {\n",
       "        vertical-align: top;\n",
       "    }\n",
       "\n",
       "    .dataframe thead th {\n",
       "        text-align: right;\n",
       "    }\n",
       "</style>\n",
       "<table border=\"1\" class=\"dataframe\">\n",
       "  <thead>\n",
       "    <tr style=\"text-align: right;\">\n",
       "      <th></th>\n",
       "      <th>Title</th>\n",
       "      <th>Title_Tokens</th>\n",
       "      <th>Job Role</th>\n",
       "      <th>Job Function</th>\n",
       "      <th>Job Level</th>\n",
       "    </tr>\n",
       "  </thead>\n",
       "  <tbody>\n",
       "    <tr>\n",
       "      <th>0</th>\n",
       "      <td>manager-cybersecurity</td>\n",
       "      <td>[manager, cybersecurity]</td>\n",
       "      <td>Information Security</td>\n",
       "      <td>IT</td>\n",
       "      <td>Manager</td>\n",
       "    </tr>\n",
       "    <tr>\n",
       "      <th>1</th>\n",
       "      <td>manager, information security</td>\n",
       "      <td>[manager, information, security]</td>\n",
       "      <td>Information Security</td>\n",
       "      <td>IT</td>\n",
       "      <td>Manager</td>\n",
       "    </tr>\n",
       "    <tr>\n",
       "      <th>2</th>\n",
       "      <td>user experience analyst</td>\n",
       "      <td>[user, experience, analyst]</td>\n",
       "      <td>N/A</td>\n",
       "      <td>Engineering</td>\n",
       "      <td>Contributor</td>\n",
       "    </tr>\n",
       "    <tr>\n",
       "      <th>3</th>\n",
       "      <td>network specialist</td>\n",
       "      <td>[network, specialist]</td>\n",
       "      <td>Networking</td>\n",
       "      <td>IT</td>\n",
       "      <td>Contributor</td>\n",
       "    </tr>\n",
       "    <tr>\n",
       "      <th>4</th>\n",
       "      <td>director privacy compliance</td>\n",
       "      <td>[director, privacy, compliance]</td>\n",
       "      <td>Information Security</td>\n",
       "      <td>IT</td>\n",
       "      <td>Director</td>\n",
       "    </tr>\n",
       "  </tbody>\n",
       "</table>\n",
       "</div>"
      ],
      "text/plain": [
       "                           Title                      Title_Tokens  \\\n",
       "0          manager-cybersecurity          [manager, cybersecurity]   \n",
       "1  manager, information security  [manager, information, security]   \n",
       "2        user experience analyst       [user, experience, analyst]   \n",
       "3             network specialist             [network, specialist]   \n",
       "4    director privacy compliance   [director, privacy, compliance]   \n",
       "\n",
       "               Job Role Job Function    Job Level  \n",
       "0  Information Security           IT      Manager  \n",
       "1  Information Security           IT      Manager  \n",
       "2                   N/A  Engineering  Contributor  \n",
       "3            Networking           IT  Contributor  \n",
       "4  Information Security           IT     Director  "
      ]
     },
     "execution_count": 36,
     "metadata": {},
     "output_type": "execute_result"
    }
   ],
   "source": [
    "#add the tokens as a column in df\n",
    "df.insert(1, 'Title_Tokens', tokenised_titles)\n",
    "df.head()"
   ]
  },
  {
   "cell_type": "code",
   "execution_count": 37,
   "metadata": {},
   "outputs": [
    {
     "data": {
      "text/plain": [
       "(3574035, 8613425)"
      ]
     },
     "execution_count": 37,
     "metadata": {},
     "output_type": "execute_result"
    }
   ],
   "source": [
    "#initialize and train model to create word vectors\n",
    "model = gensim.models.Word2Vec(window=2,min_count=1, workers=4)\n",
    "model.build_vocab(df['Title_Tokens'])#this is a required step before training the model \n",
    "model.train(df['Title_Tokens'], total_examples=model.corpus_count, epochs=model.epochs) #default vector_size = 100\n"
   ]
  },
  {
   "cell_type": "code",
   "execution_count": 38,
   "metadata": {},
   "outputs": [
    {
     "data": {
      "text/plain": [
       "[('director', 0.7396880984306335),\n",
       " ('leader', 0.7161996960639954),\n",
       " ('supervisor', 0.676173210144043),\n",
       " ('lead', 0.6538949608802795),\n",
       " ('manger', 0.6534761190414429),\n",
       " ('manage', 0.6509885191917419),\n",
       " ('coordinator', 0.6432304382324219),\n",
       " ('mgr', 0.6425690650939941),\n",
       " ('specialist', 0.6325701475143433),\n",
       " ('analyst', 0.6188406348228455)]"
      ]
     },
     "execution_count": 38,
     "metadata": {},
     "output_type": "execute_result"
    }
   ],
   "source": [
    "model.wv.most_similar(\"manager\")"
   ]
  },
  {
   "cell_type": "code",
   "execution_count": 39,
   "metadata": {},
   "outputs": [
    {
     "data": {
      "text/plain": [
       "[('specialist', 0.822262704372406),\n",
       " ('analysts', 0.7638948559761047),\n",
       " ('analystè', 0.7218160033226013),\n",
       " ('mgr', 0.661284863948822),\n",
       " ('enginner', 0.6546992659568787),\n",
       " ('manger', 0.6518502235412598),\n",
       " ('intern', 0.6489644050598145),\n",
       " ('engineer', 0.6476449370384216),\n",
       " ('technician', 0.646087110042572),\n",
       " ('magento', 0.6405235528945923)]"
      ]
     },
     "execution_count": 39,
     "metadata": {},
     "output_type": "execute_result"
    }
   ],
   "source": [
    "model.wv.most_similar(\"analyst\")"
   ]
  },
  {
   "cell_type": "code",
   "execution_count": 40,
   "metadata": {},
   "outputs": [
    {
     "data": {
      "text/plain": [
       "[('noc', 0.6769733428955078),\n",
       " ('video', 0.6375817656517029),\n",
       " ('carrier', 0.6299111247062683),\n",
       " ('datacenter', 0.6148328185081482),\n",
       " ('ip', 0.6115643978118896),\n",
       " ('networks', 0.6115432381629944),\n",
       " ('construction', 0.6008782386779785),\n",
       " ('cyberdeense', 0.6006216406822205),\n",
       " ('maintenance', 0.5952282547950745),\n",
       " ('flight', 0.5790308117866516)]"
      ]
     },
     "execution_count": 40,
     "metadata": {},
     "output_type": "execute_result"
    }
   ],
   "source": [
    "model.wv.most_similar(\"network\")"
   ]
  },
  {
   "cell_type": "code",
   "execution_count": 41,
   "metadata": {},
   "outputs": [
    {
     "data": {
      "text/html": [
       "<div>\n",
       "<style scoped>\n",
       "    .dataframe tbody tr th:only-of-type {\n",
       "        vertical-align: middle;\n",
       "    }\n",
       "\n",
       "    .dataframe tbody tr th {\n",
       "        vertical-align: top;\n",
       "    }\n",
       "\n",
       "    .dataframe thead th {\n",
       "        text-align: right;\n",
       "    }\n",
       "</style>\n",
       "<table border=\"1\" class=\"dataframe\">\n",
       "  <thead>\n",
       "    <tr style=\"text-align: right;\">\n",
       "      <th></th>\n",
       "      <th>Title</th>\n",
       "      <th>Title_Tokens</th>\n",
       "      <th>Title_Vec</th>\n",
       "      <th>Job Role</th>\n",
       "      <th>Job Function</th>\n",
       "      <th>Job Level</th>\n",
       "    </tr>\n",
       "  </thead>\n",
       "  <tbody>\n",
       "    <tr>\n",
       "      <th>0</th>\n",
       "      <td>manager-cybersecurity</td>\n",
       "      <td>[manager, cybersecurity]</td>\n",
       "      <td>[0.16279401, 0.7852854, -0.57887846, -0.300722...</td>\n",
       "      <td>Information Security</td>\n",
       "      <td>IT</td>\n",
       "      <td>Manager</td>\n",
       "    </tr>\n",
       "    <tr>\n",
       "      <th>1</th>\n",
       "      <td>manager, information security</td>\n",
       "      <td>[manager, information, security]</td>\n",
       "      <td>[-0.58274347, 0.3675683, -0.20381153, -1.50329...</td>\n",
       "      <td>Information Security</td>\n",
       "      <td>IT</td>\n",
       "      <td>Manager</td>\n",
       "    </tr>\n",
       "    <tr>\n",
       "      <th>2</th>\n",
       "      <td>user experience analyst</td>\n",
       "      <td>[user, experience, analyst]</td>\n",
       "      <td>[-0.35012373, 0.25453788, -0.5823362, -2.70408...</td>\n",
       "      <td>N/A</td>\n",
       "      <td>Engineering</td>\n",
       "      <td>Contributor</td>\n",
       "    </tr>\n",
       "    <tr>\n",
       "      <th>3</th>\n",
       "      <td>network specialist</td>\n",
       "      <td>[network, specialist]</td>\n",
       "      <td>[-1.201381, 0.30538723, -0.57608116, -0.110826...</td>\n",
       "      <td>Networking</td>\n",
       "      <td>IT</td>\n",
       "      <td>Contributor</td>\n",
       "    </tr>\n",
       "    <tr>\n",
       "      <th>4</th>\n",
       "      <td>director privacy compliance</td>\n",
       "      <td>[director, privacy, compliance]</td>\n",
       "      <td>[-0.4904934, -0.32818222, -1.7037625, -1.49155...</td>\n",
       "      <td>Information Security</td>\n",
       "      <td>IT</td>\n",
       "      <td>Director</td>\n",
       "    </tr>\n",
       "  </tbody>\n",
       "</table>\n",
       "</div>"
      ],
      "text/plain": [
       "                           Title                      Title_Tokens  \\\n",
       "0          manager-cybersecurity          [manager, cybersecurity]   \n",
       "1  manager, information security  [manager, information, security]   \n",
       "2        user experience analyst       [user, experience, analyst]   \n",
       "3             network specialist             [network, specialist]   \n",
       "4    director privacy compliance   [director, privacy, compliance]   \n",
       "\n",
       "                                           Title_Vec              Job Role  \\\n",
       "0  [0.16279401, 0.7852854, -0.57887846, -0.300722...  Information Security   \n",
       "1  [-0.58274347, 0.3675683, -0.20381153, -1.50329...  Information Security   \n",
       "2  [-0.35012373, 0.25453788, -0.5823362, -2.70408...                   N/A   \n",
       "3  [-1.201381, 0.30538723, -0.57608116, -0.110826...            Networking   \n",
       "4  [-0.4904934, -0.32818222, -1.7037625, -1.49155...  Information Security   \n",
       "\n",
       "  Job Function    Job Level  \n",
       "0           IT      Manager  \n",
       "1           IT      Manager  \n",
       "2  Engineering  Contributor  \n",
       "3           IT  Contributor  \n",
       "4           IT     Director  "
      ]
     },
     "execution_count": 41,
     "metadata": {},
     "output_type": "execute_result"
    }
   ],
   "source": [
    "import numpy as np\n",
    "\n",
    "#below function creates a vector for a title by adding the vector of each word in it\n",
    "def get_title_vec(title_tokens):\n",
    "    if len(title_tokens) == 0:\n",
    "        return np.zeros(100)\n",
    "\n",
    "    # create a list of vectors of all the tokens in a title\n",
    "    vectors = [ model.wv[token] for token in title_tokens]\n",
    "    #sum all the vectors in the list\n",
    "    return np.sum(vectors, axis=0)\n",
    "\n",
    "title_vecs = df['Title_Tokens'].map(get_title_vec)\n",
    "#Add title vecs as a column in df \n",
    "df.insert(2, 'Title_Vec', title_vecs)\n",
    "df.head()\n",
    "\n"
   ]
  },
  {
   "cell_type": "code",
   "execution_count": 42,
   "metadata": {},
   "outputs": [
    {
     "name": "stderr",
     "output_type": "stream",
     "text": [
      "c:\\Users\\rajat\\Anaconda3\\lib\\site-packages\\ipykernel_launcher.py:6: SettingWithCopyWarning: \n",
      "A value is trying to be set on a copy of a slice from a DataFrame.\n",
      "Try using .loc[row_indexer,col_indexer] = value instead\n",
      "\n",
      "See the caveats in the documentation: https://pandas.pydata.org/pandas-docs/stable/user_guide/indexing.html#returning-a-view-versus-a-copy\n",
      "  \n",
      "c:\\Users\\rajat\\Anaconda3\\lib\\site-packages\\ipykernel_launcher.py:7: SettingWithCopyWarning: \n",
      "A value is trying to be set on a copy of a slice from a DataFrame.\n",
      "Try using .loc[row_indexer,col_indexer] = value instead\n",
      "\n",
      "See the caveats in the documentation: https://pandas.pydata.org/pandas-docs/stable/user_guide/indexing.html#returning-a-view-versus-a-copy\n",
      "  import sys\n"
     ]
    }
   ],
   "source": [
    "#create training and validation sets for FUNCTION, ROLE, LEVEL for training/crossvalidating classification models \n",
    "from sklearn.model_selection import train_test_split\n",
    "\n",
    "trainX,validX,trainy,validy = train_test_split(df['Title_Vec'], df['Job Function'],train_size=0.80,random_state=123)\n",
    "\n",
    "it_function = df[df['Job Function'].str.contains('IT')]\n",
    "it_function['Job Role'] = it_function['Job Role'].replace(replacements_role)\n",
    "it_function['Job Role'] = it_function['Job Role'].fillna('IT General')\n",
    "trainX_role, validX_role, trainy_role, validy_role = train_test_split(it_function['Title_Vec'], it_function['Job Role'], train_size=0.80, random_state=123)\n",
    "trainX_level, validX_level, trainy_level, validy_level = train_test_split(it_function['Title_Vec'], it_function['Job Level'], train_size=0.80, random_state=123)\n"
   ]
  },
  {
   "cell_type": "code",
   "execution_count": 20,
   "metadata": {},
   "outputs": [
    {
     "name": "stderr",
     "output_type": "stream",
     "text": [
      "c:\\Users\\rajat\\Anaconda3\\lib\\site-packages\\sklearn\\model_selection\\_search.py:281: UserWarning: The total space of parameters 4 is smaller than n_iter=10. Running 4 iterations. For exhaustive searches, use GridSearchCV.\n",
      "  % (grid_size, self.n_iter, grid_size), UserWarning)\n"
     ]
    },
    {
     "name": "stdout",
     "output_type": "stream",
     "text": [
      "Classification Report with hold-out sample for best fit of NBC model:...\n",
      "\n",
      "                       precision    recall  f1-score   support\n",
      "\n",
      "          Engineering       0.17      0.88      0.29      9123\n",
      "                   IT       0.91      0.52      0.66     88874\n",
      "              Non-ICP       0.47      0.23      0.31     11682\n",
      "          Procurement       0.04      0.68      0.08       222\n",
      "Risk/Legal/Compliance       0.02      0.47      0.04       176\n",
      "\n",
      "             accuracy                           0.52    110077\n",
      "            macro avg       0.33      0.56      0.28    110077\n",
      "         weighted avg       0.80      0.52      0.59    110077\n",
      "\n",
      "------------------------------------------------------\n",
      "Best estmator for NBC model for JOB FUNCTION: GaussianNB(priors=None, var_smoothing=0.1)\n"
     ]
    }
   ],
   "source": [
    "# Start with Bayes Naive Classifier to determine Job Function \n",
    "from sklearn.naive_bayes import GaussianNB as NBC\n",
    "from sklearn.model_selection import RandomizedSearchCV\n",
    "from sklearn.metrics import confusion_matrix, classification_report\n",
    "from sklearn.model_selection import RandomizedSearchCV\n",
    "\n",
    "nbc = NBC()\n",
    "# Parameters to tune for NBC\n",
    "nbc_params = {'var_smoothing': [0.1, 0.5, 1.0, 2.0]}\n",
    "\n",
    "rand_search_nbc = RandomizedSearchCV(NBC(),nbc_params, # positional arguments, model and parameter grid\n",
    "                                    n_iter=10,\n",
    "                                    scoring='f1_macro', \n",
    "                                    cv=5,\n",
    "                                    random_state=123,\n",
    "                                    n_jobs=-1)\n",
    "\n",
    "rand_search_nbc.fit(trainX.tolist(),trainy)\n",
    "print(f\"Classification Report with hold-out sample for best fit of NBC model:...\\n\")\n",
    "print(classification_report(validy,rand_search_nbc.predict(validX.tolist())))\n",
    "print(\"------------------------------------------------------\")\n",
    "print(\"Best estmator for NBC model for JOB FUNCTION: {}\".format(rand_search_nbc.best_estimator_), )"
   ]
  },
  {
   "cell_type": "code",
   "execution_count": 49,
   "metadata": {},
   "outputs": [
    {
     "name": "stderr",
     "output_type": "stream",
     "text": [
      "c:\\Users\\rajat\\Anaconda3\\lib\\site-packages\\sklearn\\model_selection\\_search.py:281: UserWarning: The total space of parameters 4 is smaller than n_iter=10. Running 4 iterations. For exhaustive searches, use GridSearchCV.\n",
      "  % (grid_size, self.n_iter, grid_size), UserWarning)\n",
      "c:\\Users\\rajat\\Anaconda3\\lib\\site-packages\\joblib\\externals\\loky\\process_executor.py:706: UserWarning: A worker stopped while some jobs were given to the executor. This can be caused by a too short worker timeout or by a memory leak.\n",
      "  \"timeout or by a memory leak.\", UserWarning\n"
     ]
    },
    {
     "name": "stdout",
     "output_type": "stream",
     "text": [
      "  Report with hold-out sample for best fit of NBC model:...\n",
      "\n",
      "                      precision    recall  f1-score   support\n",
      "\n",
      "         Development       0.15      0.28      0.19      1982\n",
      "          IT General       0.38      0.15      0.21     14579\n",
      "Information Security       0.75      0.47      0.58     39367\n",
      "          Networking       0.49      0.83      0.61     29474\n",
      "             Systems       0.23      0.36      0.28      1984\n",
      "\n",
      "            accuracy                           0.53     87386\n",
      "           macro avg       0.40      0.42      0.38     87386\n",
      "        weighted avg       0.57      0.53      0.51     87386\n",
      "\n",
      "------------------------------------------------------\n",
      "Best estmator for NBC model for JOB ROLE: GaussianNB(priors=None, var_smoothing=0.1)\n"
     ]
    }
   ],
   "source": [
    "rand_search_nbc_role = RandomizedSearchCV(NBC(),nbc_params, # positional arguments, model and parameter grid\n",
    "                                    n_iter=10,\n",
    "                                    scoring='f1_macro', \n",
    "                                    cv=5,\n",
    "                                    random_state=123,\n",
    "                                    n_jobs=-1)\n",
    "    \n",
    "rand_search_nbc_role.fit(trainX_role.tolist(),trainy_role)\n",
    "print(f\"  Report with hold-out sample for best fit of NBC model:...\\n\")\n",
    "print(classification_report(validy_role,rand_search_nbc_role.predict(validX_role.tolist())))\n",
    "print(\"------------------------------------------------------\")\n",
    "print(\"Best estmator for NBC model for JOB ROLE: {}\".format(rand_search_nbc_role.best_estimator_), )"
   ]
  },
  {
   "cell_type": "code",
   "execution_count": 50,
   "metadata": {},
   "outputs": [
    {
     "name": "stderr",
     "output_type": "stream",
     "text": [
      "c:\\Users\\rajat\\Anaconda3\\lib\\site-packages\\sklearn\\model_selection\\_search.py:281: UserWarning: The total space of parameters 4 is smaller than n_iter=10. Running 4 iterations. For exhaustive searches, use GridSearchCV.\n",
      "  % (grid_size, self.n_iter, grid_size), UserWarning)\n"
     ]
    },
    {
     "name": "stdout",
     "output_type": "stream",
     "text": [
      "  Report with hold-out sample for best fit of NBC model:...\n",
      "\n",
      "              precision    recall  f1-score   support\n",
      "\n",
      "     C-level       0.71      0.82      0.76      9497\n",
      " Contributor       0.81      0.86      0.84     28226\n",
      "    Director       0.78      0.85      0.82     18855\n",
      "   Executive       0.54      0.41      0.46     11641\n",
      "     Manager       0.87      0.78      0.82     19167\n",
      "\n",
      "    accuracy                           0.78     87386\n",
      "   macro avg       0.74      0.74      0.74     87386\n",
      "weighted avg       0.77      0.78      0.77     87386\n",
      "\n",
      "------------------------------------------------------\n",
      "Best estmator for NBC model for JOB LEVEL: GaussianNB(priors=None, var_smoothing=0.1)\n"
     ]
    }
   ],
   "source": [
    "rand_search_nbc_level = RandomizedSearchCV(NBC(),nbc_params, # positional arguments, model and parameter grid\n",
    "                                    n_iter=10,\n",
    "                                    scoring='f1_macro', \n",
    "                                    cv=5,\n",
    "                                    random_state=123,\n",
    "                                    n_jobs=-1)\n",
    "    \n",
    "rand_search_nbc_level.fit(trainX_level.tolist(),trainy_level)\n",
    "print(f\"  Report with hold-out sample for best fit of NBC model:...\\n\")\n",
    "print(classification_report(validy_level,rand_search_nbc_level.predict(validX_level.tolist())))\n",
    "print(\"------------------------------------------------------\")\n",
    "print(\"Best estmator for NBC model for JOB LEVEL: {}\".format(rand_search_nbc_level.best_estimator_), )"
   ]
  },
  {
   "cell_type": "code",
   "execution_count": 22,
   "metadata": {},
   "outputs": [
    {
     "name": "stdout",
     "output_type": "stream",
     "text": [
      "Classification Report with hold-out sample for best fit of DTC model:...\n",
      "\n",
      "                       precision    recall  f1-score   support\n",
      "\n",
      "          Engineering       0.87      0.92      0.89      9123\n",
      "                   IT       0.97      0.97      0.97     88874\n",
      "              Non-ICP       0.84      0.83      0.83     11682\n",
      "          Procurement       0.63      0.66      0.64       222\n",
      "Risk/Legal/Compliance       0.71      0.77      0.74       176\n",
      "\n",
      "             accuracy                           0.95    110077\n",
      "            macro avg       0.80      0.83      0.81    110077\n",
      "         weighted avg       0.95      0.95      0.95    110077\n",
      "\n",
      "------------------------------------------------------\n",
      "Best estmator for DTC model for JOB FUNCTION: DecisionTreeClassifier(ccp_alpha=0.0, class_weight=None, criterion='gini',\n",
      "                       max_depth=50, max_features='log2', max_leaf_nodes=None,\n",
      "                       min_impurity_decrease=0.0, min_impurity_split=None,\n",
      "                       min_samples_leaf=1, min_samples_split=2,\n",
      "                       min_weight_fraction_leaf=0.0, presort='deprecated',\n",
      "                       random_state=123, splitter='best')\n"
     ]
    }
   ],
   "source": [
    "from sklearn.tree import DecisionTreeClassifier as DTC\n",
    "\n",
    "dt_params = {'criterion':['gini'],\n",
    "             'max_depth':[10, 20, 50],\n",
    "             'min_samples_split':[2,5,10], # required to split\n",
    "             'max_features':['sqrt','log2'],\n",
    "             'random_state':[123]\n",
    "            }\n",
    "\n",
    "rand_search_DTC = RandomizedSearchCV(DTC(),dt_params, # positional arguments, model and parameter grid\n",
    "                                    n_iter=10,\n",
    "                                    scoring='f1_macro', \n",
    "                                    cv=5,\n",
    "                                    random_state=123,\n",
    "                                    n_jobs=-1)\n",
    "    \n",
    "rand_search_DTC.fit(trainX.tolist(),trainy)\n",
    "print(f\"Classification Report with hold-out sample for best fit of DTC model:...\\n\")\n",
    "print(classification_report(validy,rand_search_DTC.predict(validX.tolist())))\n",
    "print(\"------------------------------------------------------\")\n",
    "print(\"Best estmator for DTC model for JOB FUNCTION: {}\".format( rand_search_DTC.best_estimator_), )\n",
    "    "
   ]
  },
  {
   "cell_type": "code",
   "execution_count": 55,
   "metadata": {},
   "outputs": [
    {
     "name": "stdout",
     "output_type": "stream",
     "text": [
      "  Report with hold-out sample for best fit of DTC model:...\n",
      "\n",
      "                      precision    recall  f1-score   support\n",
      "\n",
      "         Development       0.71      0.71      0.71      1982\n",
      "          IT General       0.79      0.61      0.69     14579\n",
      "Information Security       0.89      0.90      0.89     39367\n",
      "          Networking       0.85      0.94      0.89     29474\n",
      "             Systems       0.74      0.66      0.70      1984\n",
      "\n",
      "            accuracy                           0.85     87386\n",
      "           macro avg       0.80      0.76      0.78     87386\n",
      "        weighted avg       0.85      0.85      0.85     87386\n",
      "\n",
      "------------------------------------------------------\n",
      "Best estmator for DTC model for JOB ROLE: DecisionTreeClassifier(ccp_alpha=0.0, class_weight=None, criterion='gini',\n",
      "                       max_depth=50, max_features='log2', max_leaf_nodes=None,\n",
      "                       min_impurity_decrease=0.0, min_impurity_split=None,\n",
      "                       min_samples_leaf=1, min_samples_split=2,\n",
      "                       min_weight_fraction_leaf=0.0, presort='deprecated',\n",
      "                       random_state=123, splitter='best')\n"
     ]
    }
   ],
   "source": [
    "rand_search_dtc_role = RandomizedSearchCV(DTC(),dt_params, # positional arguments, model and parameter grid\n",
    "                                    n_iter=10,\n",
    "                                    scoring='f1_macro', \n",
    "                                    cv=5,\n",
    "                                    random_state=123,\n",
    "                                    n_jobs=-1)\n",
    "    \n",
    "rand_search_dtc_role.fit(trainX_role.tolist(),trainy_role)\n",
    "print(f\"  Report with hold-out sample for best fit of DTC model:...\\n\")\n",
    "print(classification_report(validy_role,rand_search_dtc_role.predict(validX_role.tolist())))\n",
    "print(\"------------------------------------------------------\")\n",
    "print(\"Best estmator for DTC model for JOB ROLE: {}\".format(rand_search_dtc_role.best_estimator_), )"
   ]
  },
  {
   "cell_type": "code",
   "execution_count": 56,
   "metadata": {},
   "outputs": [
    {
     "name": "stderr",
     "output_type": "stream",
     "text": [
      "c:\\Users\\rajat\\Anaconda3\\lib\\site-packages\\joblib\\externals\\loky\\process_executor.py:706: UserWarning: A worker stopped while some jobs were given to the executor. This can be caused by a too short worker timeout or by a memory leak.\n",
      "  \"timeout or by a memory leak.\", UserWarning\n"
     ]
    },
    {
     "name": "stdout",
     "output_type": "stream",
     "text": [
      "  Report with hold-out sample for best fit of DTC model:...\n",
      "\n",
      "              precision    recall  f1-score   support\n",
      "\n",
      "     C-level       0.93      0.93      0.93      9497\n",
      " Contributor       0.95      0.95      0.95     28226\n",
      "    Director       0.95      0.95      0.95     18855\n",
      "   Executive       0.92      0.92      0.92     11641\n",
      "     Manager       0.94      0.93      0.94     19167\n",
      "\n",
      "    accuracy                           0.94     87386\n",
      "   macro avg       0.94      0.94      0.94     87386\n",
      "weighted avg       0.94      0.94      0.94     87386\n",
      "\n",
      "------------------------------------------------------\n",
      "Best estmator for DTC model for JOB LEVEL: DecisionTreeClassifier(ccp_alpha=0.0, class_weight=None, criterion='gini',\n",
      "                       max_depth=50, max_features='log2', max_leaf_nodes=None,\n",
      "                       min_impurity_decrease=0.0, min_impurity_split=None,\n",
      "                       min_samples_leaf=1, min_samples_split=2,\n",
      "                       min_weight_fraction_leaf=0.0, presort='deprecated',\n",
      "                       random_state=123, splitter='best')\n"
     ]
    }
   ],
   "source": [
    "rand_search_dtc_level = RandomizedSearchCV(DTC(),dt_params, # positional arguments, model and parameter grid\n",
    "                                    n_iter=10,\n",
    "                                    scoring='f1_macro', \n",
    "                                    cv=5,\n",
    "                                    random_state=123,\n",
    "                                    n_jobs=-1)\n",
    "    \n",
    "rand_search_dtc_level.fit(trainX_level.tolist(),trainy_level)\n",
    "print(f\"  Report with hold-out sample for best fit of DTC model:...\\n\")\n",
    "print(classification_report(validy_level,rand_search_dtc_level.predict(validX_level.tolist())))\n",
    "print(\"------------------------------------------------------\")\n",
    "print(\"Best estmator for DTC model for JOB LEVEL: {}\".format(rand_search_dtc_level.best_estimator_), )"
   ]
  },
  {
   "cell_type": "code",
   "execution_count": 30,
   "metadata": {},
   "outputs": [],
   "source": [
    "rf_params = {'n_estimators':[10,25],\n",
    "             'criterion':['gini'],\n",
    "             'max_depth':[10, 20, 50],\n",
    "             'min_samples_split':[2,5,10], # required to split\n",
    "             'max_features':['sqrt','log2'],\n",
    "             'max_samples':[0.10,0.50],\n",
    "             'random_state':[123]\n",
    "            }"
   ]
  },
  {
   "cell_type": "code",
   "execution_count": 24,
   "metadata": {},
   "outputs": [
    {
     "name": "stderr",
     "output_type": "stream",
     "text": [
      "c:\\Users\\rajat\\Anaconda3\\lib\\site-packages\\joblib\\externals\\loky\\process_executor.py:706: UserWarning: A worker stopped while some jobs were given to the executor. This can be caused by a too short worker timeout or by a memory leak.\n",
      "  \"timeout or by a memory leak.\", UserWarning\n"
     ]
    },
    {
     "name": "stdout",
     "output_type": "stream",
     "text": [
      "Classification Report with hold-out sample for best fit of rfc model:...\n",
      "\n",
      "                       precision    recall  f1-score   support\n",
      "\n",
      "          Engineering       0.92      0.91      0.91      9123\n",
      "                   IT       0.96      0.98      0.97     88874\n",
      "              Non-ICP       0.90      0.79      0.84     11682\n",
      "          Procurement       0.83      0.57      0.68       222\n",
      "Risk/Legal/Compliance       0.97      0.71      0.82       176\n",
      "\n",
      "             accuracy                           0.95    110077\n",
      "            macro avg       0.92      0.79      0.84    110077\n",
      "         weighted avg       0.95      0.95      0.95    110077\n",
      "\n",
      "------------------------------------------------------\n",
      "Best estmator for RFC model for JOB FUNCTION: RandomForestClassifier(bootstrap=True, ccp_alpha=0.0, class_weight=None,\n",
      "                       criterion='gini', max_depth=50, max_features='sqrt',\n",
      "                       max_leaf_nodes=None, max_samples=0.5,\n",
      "                       min_impurity_decrease=0.0, min_impurity_split=None,\n",
      "                       min_samples_leaf=1, min_samples_split=2,\n",
      "                       min_weight_fraction_leaf=0.0, n_estimators=10,\n",
      "                       n_jobs=None, oob_score=False, random_state=123,\n",
      "                       verbose=0, warm_start=False)\n"
     ]
    }
   ],
   "source": [
    "from sklearn.ensemble import RandomForestClassifier as RFC\n",
    "\n",
    "rand_search_rfc_function = RandomizedSearchCV(RFC(),rf_params, # positional arguments, model and parameter grid\n",
    "                                    n_iter=10,\n",
    "                                    scoring='f1_macro', \n",
    "                                    cv=5,\n",
    "                                    random_state=123,\n",
    "                                    n_jobs=-1)\n",
    "    \n",
    "rand_search_rfc_function.fit(trainX.tolist(),trainy)\n",
    "print(f\"Classification Report with hold-out sample for best fit of rfc model:...\\n\")\n",
    "print(classification_report(validy,rand_search_rfc_function.predict(validX.tolist())))\n",
    "print(\"------------------------------------------------------\")\n",
    "print(\"Best estmator for RFC model for JOB FUNCTION: {}\".format(rand_search_rfc_function.best_estimator_), )"
   ]
  },
  {
   "cell_type": "code",
   "execution_count": 25,
   "metadata": {},
   "outputs": [
    {
     "name": "stdout",
     "output_type": "stream",
     "text": [
      "  Report with hold-out sample for best fit of RFC model:...\n",
      "\n",
      "                      precision    recall  f1-score   support\n",
      "\n",
      "         Development       0.81      0.69      0.74      2067\n",
      "          IT General       0.81      0.60      0.69     14611\n",
      "Information Security       0.88      0.90      0.89     40182\n",
      "          Networking       0.85      0.95      0.90     29988\n",
      "             Systems       0.87      0.61      0.71      2019\n",
      "\n",
      "            accuracy                           0.86     88867\n",
      "           macro avg       0.84      0.75      0.79     88867\n",
      "        weighted avg       0.86      0.86      0.85     88867\n",
      "\n",
      "------------------------------------------------------\n",
      "Best estmator for RFC model for JOB ROLE: RandomForestClassifier(bootstrap=True, ccp_alpha=0.0, class_weight=None,\n",
      "                       criterion='gini', max_depth=50, max_features='sqrt',\n",
      "                       max_leaf_nodes=None, max_samples=0.5,\n",
      "                       min_impurity_decrease=0.0, min_impurity_split=None,\n",
      "                       min_samples_leaf=1, min_samples_split=2,\n",
      "                       min_weight_fraction_leaf=0.0, n_estimators=10,\n",
      "                       n_jobs=None, oob_score=False, random_state=123,\n",
      "                       verbose=0, warm_start=False)\n"
     ]
    }
   ],
   "source": [
    "rand_search_rfc_role = RandomizedSearchCV(RFC(),rf_params, # positional arguments, model and parameter grid\n",
    "                                    n_iter=10,\n",
    "                                    scoring='f1_macro', \n",
    "                                    cv=5,\n",
    "                                    random_state=123,\n",
    "                                    n_jobs=-1)\n",
    "    \n",
    "rand_search_rfc_role.fit(trainX_role.tolist(),trainy_role)\n",
    "print(f\"  Report with hold-out sample for best fit of RFC model:...\\n\")\n",
    "print(classification_report(validy_role,rand_search_rfc_role.predict(validX_role.tolist())))\n",
    "print(\"------------------------------------------------------\")\n",
    "print(\"Best estmator for RFC model for JOB ROLE: {}\".format(rand_search_rfc_role.best_estimator_), )"
   ]
  },
  {
   "cell_type": "code",
   "execution_count": 44,
   "metadata": {},
   "outputs": [
    {
     "name": "stdout",
     "output_type": "stream",
     "text": [
      "  Report with hold-out sample for best fit of RFC model:...\n",
      "\n",
      "              precision    recall  f1-score   support\n",
      "\n",
      "     C-level       0.94      0.93      0.94      9497\n",
      " Contributor       0.96      0.96      0.96     28226\n",
      "    Director       0.96      0.97      0.96     18855\n",
      "   Executive       0.94      0.93      0.94     11641\n",
      "     Manager       0.95      0.96      0.96     19167\n",
      "\n",
      "    accuracy                           0.95     87386\n",
      "   macro avg       0.95      0.95      0.95     87386\n",
      "weighted avg       0.95      0.95      0.95     87386\n",
      "\n",
      "------------------------------------------------------\n",
      "Best estmator for RFC model for JOB LEVEL: RandomForestClassifier(bootstrap=True, ccp_alpha=0.0, class_weight=None,\n",
      "                       criterion='gini', max_depth=50, max_features='log2',\n",
      "                       max_leaf_nodes=None, max_samples=0.5,\n",
      "                       min_impurity_decrease=0.0, min_impurity_split=None,\n",
      "                       min_samples_leaf=1, min_samples_split=10,\n",
      "                       min_weight_fraction_leaf=0.0, n_estimators=25,\n",
      "                       n_jobs=None, oob_score=False, random_state=123,\n",
      "                       verbose=0, warm_start=False)\n"
     ]
    }
   ],
   "source": [
    "\n",
    "rand_search_rfc_level = RandomizedSearchCV(RFC(),rf_params, # positional arguments, model and parameter grid\n",
    "                                    n_iter=10,\n",
    "                                    scoring='f1_macro', \n",
    "                                    cv=5,\n",
    "                                    random_state=123,\n",
    "                                    n_jobs=-1)\n",
    "    \n",
    "rand_search_rfc_level.fit(trainX_level.tolist(),trainy_level)\n",
    "print(f\"  Report with hold-out sample for best fit of RFC model:...\\n\")\n",
    "print(classification_report(validy_level,rand_search_rfc_level.predict(validX_level.tolist())))\n",
    "print(\"------------------------------------------------------\")\n",
    "print(\"Best estmator for RFC model for JOB LEVEL: {}\".format(rand_search_rfc_level.best_estimator_), )"
   ]
  }
 ],
 "metadata": {
  "kernelspec": {
   "display_name": "Python 3",
   "language": "python",
   "name": "python3"
  },
  "language_info": {
   "codemirror_mode": {
    "name": "ipython",
    "version": 3
   },
   "file_extension": ".py",
   "mimetype": "text/x-python",
   "name": "python",
   "nbconvert_exporter": "python",
   "pygments_lexer": "ipython3",
   "version": "3.7.4"
  }
 },
 "nbformat": 4,
 "nbformat_minor": 2
}
