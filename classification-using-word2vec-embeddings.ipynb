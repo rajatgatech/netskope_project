{
 "cells": [
  {
   "cell_type": "code",
   "execution_count": 64,
   "metadata": {},
   "outputs": [],
   "source": [
    "import pandas as pd"
   ]
  },
  {
   "cell_type": "code",
   "execution_count": 65,
   "metadata": {},
   "outputs": [],
   "source": [
    "replacements = {'IT Audit / IT Compliance': 'Risk/Legal/Compliance',\n",
    "               'IT': 'IT',\n",
    "               'Engineering': 'Engineering',\n",
    "               'Purchasing': 'Procurement',\n",
    "               'Legal': 'Risk/Legal/Compliance',\n",
    "               'Finance': 'Non-ICP',\n",
    "               'Marketing': 'Non-ICP',\n",
    "               'Sales': 'Non-ICP',\n",
    "               'Unknown': 'Non-ICP',\n",
    "               'Facilities': 'Non-ICP',\n",
    "               'Human Resource': 'Non-ICP',\n",
    "               'Management': 'Non-ICP',\n",
    "               'Services': 'Non-ICP',\n",
    "               'Operations': 'Non-ICP',\n",
    "               'Administration': 'Non-ICP',\n",
    "               'Corporate': 'Non-ICP',\n",
    "               'Support': 'Non-ICP',\n",
    "               'Education': 'Non-ICP',\n",
    "               'Public Sector': 'Non-ICP',\n",
    "               'Procurement': 'Procurement',\n",
    "               'Medical': 'Non-ICP',\n",
    "               'Other': 'Non-ICP',\n",
    "               'IT Audit / IT Compliance': 'Risk/Legal/Compliance',\n",
    "               'Information Security': 'IT',\n",
    "               'IT - Security': 'IT',\n",
    "               'Help Desk / Desktop Services': 'IT',\n",
    "               'Information Technology': 'IT',\n",
    "               'Infrastructure': 'Non-ICP',\n",
    "               'Customer Service / Support': 'Non-ICP',\n",
    "               'Emerging Technology / Innovation': 'IT'}"
   ]
  },
  {
   "cell_type": "code",
   "execution_count": 66,
   "metadata": {},
   "outputs": [],
   "source": [
    "# Create dictionary for Job Role within IT function\n",
    "replacements_role = {'Information Security': 'Information Security',\n",
    "               'information security': 'Information Security',\n",
    "               'Networking': 'Networking',\n",
    "               'IT General': 'IT General',\n",
    "               'None Technical': 'IT General',\n",
    "               'Help Desk': 'IT General',\n",
    "               'Governance Risk Compliance': 'IT General',\n",
    "               'Program Management': 'IT General',\n",
    "               'Data': 'IT General',\n",
    "               'IT Facilities': 'IT General',\n",
    "               'Operations': 'IT General',\n",
    "               'Communications': 'IT General',\n",
    "               'Integration': 'IT General',\n",
    "               'Vendor Management': 'IT General',\n",
    "               'Training': 'IT General',\n",
    "               'Business Continuity': 'IT General',\n",
    "               'Other': 'IT General',\n",
    "               'Development': 'Development',\n",
    "                'Security': 'Information Security',\n",
    "                    'Business Systems': 'Systems'}"
   ]
  },
  {
   "cell_type": "code",
   "execution_count": 67,
   "metadata": {},
   "outputs": [],
   "source": [
    "# Create dictionary for Job Level within all ICP functions\n",
    "replacements_level = {'Manager': 'Manager',\n",
    "                     'Contributor': 'Contributor',\n",
    "                      'contributor': 'Contributor',\n",
    "                     'Director': 'Director',\n",
    "                     'C-Level': 'C-level',\n",
    "                      'C-level': 'C-level',\n",
    "                     'Executive': 'Executive',\n",
    "                     'Unknown': pd.NA,\n",
    "                      'Non-Manager': 'Contributor',\n",
    "                      'VP-level': 'Executive',\n",
    "                      'VP-Level': 'Executive',\n",
    "                      'Decision maker': 'Manager',\n",
    "                      'Team Lead': 'Manager',\n",
    "                      'VP/Director': 'Director',\n",
    "                      'Engineer/Admin': 'Contributor',\n",
    "                      'CxO': 'C-level',\n",
    "                      'VP': 'Executive',\n",
    "                      'Director / C-Level': 'C-level',\n",
    "                      'Individual Contributor': 'Contributor',\n",
    "                      'Director Level': 'Director',\n",
    "                      'contribtuor': 'Contributor',\n",
    "                      'Management': 'Manager',\n",
    "                      'Director of Enterprise Cloud Business': 'Director',\n",
    "                      'Admin': 'Contributor'\n",
    "                     }"
   ]
  },
  {
   "cell_type": "code",
   "execution_count": 68,
   "metadata": {},
   "outputs": [],
   "source": [
    "def replace_role(row):\n",
    "    if pd.isnull(row['Job Function']): \n",
    "        return 'N/A'\n",
    "    elif 'IT' not in row['Job Function']:\n",
    "        return 'N/A'\n",
    "    else:\n",
    "        return row['Job Role']"
   ]
  },
  {
   "cell_type": "code",
   "execution_count": 69,
   "metadata": {},
   "outputs": [],
   "source": [
    "df = pd.read_csv('df_filtered.csv')\n",
    "df = df.applymap(lambda x: x.strip() if isinstance(x, str) else x)\n",
    "df['Job Function'] = df['Job Function'].replace(replacements)\n",
    "df['Job Function'] = df['Job Function'].fillna('Non-ICP')\n",
    "df['Job Role'] = df.apply(replace_role, axis=1)\n",
    "df['Job Level'] = df['Job Level'].replace(replacements_level)\n",
    "df.loc[df['Job Function']=='Non-ICP', 'Job Level'] = pd.NA\n",
    "df['Job Level'] = df['Job Level'].fillna(pd.NA)\n",
    "df = df.dropna(subset=['Job Level'])\n",
    "\n"
   ]
  },
  {
   "cell_type": "code",
   "execution_count": 70,
   "metadata": {},
   "outputs": [],
   "source": [
    "# Remove any stop words from the titles\n",
    "from gensim.parsing.preprocessing import remove_stopwords\n",
    "df['Title'] = df['Title'].apply(remove_stopwords)"
   ]
  },
  {
   "cell_type": "code",
   "execution_count": 71,
   "metadata": {},
   "outputs": [],
   "source": [
    "import gensim \n",
    "#Some more preprocessing that will remove punctuations. \n",
    "tokenised_titles = df['Title'].apply(gensim.utils.simple_preprocess)"
   ]
  },
  {
   "cell_type": "code",
   "execution_count": 72,
   "metadata": {},
   "outputs": [
    {
     "data": {
      "text/plain": [
       "0            [manager, cybersecurity]\n",
       "1    [manager, information, security]\n",
       "2         [user, experience, analyst]\n",
       "3               [network, specialist]\n",
       "4     [director, privacy, compliance]\n",
       "Name: Title, dtype: object"
      ]
     },
     "execution_count": 72,
     "metadata": {},
     "output_type": "execute_result"
    }
   ],
   "source": [
    "tokenised_titles.head()"
   ]
  },
  {
   "cell_type": "code",
   "execution_count": 73,
   "metadata": {},
   "outputs": [
    {
     "data": {
      "text/html": [
       "<div>\n",
       "<style scoped>\n",
       "    .dataframe tbody tr th:only-of-type {\n",
       "        vertical-align: middle;\n",
       "    }\n",
       "\n",
       "    .dataframe tbody tr th {\n",
       "        vertical-align: top;\n",
       "    }\n",
       "\n",
       "    .dataframe thead th {\n",
       "        text-align: right;\n",
       "    }\n",
       "</style>\n",
       "<table border=\"1\" class=\"dataframe\">\n",
       "  <thead>\n",
       "    <tr style=\"text-align: right;\">\n",
       "      <th></th>\n",
       "      <th>Title</th>\n",
       "      <th>Title_Tokens</th>\n",
       "      <th>Job Role</th>\n",
       "      <th>Job Function</th>\n",
       "      <th>Job Level</th>\n",
       "    </tr>\n",
       "  </thead>\n",
       "  <tbody>\n",
       "    <tr>\n",
       "      <th>0</th>\n",
       "      <td>manager-cybersecurity</td>\n",
       "      <td>[manager, cybersecurity]</td>\n",
       "      <td>Information Security</td>\n",
       "      <td>IT</td>\n",
       "      <td>Manager</td>\n",
       "    </tr>\n",
       "    <tr>\n",
       "      <th>1</th>\n",
       "      <td>manager, information security</td>\n",
       "      <td>[manager, information, security]</td>\n",
       "      <td>Information Security</td>\n",
       "      <td>IT</td>\n",
       "      <td>Manager</td>\n",
       "    </tr>\n",
       "    <tr>\n",
       "      <th>2</th>\n",
       "      <td>user experience analyst</td>\n",
       "      <td>[user, experience, analyst]</td>\n",
       "      <td>N/A</td>\n",
       "      <td>Engineering</td>\n",
       "      <td>Contributor</td>\n",
       "    </tr>\n",
       "    <tr>\n",
       "      <th>3</th>\n",
       "      <td>network specialist</td>\n",
       "      <td>[network, specialist]</td>\n",
       "      <td>Networking</td>\n",
       "      <td>IT</td>\n",
       "      <td>Contributor</td>\n",
       "    </tr>\n",
       "    <tr>\n",
       "      <th>4</th>\n",
       "      <td>director privacy compliance</td>\n",
       "      <td>[director, privacy, compliance]</td>\n",
       "      <td>Information Security</td>\n",
       "      <td>IT</td>\n",
       "      <td>Director</td>\n",
       "    </tr>\n",
       "  </tbody>\n",
       "</table>\n",
       "</div>"
      ],
      "text/plain": [
       "                           Title                      Title_Tokens  \\\n",
       "0          manager-cybersecurity          [manager, cybersecurity]   \n",
       "1  manager, information security  [manager, information, security]   \n",
       "2        user experience analyst       [user, experience, analyst]   \n",
       "3             network specialist             [network, specialist]   \n",
       "4    director privacy compliance   [director, privacy, compliance]   \n",
       "\n",
       "               Job Role Job Function    Job Level  \n",
       "0  Information Security           IT      Manager  \n",
       "1  Information Security           IT      Manager  \n",
       "2                   N/A  Engineering  Contributor  \n",
       "3            Networking           IT  Contributor  \n",
       "4  Information Security           IT     Director  "
      ]
     },
     "execution_count": 73,
     "metadata": {},
     "output_type": "execute_result"
    }
   ],
   "source": [
    "#add the tokens as a column in df\n",
    "df.insert(1, 'Title_Tokens', tokenised_titles)\n",
    "df.head()"
   ]
  },
  {
   "cell_type": "code",
   "execution_count": 74,
   "metadata": {},
   "outputs": [
    {
     "data": {
      "text/plain": [
       "(3573814, 8613425)"
      ]
     },
     "execution_count": 74,
     "metadata": {},
     "output_type": "execute_result"
    }
   ],
   "source": [
    "#initialize and train model to create word vectors\n",
    "model = gensim.models.Word2Vec(window=2,min_count=1, workers=4)\n",
    "model.build_vocab(df['Title_Tokens'])#this is a required step before training the model \n",
    "model.train(df['Title_Tokens'], total_examples=model.corpus_count, epochs=model.epochs) #default vector_size = 100\n"
   ]
  },
  {
   "cell_type": "code",
   "execution_count": 76,
   "metadata": {},
   "outputs": [
    {
     "data": {
      "text/plain": [
       "[('director', 0.7643967866897583),\n",
       " ('leader', 0.7204034924507141),\n",
       " ('manger', 0.6554084420204163),\n",
       " ('specialist', 0.6410418748855591),\n",
       " ('supervisor', 0.640966534614563),\n",
       " ('mgr', 0.62857586145401),\n",
       " ('coordinator', 0.6219028830528259),\n",
       " ('lead', 0.620930552482605),\n",
       " ('analyst', 0.6153537034988403),\n",
       " ('manage', 0.611866295337677)]"
      ]
     },
     "execution_count": 76,
     "metadata": {},
     "output_type": "execute_result"
    }
   ],
   "source": [
    "model.wv.most_similar(\"manager\")"
   ]
  },
  {
   "cell_type": "code",
   "execution_count": 77,
   "metadata": {},
   "outputs": [
    {
     "data": {
      "text/plain": [
       "[('specialist', 0.8318034410476685),\n",
       " ('analysts', 0.7098676562309265),\n",
       " ('technician', 0.6657198071479797),\n",
       " ('ecss', 0.6575592756271362),\n",
       " ('manger', 0.6439298391342163),\n",
       " ('mgr', 0.6319141387939453),\n",
       " ('engineer', 0.6283688545227051),\n",
       " ('manager', 0.6153537631034851),\n",
       " ('sbi', 0.611548125743866),\n",
       " ('anaylst', 0.6086878180503845)]"
      ]
     },
     "execution_count": 77,
     "metadata": {},
     "output_type": "execute_result"
    }
   ],
   "source": [
    "model.wv.most_similar(\"analyst\")"
   ]
  },
  {
   "cell_type": "code",
   "execution_count": 78,
   "metadata": {},
   "outputs": [
    {
     "data": {
      "text/plain": [
       "[('networks', 0.6262040138244629),\n",
       " ('noc', 0.6151784062385559),\n",
       " ('video', 0.6038103699684143),\n",
       " ('acoms', 0.5920001864433289),\n",
       " ('ip', 0.5913484692573547),\n",
       " ('carrier', 0.5748663544654846),\n",
       " ('flight', 0.5701092481613159),\n",
       " ('networking', 0.5645323395729065),\n",
       " ('mac', 0.5577559471130371),\n",
       " ('lan', 0.5525267720222473)]"
      ]
     },
     "execution_count": 78,
     "metadata": {},
     "output_type": "execute_result"
    }
   ],
   "source": [
    "model.wv.most_similar(\"network\")"
   ]
  },
  {
   "cell_type": "code",
   "execution_count": 79,
   "metadata": {},
   "outputs": [
    {
     "data": {
      "text/html": [
       "<div>\n",
       "<style scoped>\n",
       "    .dataframe tbody tr th:only-of-type {\n",
       "        vertical-align: middle;\n",
       "    }\n",
       "\n",
       "    .dataframe tbody tr th {\n",
       "        vertical-align: top;\n",
       "    }\n",
       "\n",
       "    .dataframe thead th {\n",
       "        text-align: right;\n",
       "    }\n",
       "</style>\n",
       "<table border=\"1\" class=\"dataframe\">\n",
       "  <thead>\n",
       "    <tr style=\"text-align: right;\">\n",
       "      <th></th>\n",
       "      <th>Title</th>\n",
       "      <th>Title_Tokens</th>\n",
       "      <th>Title_Vec</th>\n",
       "      <th>Job Role</th>\n",
       "      <th>Job Function</th>\n",
       "      <th>Job Level</th>\n",
       "    </tr>\n",
       "  </thead>\n",
       "  <tbody>\n",
       "    <tr>\n",
       "      <th>0</th>\n",
       "      <td>manager-cybersecurity</td>\n",
       "      <td>[manager, cybersecurity]</td>\n",
       "      <td>[-0.7246598, 1.2171857, -0.25482756, -0.192139...</td>\n",
       "      <td>Information Security</td>\n",
       "      <td>IT</td>\n",
       "      <td>Manager</td>\n",
       "    </tr>\n",
       "    <tr>\n",
       "      <th>1</th>\n",
       "      <td>manager, information security</td>\n",
       "      <td>[manager, information, security]</td>\n",
       "      <td>[-1.2036567, 1.4740264, -0.274158, -1.0400465,...</td>\n",
       "      <td>Information Security</td>\n",
       "      <td>IT</td>\n",
       "      <td>Manager</td>\n",
       "    </tr>\n",
       "    <tr>\n",
       "      <th>2</th>\n",
       "      <td>user experience analyst</td>\n",
       "      <td>[user, experience, analyst]</td>\n",
       "      <td>[-0.22868088, 1.397039, 0.2054277, -2.310388, ...</td>\n",
       "      <td>N/A</td>\n",
       "      <td>Engineering</td>\n",
       "      <td>Contributor</td>\n",
       "    </tr>\n",
       "    <tr>\n",
       "      <th>3</th>\n",
       "      <td>network specialist</td>\n",
       "      <td>[network, specialist]</td>\n",
       "      <td>[-1.4234097, 1.3662905, 0.06710291, -0.5908642...</td>\n",
       "      <td>Networking</td>\n",
       "      <td>IT</td>\n",
       "      <td>Contributor</td>\n",
       "    </tr>\n",
       "    <tr>\n",
       "      <th>4</th>\n",
       "      <td>director privacy compliance</td>\n",
       "      <td>[director, privacy, compliance]</td>\n",
       "      <td>[-0.52955604, 0.8572507, -1.4817626, -0.687059...</td>\n",
       "      <td>Information Security</td>\n",
       "      <td>IT</td>\n",
       "      <td>Director</td>\n",
       "    </tr>\n",
       "  </tbody>\n",
       "</table>\n",
       "</div>"
      ],
      "text/plain": [
       "                           Title                      Title_Tokens  \\\n",
       "0          manager-cybersecurity          [manager, cybersecurity]   \n",
       "1  manager, information security  [manager, information, security]   \n",
       "2        user experience analyst       [user, experience, analyst]   \n",
       "3             network specialist             [network, specialist]   \n",
       "4    director privacy compliance   [director, privacy, compliance]   \n",
       "\n",
       "                                           Title_Vec              Job Role  \\\n",
       "0  [-0.7246598, 1.2171857, -0.25482756, -0.192139...  Information Security   \n",
       "1  [-1.2036567, 1.4740264, -0.274158, -1.0400465,...  Information Security   \n",
       "2  [-0.22868088, 1.397039, 0.2054277, -2.310388, ...                   N/A   \n",
       "3  [-1.4234097, 1.3662905, 0.06710291, -0.5908642...            Networking   \n",
       "4  [-0.52955604, 0.8572507, -1.4817626, -0.687059...  Information Security   \n",
       "\n",
       "  Job Function    Job Level  \n",
       "0           IT      Manager  \n",
       "1           IT      Manager  \n",
       "2  Engineering  Contributor  \n",
       "3           IT  Contributor  \n",
       "4           IT     Director  "
      ]
     },
     "execution_count": 79,
     "metadata": {},
     "output_type": "execute_result"
    }
   ],
   "source": [
    "import numpy as np\n",
    "\n",
    "#below function creates a vector for a title by adding the vector of each word in it\n",
    "def get_title_vec(title_tokens):\n",
    "    if len(title_tokens) == 0:\n",
    "        return np.zeros(100)\n",
    "\n",
    "    # create a list of vectors of all the tokens in a title\n",
    "    vectors = [ model.wv[token] for token in title_tokens]\n",
    "    #sum all the vectors in the list\n",
    "    return np.sum(vectors, axis=0)\n",
    "\n",
    "title_vecs = df['Title_Tokens'].map(get_title_vec)\n",
    "#Add title vecs as a column in df \n",
    "df.insert(2, 'Title_Vec', title_vecs)\n",
    "df.head()\n",
    "\n"
   ]
  },
  {
   "cell_type": "code",
   "execution_count": 80,
   "metadata": {},
   "outputs": [
    {
     "name": "stderr",
     "output_type": "stream",
     "text": [
      "c:\\Users\\rajat\\Anaconda3\\lib\\site-packages\\ipykernel_launcher.py:7: SettingWithCopyWarning: \n",
      "A value is trying to be set on a copy of a slice from a DataFrame.\n",
      "Try using .loc[row_indexer,col_indexer] = value instead\n",
      "\n",
      "See the caveats in the documentation: https://pandas.pydata.org/pandas-docs/stable/user_guide/indexing.html#returning-a-view-versus-a-copy\n",
      "  import sys\n",
      "c:\\Users\\rajat\\Anaconda3\\lib\\site-packages\\ipykernel_launcher.py:8: SettingWithCopyWarning: \n",
      "A value is trying to be set on a copy of a slice from a DataFrame.\n",
      "Try using .loc[row_indexer,col_indexer] = value instead\n",
      "\n",
      "See the caveats in the documentation: https://pandas.pydata.org/pandas-docs/stable/user_guide/indexing.html#returning-a-view-versus-a-copy\n",
      "  \n"
     ]
    }
   ],
   "source": [
    "#create training and validation sets for FUNCTION, ROLE, LEVEL for training/crossvalidating classification models \n",
    "from sklearn.model_selection import train_test_split\n",
    "\n",
    "trainX,validX,trainy,validy = train_test_split(df['Title_Vec'], df['Job Function'],train_size=0.80,random_state=123)\n",
    "\n",
    "it_function = df[df['Job Function'].str.contains('IT')]\n",
    "it_function['Job Role'] = it_function['Job Role'].replace(replacements_role)\n",
    "it_function['Job Role'] = it_function['Job Role'].fillna('IT General')\n",
    "trainX_role, validX_role, trainy_role, validy_role = train_test_split(it_function['Title_Vec'], it_function['Job Role'], train_size=0.80, random_state=123)\n",
    "trainX_level, validX_level, trainy_level, validy_level = train_test_split(it_function['Title_Vec'], it_function['Job Level'], train_size=0.80, random_state=123)\n"
   ]
  },
  {
   "cell_type": "code",
   "execution_count": 81,
   "metadata": {},
   "outputs": [
    {
     "name": "stderr",
     "output_type": "stream",
     "text": [
      "c:\\Users\\rajat\\Anaconda3\\lib\\site-packages\\sklearn\\model_selection\\_search.py:281: UserWarning: The total space of parameters 4 is smaller than n_iter=10. Running 4 iterations. For exhaustive searches, use GridSearchCV.\n",
      "  % (grid_size, self.n_iter, grid_size), UserWarning)\n"
     ]
    },
    {
     "name": "stdout",
     "output_type": "stream",
     "text": [
      "Classification Report with hold-out sample for best fit of NBC model:...\n",
      "\n",
      "                       precision    recall  f1-score   support\n",
      "\n",
      "          Engineering       0.24      0.85      0.37      8811\n",
      "                   IT       0.97      0.72      0.83     87382\n",
      "          Procurement       1.00      0.00      0.01       239\n",
      "Risk/Legal/Compliance       0.04      0.18      0.06       156\n",
      "\n",
      "             accuracy                           0.73     96588\n",
      "            macro avg       0.56      0.44      0.32     96588\n",
      "         weighted avg       0.91      0.73      0.78     96588\n",
      "\n",
      "------------------------------------------------------\n",
      "Best estmator for NBC model for JOB FUNCTION: GaussianNB(priors=None, var_smoothing=2.0)\n"
     ]
    }
   ],
   "source": [
    "# Start with Bayes Naive Classifier to determine Job Function \n",
    "from sklearn.naive_bayes import GaussianNB as NBC\n",
    "from sklearn.model_selection import RandomizedSearchCV\n",
    "from sklearn.metrics import confusion_matrix, classification_report\n",
    "from sklearn.model_selection import RandomizedSearchCV\n",
    "\n",
    "nbc = NBC()\n",
    "# Parameters to tune for NBC\n",
    "nbc_params = {'var_smoothing': [0.1, 0.5, 1.0, 2.0]}\n",
    "\n",
    "rand_search_nbc = RandomizedSearchCV(NBC(),nbc_params, # positional arguments, model and parameter grid\n",
    "                                    n_iter=10,\n",
    "                                    scoring='f1_macro', \n",
    "                                    cv=5,\n",
    "                                    random_state=123,\n",
    "                                    n_jobs=-1)\n",
    "\n",
    "rand_search_nbc.fit(trainX.tolist(),trainy)\n",
    "print(f\"Classification Report with hold-out sample for best fit of NBC model:...\\n\")\n",
    "print(classification_report(validy,rand_search_nbc.predict(validX.tolist())))\n",
    "print(\"------------------------------------------------------\")\n",
    "print(\"Best estmator for NBC model for JOB FUNCTION: {}\".format(rand_search_nbc.best_estimator_), )"
   ]
  },
  {
   "cell_type": "code",
   "execution_count": 82,
   "metadata": {},
   "outputs": [
    {
     "name": "stderr",
     "output_type": "stream",
     "text": [
      "c:\\Users\\rajat\\Anaconda3\\lib\\site-packages\\sklearn\\model_selection\\_search.py:281: UserWarning: The total space of parameters 4 is smaller than n_iter=10. Running 4 iterations. For exhaustive searches, use GridSearchCV.\n",
      "  % (grid_size, self.n_iter, grid_size), UserWarning)\n"
     ]
    },
    {
     "name": "stdout",
     "output_type": "stream",
     "text": [
      "  Report with hold-out sample for best fit of NBC model:...\n",
      "\n",
      "                      precision    recall  f1-score   support\n",
      "\n",
      "         Development       0.19      0.38      0.25      1982\n",
      "          IT General       0.38      0.17      0.23     14579\n",
      "Information Security       0.76      0.46      0.57     39367\n",
      "          Networking       0.49      0.83      0.61     29474\n",
      "             Systems       0.24      0.38      0.29      1984\n",
      "\n",
      "            accuracy                           0.53     87386\n",
      "           macro avg       0.41      0.44      0.39     87386\n",
      "        weighted avg       0.58      0.53      0.52     87386\n",
      "\n",
      "------------------------------------------------------\n",
      "Best estmator for NBC model for JOB ROLE: GaussianNB(priors=None, var_smoothing=0.1)\n"
     ]
    }
   ],
   "source": [
    "rand_search_nbc_role = RandomizedSearchCV(NBC(),nbc_params, # positional arguments, model and parameter grid\n",
    "                                    n_iter=10,\n",
    "                                    scoring='f1_macro', \n",
    "                                    cv=5,\n",
    "                                    random_state=123,\n",
    "                                    n_jobs=-1)\n",
    "    \n",
    "rand_search_nbc_role.fit(trainX_role.tolist(),trainy_role)\n",
    "print(f\"  Report with hold-out sample for best fit of NBC model:...\\n\")\n",
    "print(classification_report(validy_role,rand_search_nbc_role.predict(validX_role.tolist())))\n",
    "print(\"------------------------------------------------------\")\n",
    "print(\"Best estmator for NBC model for JOB ROLE: {}\".format(rand_search_nbc_role.best_estimator_), )"
   ]
  },
  {
   "cell_type": "code",
   "execution_count": 83,
   "metadata": {},
   "outputs": [
    {
     "name": "stderr",
     "output_type": "stream",
     "text": [
      "c:\\Users\\rajat\\Anaconda3\\lib\\site-packages\\sklearn\\model_selection\\_search.py:281: UserWarning: The total space of parameters 4 is smaller than n_iter=10. Running 4 iterations. For exhaustive searches, use GridSearchCV.\n",
      "  % (grid_size, self.n_iter, grid_size), UserWarning)\n"
     ]
    },
    {
     "name": "stdout",
     "output_type": "stream",
     "text": [
      "  Report with hold-out sample for best fit of NBC model:...\n",
      "\n",
      "              precision    recall  f1-score   support\n",
      "\n",
      "     C-level       0.72      0.81      0.76      9497\n",
      " Contributor       0.80      0.87      0.83     28226\n",
      "    Director       0.78      0.86      0.82     18855\n",
      "   Executive       0.56      0.42      0.48     11641\n",
      "     Manager       0.87      0.75      0.80     19167\n",
      "\n",
      "    accuracy                           0.77     87386\n",
      "   macro avg       0.75      0.74      0.74     87386\n",
      "weighted avg       0.77      0.77      0.77     87386\n",
      "\n",
      "------------------------------------------------------\n",
      "Best estmator for NBC model for JOB LEVEL: GaussianNB(priors=None, var_smoothing=0.1)\n"
     ]
    }
   ],
   "source": [
    "rand_search_nbc_level = RandomizedSearchCV(NBC(),nbc_params, # positional arguments, model and parameter grid\n",
    "                                    n_iter=10,\n",
    "                                    scoring='f1_macro', \n",
    "                                    cv=5,\n",
    "                                    random_state=123,\n",
    "                                    n_jobs=-1)\n",
    "    \n",
    "rand_search_nbc_level.fit(trainX_level.tolist(),trainy_level)\n",
    "print(f\"  Report with hold-out sample for best fit of NBC model:...\\n\")\n",
    "print(classification_report(validy_level,rand_search_nbc_level.predict(validX_level.tolist())))\n",
    "print(\"------------------------------------------------------\")\n",
    "print(\"Best estmator for NBC model for JOB LEVEL: {}\".format(rand_search_nbc_level.best_estimator_), )"
   ]
  },
  {
   "cell_type": "code",
   "execution_count": 84,
   "metadata": {},
   "outputs": [
    {
     "name": "stderr",
     "output_type": "stream",
     "text": [
      "c:\\Users\\rajat\\Anaconda3\\lib\\site-packages\\joblib\\externals\\loky\\process_executor.py:706: UserWarning: A worker stopped while some jobs were given to the executor. This can be caused by a too short worker timeout or by a memory leak.\n",
      "  \"timeout or by a memory leak.\", UserWarning\n"
     ]
    },
    {
     "name": "stdout",
     "output_type": "stream",
     "text": [
      "Classification Report with hold-out sample for best fit of DTC model:...\n",
      "\n",
      "                       precision    recall  f1-score   support\n",
      "\n",
      "          Engineering       0.88      0.93      0.90      8811\n",
      "                   IT       0.99      0.99      0.99     87382\n",
      "          Procurement       0.69      0.72      0.71       239\n",
      "Risk/Legal/Compliance       0.79      0.69      0.74       156\n",
      "\n",
      "             accuracy                           0.98     96588\n",
      "            macro avg       0.84      0.83      0.83     96588\n",
      "         weighted avg       0.98      0.98      0.98     96588\n",
      "\n",
      "------------------------------------------------------\n",
      "Best estmator for DTC model for JOB FUNCTION: DecisionTreeClassifier(ccp_alpha=0.0, class_weight=None, criterion='gini',\n",
      "                       max_depth=50, max_features='log2', max_leaf_nodes=None,\n",
      "                       min_impurity_decrease=0.0, min_impurity_split=None,\n",
      "                       min_samples_leaf=1, min_samples_split=2,\n",
      "                       min_weight_fraction_leaf=0.0, presort='deprecated',\n",
      "                       random_state=123, splitter='best')\n"
     ]
    }
   ],
   "source": [
    "from sklearn.tree import DecisionTreeClassifier as DTC\n",
    "\n",
    "dt_params = {'criterion':['gini'],\n",
    "             'max_depth':[10, 20, 50],\n",
    "             'min_samples_split':[2,5,10], # required to split\n",
    "             'max_features':['sqrt','log2'],\n",
    "             'random_state':[123]\n",
    "            }\n",
    "\n",
    "rand_search_DTC = RandomizedSearchCV(DTC(),dt_params, # positional arguments, model and parameter grid\n",
    "                                    n_iter=10,\n",
    "                                    scoring='f1_macro', \n",
    "                                    cv=5,\n",
    "                                    random_state=123,\n",
    "                                    n_jobs=-1)\n",
    "    \n",
    "rand_search_DTC.fit(trainX.tolist(),trainy)\n",
    "print(f\"Classification Report with hold-out sample for best fit of DTC model:...\\n\")\n",
    "print(classification_report(validy,rand_search_DTC.predict(validX.tolist())))\n",
    "print(\"------------------------------------------------------\")\n",
    "print(\"Best estmator for DTC model for JOB FUNCTION: {}\".format( rand_search_DTC.best_estimator_), )\n",
    "    "
   ]
  },
  {
   "cell_type": "code",
   "execution_count": 85,
   "metadata": {},
   "outputs": [
    {
     "name": "stdout",
     "output_type": "stream",
     "text": [
      "  Report with hold-out sample for best fit of DTC model:...\n",
      "\n",
      "                      precision    recall  f1-score   support\n",
      "\n",
      "         Development       0.71      0.70      0.70      1982\n",
      "          IT General       0.79      0.61      0.69     14579\n",
      "Information Security       0.89      0.90      0.89     39367\n",
      "          Networking       0.85      0.94      0.89     29474\n",
      "             Systems       0.75      0.66      0.70      1984\n",
      "\n",
      "            accuracy                           0.85     87386\n",
      "           macro avg       0.80      0.76      0.78     87386\n",
      "        weighted avg       0.85      0.85      0.85     87386\n",
      "\n",
      "------------------------------------------------------\n",
      "Best estmator for DTC model for JOB ROLE: DecisionTreeClassifier(ccp_alpha=0.0, class_weight=None, criterion='gini',\n",
      "                       max_depth=50, max_features='log2', max_leaf_nodes=None,\n",
      "                       min_impurity_decrease=0.0, min_impurity_split=None,\n",
      "                       min_samples_leaf=1, min_samples_split=2,\n",
      "                       min_weight_fraction_leaf=0.0, presort='deprecated',\n",
      "                       random_state=123, splitter='best')\n"
     ]
    }
   ],
   "source": [
    "rand_search_dtc_role = RandomizedSearchCV(DTC(),dt_params, # positional arguments, model and parameter grid\n",
    "                                    n_iter=10,\n",
    "                                    scoring='f1_macro', \n",
    "                                    cv=5,\n",
    "                                    random_state=123,\n",
    "                                    n_jobs=-1)\n",
    "    \n",
    "rand_search_dtc_role.fit(trainX_role.tolist(),trainy_role)\n",
    "print(f\"  Report with hold-out sample for best fit of DTC model:...\\n\")\n",
    "print(classification_report(validy_role,rand_search_dtc_role.predict(validX_role.tolist())))\n",
    "print(\"------------------------------------------------------\")\n",
    "print(\"Best estmator for DTC model for JOB ROLE: {}\".format(rand_search_dtc_role.best_estimator_), )"
   ]
  },
  {
   "cell_type": "code",
   "execution_count": 86,
   "metadata": {},
   "outputs": [
    {
     "name": "stderr",
     "output_type": "stream",
     "text": [
      "c:\\Users\\rajat\\Anaconda3\\lib\\site-packages\\joblib\\externals\\loky\\process_executor.py:706: UserWarning: A worker stopped while some jobs were given to the executor. This can be caused by a too short worker timeout or by a memory leak.\n",
      "  \"timeout or by a memory leak.\", UserWarning\n"
     ]
    },
    {
     "name": "stdout",
     "output_type": "stream",
     "text": [
      "  Report with hold-out sample for best fit of DTC model:...\n",
      "\n",
      "              precision    recall  f1-score   support\n",
      "\n",
      "     C-level       0.93      0.93      0.93      9497\n",
      " Contributor       0.95      0.95      0.95     28226\n",
      "    Director       0.95      0.95      0.95     18855\n",
      "   Executive       0.92      0.92      0.92     11641\n",
      "     Manager       0.94      0.94      0.94     19167\n",
      "\n",
      "    accuracy                           0.94     87386\n",
      "   macro avg       0.94      0.94      0.94     87386\n",
      "weighted avg       0.94      0.94      0.94     87386\n",
      "\n",
      "------------------------------------------------------\n",
      "Best estmator for DTC model for JOB LEVEL: DecisionTreeClassifier(ccp_alpha=0.0, class_weight=None, criterion='gini',\n",
      "                       max_depth=50, max_features='log2', max_leaf_nodes=None,\n",
      "                       min_impurity_decrease=0.0, min_impurity_split=None,\n",
      "                       min_samples_leaf=1, min_samples_split=2,\n",
      "                       min_weight_fraction_leaf=0.0, presort='deprecated',\n",
      "                       random_state=123, splitter='best')\n"
     ]
    }
   ],
   "source": [
    "rand_search_dtc_level = RandomizedSearchCV(DTC(),dt_params, # positional arguments, model and parameter grid\n",
    "                                    n_iter=10,\n",
    "                                    scoring='f1_macro', \n",
    "                                    cv=5,\n",
    "                                    random_state=123,\n",
    "                                    n_jobs=-1)\n",
    "    \n",
    "rand_search_dtc_level.fit(trainX_level.tolist(),trainy_level)\n",
    "print(f\"  Report with hold-out sample for best fit of DTC model:...\\n\")\n",
    "print(classification_report(validy_level,rand_search_dtc_level.predict(validX_level.tolist())))\n",
    "print(\"------------------------------------------------------\")\n",
    "print(\"Best estmator for DTC model for JOB LEVEL: {}\".format(rand_search_dtc_level.best_estimator_), )"
   ]
  },
  {
   "cell_type": "code",
   "execution_count": 87,
   "metadata": {},
   "outputs": [],
   "source": [
    "rf_params = {'n_estimators':[10,25],\n",
    "             'criterion':['gini'],\n",
    "             'max_depth':[10, 20, 50],\n",
    "             'min_samples_split':[2,5,10], # required to split\n",
    "             'max_features':['sqrt','log2'],\n",
    "             'max_samples':[0.10,0.50],\n",
    "             'random_state':[123]\n",
    "            }"
   ]
  },
  {
   "cell_type": "code",
   "execution_count": 88,
   "metadata": {},
   "outputs": [
    {
     "name": "stderr",
     "output_type": "stream",
     "text": [
      "c:\\Users\\rajat\\Anaconda3\\lib\\site-packages\\joblib\\externals\\loky\\process_executor.py:706: UserWarning: A worker stopped while some jobs were given to the executor. This can be caused by a too short worker timeout or by a memory leak.\n",
      "  \"timeout or by a memory leak.\", UserWarning\n"
     ]
    },
    {
     "name": "stdout",
     "output_type": "stream",
     "text": [
      "Classification Report with hold-out sample for best fit of rfc model:...\n",
      "\n",
      "                       precision    recall  f1-score   support\n",
      "\n",
      "          Engineering       0.92      0.91      0.92      8811\n",
      "                   IT       0.99      0.99      0.99     87382\n",
      "          Procurement       0.83      0.60      0.69       239\n",
      "Risk/Legal/Compliance       1.00      0.60      0.75       156\n",
      "\n",
      "             accuracy                           0.98     96588\n",
      "            macro avg       0.93      0.78      0.84     96588\n",
      "         weighted avg       0.98      0.98      0.98     96588\n",
      "\n",
      "------------------------------------------------------\n",
      "Best estmator for RFC model for JOB FUNCTION: RandomForestClassifier(bootstrap=True, ccp_alpha=0.0, class_weight=None,\n",
      "                       criterion='gini', max_depth=50, max_features='sqrt',\n",
      "                       max_leaf_nodes=None, max_samples=0.5,\n",
      "                       min_impurity_decrease=0.0, min_impurity_split=None,\n",
      "                       min_samples_leaf=1, min_samples_split=2,\n",
      "                       min_weight_fraction_leaf=0.0, n_estimators=10,\n",
      "                       n_jobs=None, oob_score=False, random_state=123,\n",
      "                       verbose=0, warm_start=False)\n"
     ]
    }
   ],
   "source": [
    "from sklearn.ensemble import RandomForestClassifier as RFC\n",
    "\n",
    "rand_search_rfc_function = RandomizedSearchCV(RFC(),rf_params, # positional arguments, model and parameter grid\n",
    "                                    n_iter=10,\n",
    "                                    scoring='f1_macro', \n",
    "                                    cv=5,\n",
    "                                    random_state=123,\n",
    "                                    n_jobs=-1)\n",
    "    \n",
    "rand_search_rfc_function.fit(trainX.tolist(),trainy)\n",
    "print(f\"Classification Report with hold-out sample for best fit of rfc model:...\\n\")\n",
    "print(classification_report(validy,rand_search_rfc_function.predict(validX.tolist())))\n",
    "print(\"------------------------------------------------------\")\n",
    "print(\"Best estmator for RFC model for JOB FUNCTION: {}\".format(rand_search_rfc_function.best_estimator_), )"
   ]
  },
  {
   "cell_type": "code",
   "execution_count": 89,
   "metadata": {},
   "outputs": [
    {
     "name": "stderr",
     "output_type": "stream",
     "text": [
      "c:\\Users\\rajat\\Anaconda3\\lib\\site-packages\\joblib\\externals\\loky\\process_executor.py:706: UserWarning: A worker stopped while some jobs were given to the executor. This can be caused by a too short worker timeout or by a memory leak.\n",
      "  \"timeout or by a memory leak.\", UserWarning\n"
     ]
    },
    {
     "name": "stdout",
     "output_type": "stream",
     "text": [
      "  Report with hold-out sample for best fit of RFC model:...\n",
      "\n",
      "                      precision    recall  f1-score   support\n",
      "\n",
      "         Development       0.81      0.67      0.73      1982\n",
      "          IT General       0.81      0.60      0.69     14579\n",
      "Information Security       0.88      0.91      0.89     39367\n",
      "          Networking       0.85      0.96      0.90     29474\n",
      "             Systems       0.85      0.63      0.72      1984\n",
      "\n",
      "            accuracy                           0.86     87386\n",
      "           macro avg       0.84      0.75      0.79     87386\n",
      "        weighted avg       0.86      0.86      0.86     87386\n",
      "\n",
      "------------------------------------------------------\n",
      "Best estmator for RFC model for JOB ROLE: RandomForestClassifier(bootstrap=True, ccp_alpha=0.0, class_weight=None,\n",
      "                       criterion='gini', max_depth=50, max_features='sqrt',\n",
      "                       max_leaf_nodes=None, max_samples=0.5,\n",
      "                       min_impurity_decrease=0.0, min_impurity_split=None,\n",
      "                       min_samples_leaf=1, min_samples_split=2,\n",
      "                       min_weight_fraction_leaf=0.0, n_estimators=10,\n",
      "                       n_jobs=None, oob_score=False, random_state=123,\n",
      "                       verbose=0, warm_start=False)\n"
     ]
    }
   ],
   "source": [
    "rand_search_rfc_role = RandomizedSearchCV(RFC(),rf_params, # positional arguments, model and parameter grid\n",
    "                                    n_iter=10,\n",
    "                                    scoring='f1_macro', \n",
    "                                    cv=5,\n",
    "                                    random_state=123,\n",
    "                                    n_jobs=-1)\n",
    "    \n",
    "rand_search_rfc_role.fit(trainX_role.tolist(),trainy_role)\n",
    "print(f\"  Report with hold-out sample for best fit of RFC model:...\\n\")\n",
    "print(classification_report(validy_role,rand_search_rfc_role.predict(validX_role.tolist())))\n",
    "print(\"------------------------------------------------------\")\n",
    "print(\"Best estmator for RFC model for JOB ROLE: {}\".format(rand_search_rfc_role.best_estimator_), )"
   ]
  },
  {
   "cell_type": "code",
   "execution_count": 90,
   "metadata": {},
   "outputs": [
    {
     "name": "stderr",
     "output_type": "stream",
     "text": [
      "c:\\Users\\rajat\\Anaconda3\\lib\\site-packages\\joblib\\externals\\loky\\process_executor.py:706: UserWarning: A worker stopped while some jobs were given to the executor. This can be caused by a too short worker timeout or by a memory leak.\n",
      "  \"timeout or by a memory leak.\", UserWarning\n"
     ]
    },
    {
     "name": "stdout",
     "output_type": "stream",
     "text": [
      "  Report with hold-out sample for best fit of RFC model:...\n",
      "\n",
      "              precision    recall  f1-score   support\n",
      "\n",
      "     C-level       0.94      0.93      0.94      9497\n",
      " Contributor       0.96      0.96      0.96     28226\n",
      "    Director       0.96      0.97      0.96     18855\n",
      "   Executive       0.94      0.93      0.94     11641\n",
      "     Manager       0.95      0.96      0.96     19167\n",
      "\n",
      "    accuracy                           0.95     87386\n",
      "   macro avg       0.95      0.95      0.95     87386\n",
      "weighted avg       0.95      0.95      0.95     87386\n",
      "\n",
      "------------------------------------------------------\n",
      "Best estmator for RFC model for JOB LEVEL: RandomForestClassifier(bootstrap=True, ccp_alpha=0.0, class_weight=None,\n",
      "                       criterion='gini', max_depth=50, max_features='log2',\n",
      "                       max_leaf_nodes=None, max_samples=0.5,\n",
      "                       min_impurity_decrease=0.0, min_impurity_split=None,\n",
      "                       min_samples_leaf=1, min_samples_split=10,\n",
      "                       min_weight_fraction_leaf=0.0, n_estimators=25,\n",
      "                       n_jobs=None, oob_score=False, random_state=123,\n",
      "                       verbose=0, warm_start=False)\n"
     ]
    }
   ],
   "source": [
    "\n",
    "rand_search_rfc_level = RandomizedSearchCV(RFC(),rf_params, # positional arguments, model and parameter grid\n",
    "                                    n_iter=10,\n",
    "                                    scoring='f1_macro', \n",
    "                                    cv=5,\n",
    "                                    random_state=123,\n",
    "                                    n_jobs=-1)\n",
    "    \n",
    "rand_search_rfc_level.fit(trainX_level.tolist(),trainy_level)\n",
    "print(f\"  Report with hold-out sample for best fit of RFC model:...\\n\")\n",
    "print(classification_report(validy_level,rand_search_rfc_level.predict(validX_level.tolist())))\n",
    "print(\"------------------------------------------------------\")\n",
    "print(\"Best estmator for RFC model for JOB LEVEL: {}\".format(rand_search_rfc_level.best_estimator_), )"
   ]
  }
 ],
 "metadata": {
  "kernelspec": {
   "display_name": "Python 3",
   "language": "python",
   "name": "python3"
  },
  "language_info": {
   "codemirror_mode": {
    "name": "ipython",
    "version": 3
   },
   "file_extension": ".py",
   "mimetype": "text/x-python",
   "name": "python",
   "nbconvert_exporter": "python",
   "pygments_lexer": "ipython3",
   "version": "3.7.4"
  }
 },
 "nbformat": 4,
 "nbformat_minor": 2
}
