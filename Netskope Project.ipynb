{
 "cells": [
  {
   "cell_type": "code",
   "execution_count": 1,
   "id": "652505f0",
   "metadata": {
    "scrolled": true
   },
   "outputs": [],
   "source": [
    "#!pip install pandas\n",
    "#!pip install nltk\n",
    "# !pip install langdetect\n",
    "# !pip install scikit-learn gensim\n",
    "import pandas as pd\n"
   ]
  },
  {
   "cell_type": "code",
   "execution_count": 2,
   "id": "7f749062",
   "metadata": {
    "scrolled": true
   },
   "outputs": [
    {
     "data": {
      "text/html": [
       "<div>\n",
       "<style scoped>\n",
       "    .dataframe tbody tr th:only-of-type {\n",
       "        vertical-align: middle;\n",
       "    }\n",
       "\n",
       "    .dataframe tbody tr th {\n",
       "        vertical-align: top;\n",
       "    }\n",
       "\n",
       "    .dataframe thead th {\n",
       "        text-align: right;\n",
       "    }\n",
       "</style>\n",
       "<table border=\"1\" class=\"dataframe\">\n",
       "  <thead>\n",
       "    <tr style=\"text-align: right;\">\n",
       "      <th></th>\n",
       "      <th>Title</th>\n",
       "      <th>Job Role</th>\n",
       "      <th>Job Function</th>\n",
       "      <th>Job Level</th>\n",
       "    </tr>\n",
       "  </thead>\n",
       "  <tbody>\n",
       "    <tr>\n",
       "      <th>0</th>\n",
       "      <td>Manager-Cybersecurity</td>\n",
       "      <td>Information Security</td>\n",
       "      <td>IT</td>\n",
       "      <td>Manager</td>\n",
       "    </tr>\n",
       "    <tr>\n",
       "      <th>1</th>\n",
       "      <td>Manager, Information Security</td>\n",
       "      <td>Information Security</td>\n",
       "      <td>IT</td>\n",
       "      <td>Manager</td>\n",
       "    </tr>\n",
       "    <tr>\n",
       "      <th>2</th>\n",
       "      <td>User Experience Analyst</td>\n",
       "      <td>Development</td>\n",
       "      <td>Engineering</td>\n",
       "      <td>Contributor</td>\n",
       "    </tr>\n",
       "    <tr>\n",
       "      <th>3</th>\n",
       "      <td>Network Specialist</td>\n",
       "      <td>Networking</td>\n",
       "      <td>IT</td>\n",
       "      <td>Contributor</td>\n",
       "    </tr>\n",
       "    <tr>\n",
       "      <th>4</th>\n",
       "      <td>Director of Privacy and Compliance</td>\n",
       "      <td>Information Security</td>\n",
       "      <td>IT</td>\n",
       "      <td>Director</td>\n",
       "    </tr>\n",
       "  </tbody>\n",
       "</table>\n",
       "</div>"
      ],
      "text/plain": [
       "                                Title              Job Role Job Function  \\\n",
       "0               Manager-Cybersecurity  Information Security           IT   \n",
       "1       Manager, Information Security  Information Security           IT   \n",
       "2             User Experience Analyst           Development  Engineering   \n",
       "3                  Network Specialist            Networking           IT   \n",
       "4  Director of Privacy and Compliance  Information Security           IT   \n",
       "\n",
       "     Job Level  \n",
       "0      Manager  \n",
       "1      Manager  \n",
       "2  Contributor  \n",
       "3  Contributor  \n",
       "4     Director  "
      ]
     },
     "execution_count": 2,
     "metadata": {},
     "output_type": "execute_result"
    }
   ],
   "source": [
    "df = pd.read_csv('Historical Lead Records.csv', encoding='latin1')\n",
    "\n",
    "df.head()"
   ]
  },
  {
   "cell_type": "code",
   "execution_count": 3,
   "id": "f75c250f",
   "metadata": {},
   "outputs": [
    {
     "data": {
      "text/plain": [
       "865671"
      ]
     },
     "execution_count": 3,
     "metadata": {},
     "output_type": "execute_result"
    }
   ],
   "source": [
    "#make title column lowercase\n",
    "df['Title'] = df['Title'].str.lower()\n",
    "\n",
    "df.shape[0]"
   ]
  },
  {
   "cell_type": "code",
   "execution_count": 4,
   "id": "59f06cad",
   "metadata": {},
   "outputs": [],
   "source": [
    "#data relableing to most frequent F/R/L\n",
    "def most_frequent(x):\n",
    "    if not x.empty and len(x.value_counts()) > 0:\n",
    "        return x.value_counts().index[0]\n",
    "    else:\n",
    "        return None\n",
    "\n",
    "grouped = df.groupby('Title').agg(most_frequent)\n",
    "grouped.reset_index(inplace=True)\n",
    "\n",
    "merged_df = pd.merge(df, grouped, on='Title', suffixes=('', '_most_frequent'))\n",
    "\n",
    "merged_df.drop(['Job Role', 'Job Function', 'Job Level'], axis=1, inplace=True)\n",
    "\n",
    "merged_df.rename(columns={'Job Role_most_frequent': 'Job Role', 'Job Function_most_frequent': 'Job Function', 'Job Level_most_frequent': 'Job Level'}, inplace=True)\n"
   ]
  },
  {
   "cell_type": "code",
   "execution_count": 5,
   "id": "da672f27",
   "metadata": {
    "scrolled": false
   },
   "outputs": [
    {
     "name": "stdout",
     "output_type": "stream",
     "text": [
      "Title           12690\n",
      "Job Role         4502\n",
      "Job Function     5083\n",
      "Job Level       24546\n",
      "dtype: int64\n"
     ]
    }
   ],
   "source": [
    "na_counts = df.isna().sum()\n",
    "print(na_counts)"
   ]
  },
  {
   "cell_type": "code",
   "execution_count": 6,
   "id": "62b57ca2",
   "metadata": {},
   "outputs": [
    {
     "name": "stdout",
     "output_type": "stream",
     "text": [
      "865671\n",
      "1616\n",
      "864055\n"
     ]
    }
   ],
   "source": [
    "#1616 rows are completely empty\n",
    "before_dropping = df.shape[0]\n",
    "empty_rows= df.isna().all(axis=1).sum()\n",
    "df = df.dropna(how='all')\n",
    "after_dropping = df.shape[0]\n",
    "\n",
    "\n",
    "print (before_dropping)\n",
    "print (empty_rows)\n",
    "print (after_dropping)"
   ]
  },
  {
   "cell_type": "code",
   "execution_count": 7,
   "id": "9eebd913",
   "metadata": {},
   "outputs": [
    {
     "data": {
      "text/plain": [
       "148"
      ]
     },
     "execution_count": 7,
     "metadata": {},
     "output_type": "execute_result"
    }
   ],
   "source": [
    "question_mark = df['Title'].str.contains('\\?').sum()\n",
    "question_mark"
   ]
  },
  {
   "cell_type": "code",
   "execution_count": 8,
   "id": "1f41c8aa",
   "metadata": {},
   "outputs": [
    {
     "data": {
      "text/plain": [
       "0"
      ]
     },
     "execution_count": 8,
     "metadata": {},
     "output_type": "execute_result"
    }
   ],
   "source": [
    "# #replacing all question marks with empty strings\n",
    "df['Title'] = df['Title'].str.replace('?', '')\n",
    "question_mark1 = df['Title'].str.contains('\\?').sum()\n",
    "question_mark1"
   ]
  },
  {
   "cell_type": "code",
   "execution_count": 9,
   "id": "b71b8c8d",
   "metadata": {
    "scrolled": true
   },
   "outputs": [
    {
     "data": {
      "text/plain": [
       "852981"
      ]
     },
     "execution_count": 9,
     "metadata": {},
     "output_type": "execute_result"
    }
   ],
   "source": [
    "df = df.dropna(subset=['Title'])\n",
    "df.shape[0]"
   ]
  },
  {
   "cell_type": "code",
   "execution_count": 12,
   "id": "0111dce6",
   "metadata": {},
   "outputs": [],
   "source": [
    "from langdetect import detect\n",
    "from langdetect.lang_detect_exception import LangDetectException\n",
    "from joblib import Parallel, delayed\n",
    "import numpy as np\n",
    "\n",
    "def is_english(text):\n",
    "    try:\n",
    "        return detect(str(text)) == 'en'\n",
    "    except LangDetectException:\n",
    "        return False\n",
    "\n",
    "def filter_english_titles(df):\n",
    "    return df[df['Title'].apply(is_english)]\n",
    "\n",
    "num_jobs = 4\n",
    "chunks = np.array_split(df, num_jobs)\n",
    "df_filtered_chunks = Parallel(n_jobs=num_jobs)(\n",
    "    delayed(filter_english_titles)(chunk) for chunk in chunks\n",
    ")\n",
    "df_filtered = pd.concat(df_filtered_chunks)\n",
    "\n"
   ]
  },
  {
   "cell_type": "code",
   "execution_count": 13,
   "id": "78439afb",
   "metadata": {},
   "outputs": [],
   "source": [
    "# since the cleaning steps above take a while to run, output df_filtered to csv\n",
    "df_filtered.to_csv('df_filtered.csv', index=False)"
   ]
  },
  {
   "cell_type": "code",
   "execution_count": 14,
   "id": "70e5aefe",
   "metadata": {},
   "outputs": [
    {
     "data": {
      "text/plain": [
       "550384"
      ]
     },
     "execution_count": 14,
     "metadata": {},
     "output_type": "execute_result"
    }
   ],
   "source": [
    "df_filtered.shape[0]"
   ]
  },
  {
   "cell_type": "code",
   "execution_count": 15,
   "id": "66443b87",
   "metadata": {},
   "outputs": [
    {
     "data": {
      "text/html": [
       "<div>\n",
       "<style scoped>\n",
       "    .dataframe tbody tr th:only-of-type {\n",
       "        vertical-align: middle;\n",
       "    }\n",
       "\n",
       "    .dataframe tbody tr th {\n",
       "        vertical-align: top;\n",
       "    }\n",
       "\n",
       "    .dataframe thead th {\n",
       "        text-align: right;\n",
       "    }\n",
       "</style>\n",
       "<table border=\"1\" class=\"dataframe\">\n",
       "  <thead>\n",
       "    <tr style=\"text-align: right;\">\n",
       "      <th></th>\n",
       "      <th>Title</th>\n",
       "      <th>Job Role</th>\n",
       "      <th>Job Function</th>\n",
       "      <th>Job Level</th>\n",
       "    </tr>\n",
       "  </thead>\n",
       "  <tbody>\n",
       "    <tr>\n",
       "      <th>0</th>\n",
       "      <td>manager-cybersecurity</td>\n",
       "      <td>Information Security</td>\n",
       "      <td>IT</td>\n",
       "      <td>Manager</td>\n",
       "    </tr>\n",
       "    <tr>\n",
       "      <th>1</th>\n",
       "      <td>manager, information security</td>\n",
       "      <td>Information Security</td>\n",
       "      <td>IT</td>\n",
       "      <td>Manager</td>\n",
       "    </tr>\n",
       "    <tr>\n",
       "      <th>2</th>\n",
       "      <td>user experience analyst</td>\n",
       "      <td>Development</td>\n",
       "      <td>Engineering</td>\n",
       "      <td>Contributor</td>\n",
       "    </tr>\n",
       "    <tr>\n",
       "      <th>3</th>\n",
       "      <td>network specialist</td>\n",
       "      <td>Networking</td>\n",
       "      <td>IT</td>\n",
       "      <td>Contributor</td>\n",
       "    </tr>\n",
       "    <tr>\n",
       "      <th>4</th>\n",
       "      <td>director of privacy and compliance</td>\n",
       "      <td>Information Security</td>\n",
       "      <td>IT</td>\n",
       "      <td>Director</td>\n",
       "    </tr>\n",
       "  </tbody>\n",
       "</table>\n",
       "</div>"
      ],
      "text/plain": [
       "                                Title              Job Role Job Function  \\\n",
       "0               manager-cybersecurity  Information Security           IT   \n",
       "1       manager, information security  Information Security           IT   \n",
       "2             user experience analyst           Development  Engineering   \n",
       "3                  network specialist            Networking           IT   \n",
       "4  director of privacy and compliance  Information Security           IT   \n",
       "\n",
       "     Job Level  \n",
       "0      Manager  \n",
       "1      Manager  \n",
       "2  Contributor  \n",
       "3  Contributor  \n",
       "4     Director  "
      ]
     },
     "execution_count": 15,
     "metadata": {},
     "output_type": "execute_result"
    }
   ],
   "source": [
    "df_filtered.head()"
   ]
  },
  {
   "cell_type": "code",
   "execution_count": 16,
   "id": "8502f823",
   "metadata": {},
   "outputs": [],
   "source": [
    "def replace_role(row):\n",
    "    if pd.isnull(row['Job Function']): \n",
    "        return 'N/A'\n",
    "    elif 'IT' not in row['Job Function']:\n",
    "        return 'N/A'\n",
    "    else:\n",
    "        return row['Job Role']\n",
    "\n",
    "df_filtered['Job Role'] = df_filtered.apply(replace_role, axis=1)"
   ]
  },
  {
   "cell_type": "code",
   "execution_count": 17,
   "id": "b5b7dadb",
   "metadata": {},
   "outputs": [
    {
     "data": {
      "text/html": [
       "<div>\n",
       "<style scoped>\n",
       "    .dataframe tbody tr th:only-of-type {\n",
       "        vertical-align: middle;\n",
       "    }\n",
       "\n",
       "    .dataframe tbody tr th {\n",
       "        vertical-align: top;\n",
       "    }\n",
       "\n",
       "    .dataframe thead th {\n",
       "        text-align: right;\n",
       "    }\n",
       "</style>\n",
       "<table border=\"1\" class=\"dataframe\">\n",
       "  <thead>\n",
       "    <tr style=\"text-align: right;\">\n",
       "      <th></th>\n",
       "      <th>Title</th>\n",
       "      <th>Job Role</th>\n",
       "      <th>Job Function</th>\n",
       "      <th>Job Level</th>\n",
       "    </tr>\n",
       "  </thead>\n",
       "  <tbody>\n",
       "    <tr>\n",
       "      <th>2</th>\n",
       "      <td>user experience analyst</td>\n",
       "      <td>N/A</td>\n",
       "      <td>Engineering</td>\n",
       "      <td>Contributor</td>\n",
       "    </tr>\n",
       "    <tr>\n",
       "      <th>14</th>\n",
       "      <td>branch manager, purchasing</td>\n",
       "      <td>N/A</td>\n",
       "      <td>Purchasing</td>\n",
       "      <td>Manager</td>\n",
       "    </tr>\n",
       "    <tr>\n",
       "      <th>18</th>\n",
       "      <td>legislative affairs director</td>\n",
       "      <td>N/A</td>\n",
       "      <td>Legal</td>\n",
       "      <td>Director</td>\n",
       "    </tr>\n",
       "    <tr>\n",
       "      <th>25</th>\n",
       "      <td>associate director of software development</td>\n",
       "      <td>N/A</td>\n",
       "      <td>Engineering</td>\n",
       "      <td>Director</td>\n",
       "    </tr>\n",
       "    <tr>\n",
       "      <th>28</th>\n",
       "      <td>turning vision into reality</td>\n",
       "      <td>N/A</td>\n",
       "      <td>Engineering</td>\n",
       "      <td>Unknown</td>\n",
       "    </tr>\n",
       "  </tbody>\n",
       "</table>\n",
       "</div>"
      ],
      "text/plain": [
       "                                         Title Job Role Job Function  \\\n",
       "2                      user experience analyst      N/A  Engineering   \n",
       "14                  branch manager, purchasing      N/A   Purchasing   \n",
       "18                legislative affairs director      N/A        Legal   \n",
       "25  associate director of software development      N/A  Engineering   \n",
       "28                 turning vision into reality      N/A  Engineering   \n",
       "\n",
       "      Job Level  \n",
       "2   Contributor  \n",
       "14      Manager  \n",
       "18     Director  \n",
       "25     Director  \n",
       "28      Unknown  "
      ]
     },
     "execution_count": 17,
     "metadata": {},
     "output_type": "execute_result"
    }
   ],
   "source": [
    "df_filtered['Job Function'] = df_filtered['Job Function'].fillna('')\n",
    "\n",
    "non_it = df_filtered[~df_filtered['Job Function'].str.contains('IT')]\n",
    "non_it.head()"
   ]
  },
  {
   "cell_type": "code",
   "execution_count": 22,
   "id": "eae24481",
   "metadata": {},
   "outputs": [],
   "source": [
    "df = df_filtered.applymap(lambda x: x.strip() if isinstance(x, str) else x)\n"
   ]
  },
  {
   "cell_type": "code",
   "execution_count": 23,
   "id": "1ed5e905",
   "metadata": {},
   "outputs": [
    {
     "name": "stdout",
     "output_type": "stream",
     "text": [
      "Job Level\n",
      "Contributor    185866\n",
      "Manager        115397\n",
      "Director       109276\n",
      "Executive       70486\n",
      "C-Level         56543\n",
      "Name: count, dtype: int64\n",
      "Job Function\n",
      "IT             444323\n",
      "Engineering     45012\n",
      "Sales           13092\n",
      "Operations       8390\n",
      "Management       7453\n",
      "Name: count, dtype: int64\n"
     ]
    }
   ],
   "source": [
    "job_levels = df['Job Level'].value_counts()\n",
    "job_functions = df['Job Function'].value_counts()\n",
    "\n",
    "print(job_levels.head())\n",
    "print(job_functions.head())"
   ]
  },
  {
   "cell_type": "code",
   "execution_count": 24,
   "id": "cbd874e0",
   "metadata": {},
   "outputs": [],
   "source": [
    "# Remove any stop words from the titles\n",
    "from gensim.parsing.preprocessing import remove_stopwords\n",
    "df['Title'] = df['Title'].apply(remove_stopwords)"
   ]
  },
  {
   "cell_type": "code",
   "execution_count": 25,
   "id": "33655504",
   "metadata": {},
   "outputs": [],
   "source": [
    "import gensim \n",
    "#Some more preprocessing that will remove punctuations. \n",
    "tokenised_titles = df['Title'].apply(gensim.utils.simple_preprocess)"
   ]
  },
  {
   "cell_type": "code",
   "execution_count": 26,
   "id": "f4914b1d",
   "metadata": {},
   "outputs": [
    {
     "data": {
      "text/plain": [
       "0            [manager, cybersecurity]\n",
       "1    [manager, information, security]\n",
       "2         [user, experience, analyst]\n",
       "3               [network, specialist]\n",
       "4     [director, privacy, compliance]\n",
       "Name: Title, dtype: object"
      ]
     },
     "execution_count": 26,
     "metadata": {},
     "output_type": "execute_result"
    }
   ],
   "source": [
    "tokenised_titles.head()"
   ]
  },
  {
   "cell_type": "code",
   "execution_count": 27,
   "id": "3eeb7cec",
   "metadata": {},
   "outputs": [
    {
     "data": {
      "text/html": [
       "<div>\n",
       "<style scoped>\n",
       "    .dataframe tbody tr th:only-of-type {\n",
       "        vertical-align: middle;\n",
       "    }\n",
       "\n",
       "    .dataframe tbody tr th {\n",
       "        vertical-align: top;\n",
       "    }\n",
       "\n",
       "    .dataframe thead th {\n",
       "        text-align: right;\n",
       "    }\n",
       "</style>\n",
       "<table border=\"1\" class=\"dataframe\">\n",
       "  <thead>\n",
       "    <tr style=\"text-align: right;\">\n",
       "      <th></th>\n",
       "      <th>Title</th>\n",
       "      <th>Title_Tokens</th>\n",
       "      <th>Job Role</th>\n",
       "      <th>Job Function</th>\n",
       "      <th>Job Level</th>\n",
       "    </tr>\n",
       "  </thead>\n",
       "  <tbody>\n",
       "    <tr>\n",
       "      <th>0</th>\n",
       "      <td>manager-cybersecurity</td>\n",
       "      <td>[manager, cybersecurity]</td>\n",
       "      <td>Information Security</td>\n",
       "      <td>IT</td>\n",
       "      <td>Manager</td>\n",
       "    </tr>\n",
       "    <tr>\n",
       "      <th>1</th>\n",
       "      <td>manager, information security</td>\n",
       "      <td>[manager, information, security]</td>\n",
       "      <td>Information Security</td>\n",
       "      <td>IT</td>\n",
       "      <td>Manager</td>\n",
       "    </tr>\n",
       "    <tr>\n",
       "      <th>2</th>\n",
       "      <td>user experience analyst</td>\n",
       "      <td>[user, experience, analyst]</td>\n",
       "      <td>N/A</td>\n",
       "      <td>Engineering</td>\n",
       "      <td>Contributor</td>\n",
       "    </tr>\n",
       "    <tr>\n",
       "      <th>3</th>\n",
       "      <td>network specialist</td>\n",
       "      <td>[network, specialist]</td>\n",
       "      <td>Networking</td>\n",
       "      <td>IT</td>\n",
       "      <td>Contributor</td>\n",
       "    </tr>\n",
       "    <tr>\n",
       "      <th>4</th>\n",
       "      <td>director privacy compliance</td>\n",
       "      <td>[director, privacy, compliance]</td>\n",
       "      <td>Information Security</td>\n",
       "      <td>IT</td>\n",
       "      <td>Director</td>\n",
       "    </tr>\n",
       "  </tbody>\n",
       "</table>\n",
       "</div>"
      ],
      "text/plain": [
       "                           Title                      Title_Tokens  \\\n",
       "0          manager-cybersecurity          [manager, cybersecurity]   \n",
       "1  manager, information security  [manager, information, security]   \n",
       "2        user experience analyst       [user, experience, analyst]   \n",
       "3             network specialist             [network, specialist]   \n",
       "4    director privacy compliance   [director, privacy, compliance]   \n",
       "\n",
       "               Job Role Job Function    Job Level  \n",
       "0  Information Security           IT      Manager  \n",
       "1  Information Security           IT      Manager  \n",
       "2                   N/A  Engineering  Contributor  \n",
       "3            Networking           IT  Contributor  \n",
       "4  Information Security           IT     Director  "
      ]
     },
     "execution_count": 27,
     "metadata": {},
     "output_type": "execute_result"
    }
   ],
   "source": [
    "#add the tokens as a column in df\n",
    "df.insert(1, 'Title_Tokens', tokenised_titles)\n",
    "df.head()"
   ]
  },
  {
   "cell_type": "code",
   "execution_count": 28,
   "id": "397379f4",
   "metadata": {},
   "outputs": [
    {
     "data": {
      "text/plain": [
       "(4458100, 9898370)"
      ]
     },
     "execution_count": 28,
     "metadata": {},
     "output_type": "execute_result"
    }
   ],
   "source": [
    "#initialize and train model\n",
    "model = gensim.models.Word2Vec(window=2,min_count=1, workers=4)\n",
    "model.build_vocab(df['Title_Tokens'])#this is a required step before training the model \n",
    "model.train(df['Title_Tokens'], total_examples=model.corpus_count, epochs=model.epochs) #default vector_size = 100\n"
   ]
  },
  {
   "cell_type": "code",
   "execution_count": 29,
   "id": "fe292e50",
   "metadata": {},
   "outputs": [
    {
     "data": {
      "text/plain": [
       "[('director', 0.7009299993515015),\n",
       " ('leader', 0.6988219022750854),\n",
       " ('mgr', 0.671646773815155),\n",
       " ('manger', 0.6508705019950867),\n",
       " ('supervisor', 0.6294075846672058),\n",
       " ('lead', 0.620506763458252),\n",
       " ('analyst', 0.603598952293396),\n",
       " ('head', 0.6028900146484375),\n",
       " ('specialist', 0.5945497155189514),\n",
       " ('coordinator', 0.5887508988380432)]"
      ]
     },
     "execution_count": 29,
     "metadata": {},
     "output_type": "execute_result"
    }
   ],
   "source": [
    "model.wv.most_similar(\"manager\")"
   ]
  },
  {
   "cell_type": "code",
   "execution_count": 30,
   "id": "3afe6d4c",
   "metadata": {},
   "outputs": [
    {
     "data": {
      "text/plain": [
       "[('specialist', 0.754058301448822),\n",
       " ('analysts', 0.7430660724639893),\n",
       " ('technician', 0.6369121670722961),\n",
       " ('intern', 0.621850311756134),\n",
       " ('manger', 0.6095274686813354),\n",
       " ('manager', 0.603598952293396),\n",
       " ('engineer', 0.6031732559204102),\n",
       " ('cloudselect', 0.5979779958724976),\n",
       " ('enginner', 0.5970101952552795),\n",
       " ('spec', 0.5925499796867371)]"
      ]
     },
     "execution_count": 30,
     "metadata": {},
     "output_type": "execute_result"
    }
   ],
   "source": [
    "model.wv.most_similar(\"analyst\")"
   ]
  },
  {
   "cell_type": "code",
   "execution_count": 31,
   "id": "ff8d057c",
   "metadata": {},
   "outputs": [
    {
     "data": {
      "text/plain": [
       "[('noc', 0.6353093981742859),\n",
       " ('networks', 0.5984349250793457),\n",
       " ('installation', 0.5947428345680237),\n",
       " ('carrier', 0.5877697467803955),\n",
       " ('centralized', 0.5877643823623657),\n",
       " ('broadcast', 0.5738204121589661),\n",
       " ('video', 0.5697857141494751),\n",
       " ('eoc', 0.5618852376937866),\n",
       " ('omo', 0.5563306212425232),\n",
       " ('networking', 0.5404847860336304)]"
      ]
     },
     "execution_count": 31,
     "metadata": {},
     "output_type": "execute_result"
    }
   ],
   "source": [
    "model.wv.most_similar(\"network\")"
   ]
  },
  {
   "cell_type": "code",
   "execution_count": 32,
   "id": "b5c44a0e",
   "metadata": {},
   "outputs": [
    {
     "data": {
      "text/html": [
       "<div>\n",
       "<style scoped>\n",
       "    .dataframe tbody tr th:only-of-type {\n",
       "        vertical-align: middle;\n",
       "    }\n",
       "\n",
       "    .dataframe tbody tr th {\n",
       "        vertical-align: top;\n",
       "    }\n",
       "\n",
       "    .dataframe thead th {\n",
       "        text-align: right;\n",
       "    }\n",
       "</style>\n",
       "<table border=\"1\" class=\"dataframe\">\n",
       "  <thead>\n",
       "    <tr style=\"text-align: right;\">\n",
       "      <th></th>\n",
       "      <th>Title</th>\n",
       "      <th>Title_Tokens</th>\n",
       "      <th>Title_Vec</th>\n",
       "      <th>Job Role</th>\n",
       "      <th>Job Function</th>\n",
       "      <th>Job Level</th>\n",
       "    </tr>\n",
       "  </thead>\n",
       "  <tbody>\n",
       "    <tr>\n",
       "      <th>0</th>\n",
       "      <td>manager-cybersecurity</td>\n",
       "      <td>[manager, cybersecurity]</td>\n",
       "      <td>[-0.45688772, 1.648301, -0.4126865, -1.1483161...</td>\n",
       "      <td>Information Security</td>\n",
       "      <td>IT</td>\n",
       "      <td>Manager</td>\n",
       "    </tr>\n",
       "    <tr>\n",
       "      <th>1</th>\n",
       "      <td>manager, information security</td>\n",
       "      <td>[manager, information, security]</td>\n",
       "      <td>[-0.58403826, 3.7550025, -0.2716064, -1.603669...</td>\n",
       "      <td>Information Security</td>\n",
       "      <td>IT</td>\n",
       "      <td>Manager</td>\n",
       "    </tr>\n",
       "    <tr>\n",
       "      <th>2</th>\n",
       "      <td>user experience analyst</td>\n",
       "      <td>[user, experience, analyst]</td>\n",
       "      <td>[-1.0252491, 2.248923, -0.5732887, -3.41615, 0...</td>\n",
       "      <td>N/A</td>\n",
       "      <td>Engineering</td>\n",
       "      <td>Contributor</td>\n",
       "    </tr>\n",
       "    <tr>\n",
       "      <th>3</th>\n",
       "      <td>network specialist</td>\n",
       "      <td>[network, specialist]</td>\n",
       "      <td>[-0.5637119, 1.987749, -0.42509258, 0.640834, ...</td>\n",
       "      <td>Networking</td>\n",
       "      <td>IT</td>\n",
       "      <td>Contributor</td>\n",
       "    </tr>\n",
       "    <tr>\n",
       "      <th>4</th>\n",
       "      <td>director privacy compliance</td>\n",
       "      <td>[director, privacy, compliance]</td>\n",
       "      <td>[0.3347448, 2.9563966, -0.5382847, 0.24741949,...</td>\n",
       "      <td>Information Security</td>\n",
       "      <td>IT</td>\n",
       "      <td>Director</td>\n",
       "    </tr>\n",
       "  </tbody>\n",
       "</table>\n",
       "</div>"
      ],
      "text/plain": [
       "                           Title                      Title_Tokens  \\\n",
       "0          manager-cybersecurity          [manager, cybersecurity]   \n",
       "1  manager, information security  [manager, information, security]   \n",
       "2        user experience analyst       [user, experience, analyst]   \n",
       "3             network specialist             [network, specialist]   \n",
       "4    director privacy compliance   [director, privacy, compliance]   \n",
       "\n",
       "                                           Title_Vec              Job Role  \\\n",
       "0  [-0.45688772, 1.648301, -0.4126865, -1.1483161...  Information Security   \n",
       "1  [-0.58403826, 3.7550025, -0.2716064, -1.603669...  Information Security   \n",
       "2  [-1.0252491, 2.248923, -0.5732887, -3.41615, 0...                   N/A   \n",
       "3  [-0.5637119, 1.987749, -0.42509258, 0.640834, ...            Networking   \n",
       "4  [0.3347448, 2.9563966, -0.5382847, 0.24741949,...  Information Security   \n",
       "\n",
       "  Job Function    Job Level  \n",
       "0           IT      Manager  \n",
       "1           IT      Manager  \n",
       "2  Engineering  Contributor  \n",
       "3           IT  Contributor  \n",
       "4           IT     Director  "
      ]
     },
     "execution_count": 32,
     "metadata": {},
     "output_type": "execute_result"
    }
   ],
   "source": [
    "import numpy as np\n",
    "\n",
    "#below function creates a vector for a title by adding the vector of each word in it\n",
    "def get_title_vec(title_tokens):\n",
    "    # create a list of vectors of all the tokens in a title\n",
    "    vectors = [ model.wv[token] for token in title_tokens]\n",
    "    #sum all the vectors in the list\n",
    "    return np.sum(vectors, axis=0)\n",
    "\n",
    "title_vecs = df['Title_Tokens'].map(get_title_vec)\n",
    "#Add title vecs as a column in df \n",
    "df.insert(2, 'Title_Vec', title_vecs)\n",
    "df.head()"
   ]
  },
  {
   "cell_type": "code",
   "execution_count": 35,
   "id": "33324b33",
   "metadata": {},
   "outputs": [
    {
     "name": "stderr",
     "output_type": "stream",
     "text": [
      "[nltk_data] Downloading package stopwords to\n",
      "[nltk_data]     C:\\Users\\ltobin7\\AppData\\Roaming\\nltk_data...\n",
      "[nltk_data]   Unzipping corpora\\stopwords.zip.\n"
     ]
    },
    {
     "data": {
      "text/plain": [
       "True"
      ]
     },
     "execution_count": 35,
     "metadata": {},
     "output_type": "execute_result"
    }
   ],
   "source": [
    "import nltk\n",
    "nltk.download('stopwords')"
   ]
  },
  {
   "cell_type": "code",
   "execution_count": 40,
   "id": "b83290ad",
   "metadata": {},
   "outputs": [],
   "source": [
    "# First set up DTM\n",
    "from sklearn.feature_extraction.text import CountVectorizer\n",
    "from nltk.corpus import stopwords\n",
    "stops = stopwords.words('english')\n",
    "\n",
    "# Vectorize titles \n",
    "vec = CountVectorizer(token_pattern = r'\\b[a-zA-Z_]{3,}[a-zA-Z]*\\b', # DO NOT REMOVE THIS LINE!!!!!!!!!\n",
    "                      max_df=0.5,\n",
    "                      lowercase=True, \n",
    "                      stop_words=list(stops), \n",
    "                      max_features=1000, ngram_range=(1,2)) \n",
    "dtm = vec.fit_transform(df['Title'])"
   ]
  },
  {
   "cell_type": "code",
   "execution_count": 41,
   "id": "ae0eb7e1",
   "metadata": {},
   "outputs": [],
   "source": [
    "# Create training and validation samples\n",
    "from sklearn.model_selection import train_test_split\n",
    "\n",
    "trainX,validX,trainy,validy = train_test_split(dtm, df['Job Function'],train_size=0.80,random_state=123)"
   ]
  },
  {
   "cell_type": "code",
   "execution_count": null,
   "id": "3f0f7e11",
   "metadata": {},
   "outputs": [],
   "source": [
    "# Start with Bayes Naive Classifier to determine Job Function "
   ]
  },
  {
   "cell_type": "code",
   "execution_count": null,
   "id": "3444a73b",
   "metadata": {},
   "outputs": [],
   "source": [
    "#  From here - create two additional Naive Bayes Classifiers\n",
    "# (1) Tune a Naive Bayes Classifier to identify Job Role for IT Function\n",
    "# (2) Tune Naive Bayes Classifier to identify Job Level for IT and non-IT (but not non-ICP)\n",
    "\n",
    "\n",
    "# Also worth checking performance (if time) - is it better if there is just one Naive Bayes Classifier for all job title\n",
    "# to determine function, role, level? "
   ]
  },
  {
   "cell_type": "code",
   "execution_count": null,
   "id": "57114bc7",
   "metadata": {},
   "outputs": [],
   "source": [
    "# Once final model is decided, need to create code to input CSV file with Record ID, Job Title\n",
    "# Output will be Record ID, Job Title, Job Function, Job Role, Job Level "
   ]
  }
 ],
 "metadata": {
  "kernelspec": {
   "display_name": "Python 3 (ipykernel)",
   "language": "python",
   "name": "python3"
  },
  "language_info": {
   "codemirror_mode": {
    "name": "ipython",
    "version": 3
   },
   "file_extension": ".py",
   "mimetype": "text/x-python",
   "name": "python",
   "nbconvert_exporter": "python",
   "pygments_lexer": "ipython3",
   "version": "3.11.5"
  }
 },
 "nbformat": 4,
 "nbformat_minor": 5
}
