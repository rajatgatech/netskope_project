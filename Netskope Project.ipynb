{
 "cells": [
  {
   "cell_type": "code",
   "execution_count": 1,
   "id": "652505f0",
   "metadata": {
    "scrolled": true
   },
   "outputs": [],
   "source": [
    "#!pip install pandas\n",
    "#!pip install nltk\n",
    "# !pip install langdetect\n",
    "# !pip install scikit-learn gensim\n",
    "import pandas as pd\n"
   ]
  },
  {
   "cell_type": "code",
   "execution_count": 2,
   "id": "7f749062",
   "metadata": {
    "scrolled": true
   },
   "outputs": [
    {
     "data": {
      "text/html": [
       "<div>\n",
       "<style scoped>\n",
       "    .dataframe tbody tr th:only-of-type {\n",
       "        vertical-align: middle;\n",
       "    }\n",
       "\n",
       "    .dataframe tbody tr th {\n",
       "        vertical-align: top;\n",
       "    }\n",
       "\n",
       "    .dataframe thead th {\n",
       "        text-align: right;\n",
       "    }\n",
       "</style>\n",
       "<table border=\"1\" class=\"dataframe\">\n",
       "  <thead>\n",
       "    <tr style=\"text-align: right;\">\n",
       "      <th></th>\n",
       "      <th>Title</th>\n",
       "      <th>Job Role</th>\n",
       "      <th>Job Function</th>\n",
       "      <th>Job Level</th>\n",
       "    </tr>\n",
       "  </thead>\n",
       "  <tbody>\n",
       "    <tr>\n",
       "      <th>0</th>\n",
       "      <td>Manager-Cybersecurity</td>\n",
       "      <td>Information Security</td>\n",
       "      <td>IT</td>\n",
       "      <td>Manager</td>\n",
       "    </tr>\n",
       "    <tr>\n",
       "      <th>1</th>\n",
       "      <td>Manager, Information Security</td>\n",
       "      <td>Information Security</td>\n",
       "      <td>IT</td>\n",
       "      <td>Manager</td>\n",
       "    </tr>\n",
       "    <tr>\n",
       "      <th>2</th>\n",
       "      <td>User Experience Analyst</td>\n",
       "      <td>Development</td>\n",
       "      <td>Engineering</td>\n",
       "      <td>Contributor</td>\n",
       "    </tr>\n",
       "    <tr>\n",
       "      <th>3</th>\n",
       "      <td>Network Specialist</td>\n",
       "      <td>Networking</td>\n",
       "      <td>IT</td>\n",
       "      <td>Contributor</td>\n",
       "    </tr>\n",
       "    <tr>\n",
       "      <th>4</th>\n",
       "      <td>Director of Privacy and Compliance</td>\n",
       "      <td>Information Security</td>\n",
       "      <td>IT</td>\n",
       "      <td>Director</td>\n",
       "    </tr>\n",
       "  </tbody>\n",
       "</table>\n",
       "</div>"
      ],
      "text/plain": [
       "                                Title              Job Role Job Function  \\\n",
       "0               Manager-Cybersecurity  Information Security           IT   \n",
       "1       Manager, Information Security  Information Security           IT   \n",
       "2             User Experience Analyst           Development  Engineering   \n",
       "3                  Network Specialist            Networking           IT   \n",
       "4  Director of Privacy and Compliance  Information Security           IT   \n",
       "\n",
       "     Job Level  \n",
       "0      Manager  \n",
       "1      Manager  \n",
       "2  Contributor  \n",
       "3  Contributor  \n",
       "4     Director  "
      ]
     },
     "execution_count": 2,
     "metadata": {},
     "output_type": "execute_result"
    }
   ],
   "source": [
    "df = pd.read_csv('Historical Lead Records.csv', encoding='latin1')\n",
    "\n",
    "df.head()"
   ]
  },
  {
   "cell_type": "code",
   "execution_count": 3,
   "id": "7b4fcc54",
   "metadata": {},
   "outputs": [
    {
     "data": {
      "text/plain": [
       "865671"
      ]
     },
     "execution_count": 3,
     "metadata": {},
     "output_type": "execute_result"
    }
   ],
   "source": [
    "#make title column lowercase\n",
    "df['Title'] = df['Title'].str.lower()\n",
    "\n",
    "df.shape[0]"
   ]
  },
  {
   "cell_type": "code",
   "execution_count": 4,
   "id": "59f06cad",
   "metadata": {},
   "outputs": [],
   "source": [
    "#data relableing to most frequent F/R/L\n",
    "def most_frequent(x):\n",
    "    if not x.empty and len(x.value_counts()) > 0:\n",
    "        return x.value_counts().index[0]\n",
    "    else:\n",
    "        return None\n",
    "\n",
    "grouped = df.groupby('Title').agg(most_frequent)\n",
    "grouped.reset_index(inplace=True)\n",
    "\n",
    "merged_df = pd.merge(df, grouped, on='Title', suffixes=('', '_most_frequent'))\n",
    "\n",
    "merged_df.drop(['Job Role', 'Job Function', 'Job Level'], axis=1, inplace=True)\n",
    "\n",
    "merged_df.rename(columns={'Job Role_most_frequent': 'Job Role', 'Job Function_most_frequent': 'Job Function', 'Job Level_most_frequent': 'Job Level'}, inplace=True)\n"
   ]
  },
  {
   "cell_type": "code",
   "execution_count": 5,
   "id": "da672f27",
   "metadata": {
    "scrolled": false
   },
   "outputs": [
    {
     "name": "stdout",
     "output_type": "stream",
     "text": [
      "Title           12690\n",
      "Job Role         4502\n",
      "Job Function     5083\n",
      "Job Level       24546\n",
      "dtype: int64\n"
     ]
    }
   ],
   "source": [
    "na_counts = df.isna().sum()\n",
    "print(na_counts)"
   ]
  },
  {
   "cell_type": "code",
   "execution_count": 6,
   "id": "62b57ca2",
   "metadata": {},
   "outputs": [
    {
     "name": "stdout",
     "output_type": "stream",
     "text": [
      "865671\n",
      "1616\n",
      "864055\n"
     ]
    }
   ],
   "source": [
    "#1616 rows are completely empty\n",
    "before_dropping = df.shape[0]\n",
    "empty_rows= df.isna().all(axis=1).sum()\n",
    "df = df.dropna(how='all')\n",
    "after_dropping = df.shape[0]\n",
    "\n",
    "\n",
    "print (before_dropping)\n",
    "print (empty_rows)\n",
    "print (after_dropping)"
   ]
  },
  {
   "cell_type": "code",
   "execution_count": 7,
   "id": "9eebd913",
   "metadata": {},
   "outputs": [
    {
     "data": {
      "text/plain": [
       "148"
      ]
     },
     "execution_count": 7,
     "metadata": {},
     "output_type": "execute_result"
    }
   ],
   "source": [
    "question_mark = df['Title'].str.contains('\\?').sum()\n",
    "question_mark"
   ]
  },
  {
   "cell_type": "code",
   "execution_count": 8,
   "id": "1f41c8aa",
   "metadata": {},
   "outputs": [
    {
     "data": {
      "text/plain": [
       "0"
      ]
     },
     "execution_count": 8,
     "metadata": {},
     "output_type": "execute_result"
    }
   ],
   "source": [
    "# #replacing all question marks with empty strings\n",
    "df['Title'] = df['Title'].str.replace('?', '')\n",
    "question_mark1 = df['Title'].str.contains('\\?').sum()\n",
    "question_mark1"
   ]
  },
  {
   "cell_type": "code",
   "execution_count": 9,
   "id": "b71b8c8d",
   "metadata": {
    "scrolled": true
   },
   "outputs": [
    {
     "data": {
      "text/plain": [
       "852981"
      ]
     },
     "execution_count": 9,
     "metadata": {},
     "output_type": "execute_result"
    }
   ],
   "source": [
    "df = df.dropna(subset=['Title'])\n",
    "df.shape[0]"
   ]
  },
  {
   "cell_type": "code",
   "execution_count": 12,
   "id": "0111dce6",
   "metadata": {},
   "outputs": [],
   "source": [
    "from langdetect import detect\n",
    "from langdetect.lang_detect_exception import LangDetectException\n",
    "from joblib import Parallel, delayed\n",
    "import numpy as np\n",
    "\n",
    "def is_english(text):\n",
    "    try:\n",
    "        return detect(str(text)) == 'en'\n",
    "    except LangDetectException:\n",
    "        return False\n",
    "\n",
    "def filter_english_titles(df):\n",
    "    return df[df['Title'].apply(is_english)]\n",
    "\n",
    "num_jobs = 4\n",
    "chunks = np.array_split(df, num_jobs)\n",
    "df_filtered_chunks = Parallel(n_jobs=num_jobs)(\n",
    "    delayed(filter_english_titles)(chunk) for chunk in chunks\n",
    ")\n",
    "df_filtered = pd.concat(df_filtered_chunks)\n",
    "\n"
   ]
  },
  {
   "cell_type": "code",
   "execution_count": 4,
   "id": "70e5aefe",
   "metadata": {},
   "outputs": [
    {
     "data": {
      "text/plain": [
       "550384"
      ]
     },
     "execution_count": 4,
     "metadata": {},
     "output_type": "execute_result"
    }
   ],
   "source": [
    "df_filtered.shape[0]"
   ]
  },
  {
   "cell_type": "code",
   "execution_count": 5,
   "id": "66443b87",
   "metadata": {},
   "outputs": [
    {
     "data": {
      "text/html": [
       "<div>\n",
       "<style scoped>\n",
       "    .dataframe tbody tr th:only-of-type {\n",
       "        vertical-align: middle;\n",
       "    }\n",
       "\n",
       "    .dataframe tbody tr th {\n",
       "        vertical-align: top;\n",
       "    }\n",
       "\n",
       "    .dataframe thead th {\n",
       "        text-align: right;\n",
       "    }\n",
       "</style>\n",
       "<table border=\"1\" class=\"dataframe\">\n",
       "  <thead>\n",
       "    <tr style=\"text-align: right;\">\n",
       "      <th></th>\n",
       "      <th>Title</th>\n",
       "      <th>Job Role</th>\n",
       "      <th>Job Function</th>\n",
       "      <th>Job Level</th>\n",
       "    </tr>\n",
       "  </thead>\n",
       "  <tbody>\n",
       "    <tr>\n",
       "      <th>0</th>\n",
       "      <td>manager-cybersecurity</td>\n",
       "      <td>Information Security</td>\n",
       "      <td>IT</td>\n",
       "      <td>Manager</td>\n",
       "    </tr>\n",
       "    <tr>\n",
       "      <th>1</th>\n",
       "      <td>manager, information security</td>\n",
       "      <td>Information Security</td>\n",
       "      <td>IT</td>\n",
       "      <td>Manager</td>\n",
       "    </tr>\n",
       "    <tr>\n",
       "      <th>2</th>\n",
       "      <td>user experience analyst</td>\n",
       "      <td>Development</td>\n",
       "      <td>Engineering</td>\n",
       "      <td>Contributor</td>\n",
       "    </tr>\n",
       "    <tr>\n",
       "      <th>3</th>\n",
       "      <td>network specialist</td>\n",
       "      <td>Networking</td>\n",
       "      <td>IT</td>\n",
       "      <td>Contributor</td>\n",
       "    </tr>\n",
       "    <tr>\n",
       "      <th>4</th>\n",
       "      <td>director of privacy and compliance</td>\n",
       "      <td>Information Security</td>\n",
       "      <td>IT</td>\n",
       "      <td>Director</td>\n",
       "    </tr>\n",
       "  </tbody>\n",
       "</table>\n",
       "</div>"
      ],
      "text/plain": [
       "                                Title              Job Role Job Function  \\\n",
       "0               manager-cybersecurity  Information Security           IT   \n",
       "1       manager, information security  Information Security           IT   \n",
       "2             user experience analyst           Development  Engineering   \n",
       "3                  network specialist            Networking           IT   \n",
       "4  director of privacy and compliance  Information Security           IT   \n",
       "\n",
       "     Job Level  \n",
       "0      Manager  \n",
       "1      Manager  \n",
       "2  Contributor  \n",
       "3  Contributor  \n",
       "4     Director  "
      ]
     },
     "execution_count": 5,
     "metadata": {},
     "output_type": "execute_result"
    }
   ],
   "source": [
    "df_filtered.head()"
   ]
  },
  {
   "cell_type": "code",
   "execution_count": 14,
   "id": "c015e709",
   "metadata": {},
   "outputs": [],
   "source": [
    "replacements = {'IT Audit / IT Compliance': 'Risk/Legal/Compliance',\n",
    "               'IT': 'IT',\n",
    "               'Engineering': 'Engineering',\n",
    "               'Purchasing': 'Procurement',\n",
    "               'Legal': 'Risk/Legal/Compliance',\n",
    "               'Finance': 'Non-ICP',\n",
    "               'Marketing': 'Non-ICP',\n",
    "               'Sales': 'Non-ICP',\n",
    "               'Unknown': 'Non-ICP',\n",
    "               'Facilities': 'Non-ICP',\n",
    "               'Human Resource': 'Non-ICP',\n",
    "               'Management': 'Non-ICP',\n",
    "               'Services': 'Non-ICP',\n",
    "               'Operations': 'Non-ICP',\n",
    "               'Administration': 'Non-ICP',\n",
    "               'Corporate': 'Non-ICP',\n",
    "               'Support': 'Non-ICP',\n",
    "               'Education': 'Non-ICP',\n",
    "               'Public Sector': 'Non-ICP',\n",
    "               'Procurement': 'Procurement',\n",
    "               'Medical': 'Non-ICP',\n",
    "               'Other': 'Non-ICP',\n",
    "               'IT Audit / IT Compliance': 'Risk/Legal/Compliance',\n",
    "               'Information Security': 'IT',\n",
    "               'IT - Security': 'IT',\n",
    "               'Help Desk / Desktop Services': 'IT',\n",
    "               'Information Technology': 'IT',\n",
    "               'Infrastructure': 'Non-ICP',\n",
    "               'Customer Service / Support': 'Non-ICP',\n",
    "               'Emerging Technology / Innovation': 'IT'}"
   ]
  },
  {
   "cell_type": "code",
   "execution_count": 15,
   "id": "f55d8742",
   "metadata": {},
   "outputs": [],
   "source": [
    "# Create dictionary for Job Role within IT function\n",
    "replacements_role = {'Information Security': 'Information Security',\n",
    "               'information security': 'Information Security',\n",
    "               'Networking': 'Networking',\n",
    "               'IT General': 'IT General',\n",
    "               'None Technical': 'IT General',\n",
    "               'Help Desk': 'IT General',\n",
    "               'Governance Risk Compliance': 'IT General',\n",
    "               'Program Management': 'IT General',\n",
    "               'Data': 'IT General',\n",
    "               'IT Facilities': 'IT General',\n",
    "               'Operations': 'IT General',\n",
    "               'Communications': 'IT General',\n",
    "               'Integration': 'IT General',\n",
    "               'Vendor Management': 'IT General',\n",
    "               'Training': 'IT General',\n",
    "               'Business Continuity': 'IT General',\n",
    "               'Other': 'IT General',\n",
    "               'Development': 'Development',\n",
    "                'Security': 'Information Security',\n",
    "                    'Business Systems': 'Systems'}"
   ]
  },
  {
   "cell_type": "code",
   "execution_count": 16,
   "id": "e12ca477",
   "metadata": {},
   "outputs": [],
   "source": [
    "df_filtered['Job Function'] = df_filtered['Job Function'].replace(replacements)\n",
    "df_filtered['Job Function'] = df_filtered['Job Function'].fillna('Non-ICP')"
   ]
  },
  {
   "cell_type": "code",
   "execution_count": 17,
   "id": "0cca4144",
   "metadata": {},
   "outputs": [
    {
     "data": {
      "text/plain": [
       "array(['IT', 'Engineering', 'Procurement', 'Risk/Legal/Compliance',\n",
       "       'Non-ICP'], dtype=object)"
      ]
     },
     "execution_count": 17,
     "metadata": {},
     "output_type": "execute_result"
    }
   ],
   "source": [
    "df_filtered['Job Function'].unique()"
   ]
  },
  {
   "cell_type": "code",
   "execution_count": 18,
   "id": "8502f823",
   "metadata": {},
   "outputs": [],
   "source": [
    "def replace_role(row):\n",
    "    if pd.isnull(row['Job Function']): \n",
    "        return 'N/A'\n",
    "    elif 'IT' not in row['Job Function']:\n",
    "        return 'N/A'\n",
    "    else:\n",
    "        return row['Job Role']\n",
    "\n",
    "df_filtered['Job Role'] = df_filtered.apply(replace_role, axis=1)"
   ]
  },
  {
   "cell_type": "code",
   "execution_count": 19,
   "id": "ae32e92f",
   "metadata": {},
   "outputs": [
    {
     "data": {
      "text/html": [
       "<div>\n",
       "<style scoped>\n",
       "    .dataframe tbody tr th:only-of-type {\n",
       "        vertical-align: middle;\n",
       "    }\n",
       "\n",
       "    .dataframe tbody tr th {\n",
       "        vertical-align: top;\n",
       "    }\n",
       "\n",
       "    .dataframe thead th {\n",
       "        text-align: right;\n",
       "    }\n",
       "</style>\n",
       "<table border=\"1\" class=\"dataframe\">\n",
       "  <thead>\n",
       "    <tr style=\"text-align: right;\">\n",
       "      <th></th>\n",
       "      <th>Title</th>\n",
       "      <th>Job Role</th>\n",
       "      <th>Job Function</th>\n",
       "      <th>Job Level</th>\n",
       "    </tr>\n",
       "  </thead>\n",
       "  <tbody>\n",
       "    <tr>\n",
       "      <th>0</th>\n",
       "      <td>manager-cybersecurity</td>\n",
       "      <td>Information Security</td>\n",
       "      <td>IT</td>\n",
       "      <td>Manager</td>\n",
       "    </tr>\n",
       "    <tr>\n",
       "      <th>1</th>\n",
       "      <td>manager, information security</td>\n",
       "      <td>Information Security</td>\n",
       "      <td>IT</td>\n",
       "      <td>Manager</td>\n",
       "    </tr>\n",
       "    <tr>\n",
       "      <th>2</th>\n",
       "      <td>user experience analyst</td>\n",
       "      <td>N/A</td>\n",
       "      <td>Engineering</td>\n",
       "      <td>Contributor</td>\n",
       "    </tr>\n",
       "    <tr>\n",
       "      <th>3</th>\n",
       "      <td>network specialist</td>\n",
       "      <td>Networking</td>\n",
       "      <td>IT</td>\n",
       "      <td>Contributor</td>\n",
       "    </tr>\n",
       "    <tr>\n",
       "      <th>4</th>\n",
       "      <td>director of privacy and compliance</td>\n",
       "      <td>Information Security</td>\n",
       "      <td>IT</td>\n",
       "      <td>Director</td>\n",
       "    </tr>\n",
       "  </tbody>\n",
       "</table>\n",
       "</div>"
      ],
      "text/plain": [
       "                                Title              Job Role Job Function  \\\n",
       "0               manager-cybersecurity  Information Security           IT   \n",
       "1       manager, information security  Information Security           IT   \n",
       "2             user experience analyst                   N/A  Engineering   \n",
       "3                  network specialist            Networking           IT   \n",
       "4  director of privacy and compliance  Information Security           IT   \n",
       "\n",
       "     Job Level  \n",
       "0      Manager  \n",
       "1      Manager  \n",
       "2  Contributor  \n",
       "3  Contributor  \n",
       "4     Director  "
      ]
     },
     "execution_count": 19,
     "metadata": {},
     "output_type": "execute_result"
    }
   ],
   "source": [
    "#non_it = df_filtered[~df_filtered['Job Function'].str.contains('IT')]\n",
    "#non_it.head()\n",
    "df_filtered.head()"
   ]
  },
  {
   "cell_type": "code",
   "execution_count": 20,
   "id": "7421128c",
   "metadata": {},
   "outputs": [],
   "source": [
    "# since the cleaning steps above take a while to run, output df_filtered to csv\n",
    "df_filtered.to_csv('df_filtered.csv', index=False)\n",
    "df_filtered = pd.read_csv('df_filtered.csv')"
   ]
  },
  {
   "cell_type": "code",
   "execution_count": 21,
   "id": "eae24481",
   "metadata": {},
   "outputs": [],
   "source": [
    "df = df_filtered.applymap(lambda x: x.strip() if isinstance(x, str) else x)"
   ]
  },
  {
   "cell_type": "code",
   "execution_count": 22,
   "id": "e9d94101",
   "metadata": {},
   "outputs": [],
   "source": [
    "# Remove any stop words from the titles\n",
    "from gensim.parsing.preprocessing import remove_stopwords\n",
    "df['Title'] = df['Title'].apply(remove_stopwords)"
   ]
  },
  {
   "cell_type": "code",
   "execution_count": 23,
   "id": "33655504",
   "metadata": {},
   "outputs": [],
   "source": [
    "import gensim \n",
    "#Some more preprocessing that will remove punctuations. \n",
    "tokenised_titles = df['Title'].apply(gensim.utils.simple_preprocess)"
   ]
  },
  {
   "cell_type": "code",
   "execution_count": 107,
   "id": "f4914b1d",
   "metadata": {},
   "outputs": [
    {
     "data": {
      "text/plain": [
       "0            [manager, cybersecurity]\n",
       "1    [manager, information, security]\n",
       "2         [user, experience, analyst]\n",
       "3               [network, specialist]\n",
       "4     [director, privacy, compliance]\n",
       "Name: Title, dtype: object"
      ]
     },
     "execution_count": 107,
     "metadata": {},
     "output_type": "execute_result"
    }
   ],
   "source": [
    "tokenised_titles.head()"
   ]
  },
  {
   "cell_type": "code",
   "execution_count": 108,
   "id": "3eeb7cec",
   "metadata": {},
   "outputs": [
    {
     "data": {
      "text/html": [
       "<div>\n",
       "<style scoped>\n",
       "    .dataframe tbody tr th:only-of-type {\n",
       "        vertical-align: middle;\n",
       "    }\n",
       "\n",
       "    .dataframe tbody tr th {\n",
       "        vertical-align: top;\n",
       "    }\n",
       "\n",
       "    .dataframe thead th {\n",
       "        text-align: right;\n",
       "    }\n",
       "</style>\n",
       "<table border=\"1\" class=\"dataframe\">\n",
       "  <thead>\n",
       "    <tr style=\"text-align: right;\">\n",
       "      <th></th>\n",
       "      <th>Title</th>\n",
       "      <th>Title_Tokens</th>\n",
       "      <th>Job Role</th>\n",
       "      <th>Job Function</th>\n",
       "      <th>Job Level</th>\n",
       "    </tr>\n",
       "  </thead>\n",
       "  <tbody>\n",
       "    <tr>\n",
       "      <th>0</th>\n",
       "      <td>manager-cybersecurity</td>\n",
       "      <td>[manager, cybersecurity]</td>\n",
       "      <td>Information Security</td>\n",
       "      <td>IT</td>\n",
       "      <td>Manager</td>\n",
       "    </tr>\n",
       "    <tr>\n",
       "      <th>1</th>\n",
       "      <td>manager, information security</td>\n",
       "      <td>[manager, information, security]</td>\n",
       "      <td>Information Security</td>\n",
       "      <td>IT</td>\n",
       "      <td>Manager</td>\n",
       "    </tr>\n",
       "    <tr>\n",
       "      <th>2</th>\n",
       "      <td>user experience analyst</td>\n",
       "      <td>[user, experience, analyst]</td>\n",
       "      <td>N/A</td>\n",
       "      <td>Engineering</td>\n",
       "      <td>Contributor</td>\n",
       "    </tr>\n",
       "    <tr>\n",
       "      <th>3</th>\n",
       "      <td>network specialist</td>\n",
       "      <td>[network, specialist]</td>\n",
       "      <td>Networking</td>\n",
       "      <td>IT</td>\n",
       "      <td>Contributor</td>\n",
       "    </tr>\n",
       "    <tr>\n",
       "      <th>4</th>\n",
       "      <td>director privacy compliance</td>\n",
       "      <td>[director, privacy, compliance]</td>\n",
       "      <td>Information Security</td>\n",
       "      <td>IT</td>\n",
       "      <td>Director</td>\n",
       "    </tr>\n",
       "  </tbody>\n",
       "</table>\n",
       "</div>"
      ],
      "text/plain": [
       "                           Title                      Title_Tokens  \\\n",
       "0          manager-cybersecurity          [manager, cybersecurity]   \n",
       "1  manager, information security  [manager, information, security]   \n",
       "2        user experience analyst       [user, experience, analyst]   \n",
       "3             network specialist             [network, specialist]   \n",
       "4    director privacy compliance   [director, privacy, compliance]   \n",
       "\n",
       "               Job Role Job Function    Job Level  \n",
       "0  Information Security           IT      Manager  \n",
       "1  Information Security           IT      Manager  \n",
       "2                   N/A  Engineering  Contributor  \n",
       "3            Networking           IT  Contributor  \n",
       "4  Information Security           IT     Director  "
      ]
     },
     "execution_count": 108,
     "metadata": {},
     "output_type": "execute_result"
    }
   ],
   "source": [
    "#add the tokens as a column in df\n",
    "df.insert(1, 'Title_Tokens', tokenised_titles)\n",
    "df.head()"
   ]
  },
  {
   "cell_type": "code",
   "execution_count": 109,
   "id": "397379f4",
   "metadata": {},
   "outputs": [
    {
     "data": {
      "text/plain": [
       "(4458227, 9898370)"
      ]
     },
     "execution_count": 109,
     "metadata": {},
     "output_type": "execute_result"
    }
   ],
   "source": [
    "#initialize and train model\n",
    "model = gensim.models.Word2Vec(window=2,min_count=1, workers=4)\n",
    "model.build_vocab(df['Title_Tokens'])#this is a required step before training the model \n",
    "model.train(df['Title_Tokens'], total_examples=model.corpus_count, epochs=model.epochs) #default vector_size = 100\n"
   ]
  },
  {
   "cell_type": "code",
   "execution_count": 110,
   "id": "fe292e50",
   "metadata": {},
   "outputs": [
    {
     "data": {
      "text/plain": [
       "[('director', 0.7358762621879578),\n",
       " ('mgr', 0.6793808341026306),\n",
       " ('leader', 0.674602746963501),\n",
       " ('supervisor', 0.6448173522949219),\n",
       " ('manger', 0.6439144015312195),\n",
       " ('specialist', 0.6277974247932434),\n",
       " ('analyst', 0.6192675828933716),\n",
       " ('lead', 0.612668514251709),\n",
       " ('head', 0.6092585921287537),\n",
       " ('coordinator', 0.588858962059021)]"
      ]
     },
     "execution_count": 110,
     "metadata": {},
     "output_type": "execute_result"
    }
   ],
   "source": [
    "model.wv.most_similar(\"manager\")"
   ]
  },
  {
   "cell_type": "code",
   "execution_count": 111,
   "id": "3afe6d4c",
   "metadata": {},
   "outputs": [
    {
     "data": {
      "text/plain": [
       "[('specialist', 0.7811944484710693),\n",
       " ('analysts', 0.7446349263191223),\n",
       " ('technician', 0.6567827463150024),\n",
       " ('intern', 0.6476014852523804),\n",
       " ('anaylst', 0.6301019191741943),\n",
       " ('engineer', 0.6207007169723511),\n",
       " ('manager', 0.6192675232887268),\n",
       " ('manger', 0.6185704469680786),\n",
       " ('sisso', 0.6107224225997925),\n",
       " ('suny', 0.6050832867622375)]"
      ]
     },
     "execution_count": 111,
     "metadata": {},
     "output_type": "execute_result"
    }
   ],
   "source": [
    "model.wv.most_similar(\"analyst\")"
   ]
  },
  {
   "cell_type": "code",
   "execution_count": 112,
   "id": "ff8d057c",
   "metadata": {},
   "outputs": [
    {
     "data": {
      "text/plain": [
       "[('noc', 0.6227026581764221),\n",
       " ('networks', 0.5699936151504517),\n",
       " ('ip', 0.5679224133491516),\n",
       " ('installation', 0.5656102895736694),\n",
       " ('grid', 0.5579527616500854),\n",
       " ('contracing', 0.5548722743988037),\n",
       " ('datacenter', 0.553804337978363),\n",
       " ('wintel', 0.5414943099021912),\n",
       " ('infrastracture', 0.5413138270378113),\n",
       " ('variance', 0.5400795340538025)]"
      ]
     },
     "execution_count": 112,
     "metadata": {},
     "output_type": "execute_result"
    }
   ],
   "source": [
    "model.wv.most_similar(\"network\")"
   ]
  },
  {
   "cell_type": "code",
   "execution_count": 113,
   "id": "b5c44a0e",
   "metadata": {},
   "outputs": [
    {
     "data": {
      "text/html": [
       "<div>\n",
       "<style scoped>\n",
       "    .dataframe tbody tr th:only-of-type {\n",
       "        vertical-align: middle;\n",
       "    }\n",
       "\n",
       "    .dataframe tbody tr th {\n",
       "        vertical-align: top;\n",
       "    }\n",
       "\n",
       "    .dataframe thead th {\n",
       "        text-align: right;\n",
       "    }\n",
       "</style>\n",
       "<table border=\"1\" class=\"dataframe\">\n",
       "  <thead>\n",
       "    <tr style=\"text-align: right;\">\n",
       "      <th></th>\n",
       "      <th>Title</th>\n",
       "      <th>Title_Tokens</th>\n",
       "      <th>Title_Vec</th>\n",
       "      <th>Job Role</th>\n",
       "      <th>Job Function</th>\n",
       "      <th>Job Level</th>\n",
       "    </tr>\n",
       "  </thead>\n",
       "  <tbody>\n",
       "    <tr>\n",
       "      <th>0</th>\n",
       "      <td>manager-cybersecurity</td>\n",
       "      <td>[manager, cybersecurity]</td>\n",
       "      <td>[-0.12915187, 1.4431016, -0.97067034, -0.44038...</td>\n",
       "      <td>Information Security</td>\n",
       "      <td>IT</td>\n",
       "      <td>Manager</td>\n",
       "    </tr>\n",
       "    <tr>\n",
       "      <th>1</th>\n",
       "      <td>manager, information security</td>\n",
       "      <td>[manager, information, security]</td>\n",
       "      <td>[-0.80308545, 3.709479, -1.2591271, -0.8867336...</td>\n",
       "      <td>Information Security</td>\n",
       "      <td>IT</td>\n",
       "      <td>Manager</td>\n",
       "    </tr>\n",
       "    <tr>\n",
       "      <th>2</th>\n",
       "      <td>user experience analyst</td>\n",
       "      <td>[user, experience, analyst]</td>\n",
       "      <td>[0.08790761, 1.834218, -0.5568815, -3.3963838,...</td>\n",
       "      <td>N/A</td>\n",
       "      <td>Engineering</td>\n",
       "      <td>Contributor</td>\n",
       "    </tr>\n",
       "    <tr>\n",
       "      <th>3</th>\n",
       "      <td>network specialist</td>\n",
       "      <td>[network, specialist]</td>\n",
       "      <td>[-0.2251893, 3.0408993, 0.011231333, 0.5964745...</td>\n",
       "      <td>Networking</td>\n",
       "      <td>IT</td>\n",
       "      <td>Contributor</td>\n",
       "    </tr>\n",
       "    <tr>\n",
       "      <th>4</th>\n",
       "      <td>director privacy compliance</td>\n",
       "      <td>[director, privacy, compliance]</td>\n",
       "      <td>[-0.9724124, 3.0888586, -1.6333616, 0.85276854...</td>\n",
       "      <td>Information Security</td>\n",
       "      <td>IT</td>\n",
       "      <td>Director</td>\n",
       "    </tr>\n",
       "  </tbody>\n",
       "</table>\n",
       "</div>"
      ],
      "text/plain": [
       "                           Title                      Title_Tokens  \\\n",
       "0          manager-cybersecurity          [manager, cybersecurity]   \n",
       "1  manager, information security  [manager, information, security]   \n",
       "2        user experience analyst       [user, experience, analyst]   \n",
       "3             network specialist             [network, specialist]   \n",
       "4    director privacy compliance   [director, privacy, compliance]   \n",
       "\n",
       "                                           Title_Vec              Job Role  \\\n",
       "0  [-0.12915187, 1.4431016, -0.97067034, -0.44038...  Information Security   \n",
       "1  [-0.80308545, 3.709479, -1.2591271, -0.8867336...  Information Security   \n",
       "2  [0.08790761, 1.834218, -0.5568815, -3.3963838,...                   N/A   \n",
       "3  [-0.2251893, 3.0408993, 0.011231333, 0.5964745...            Networking   \n",
       "4  [-0.9724124, 3.0888586, -1.6333616, 0.85276854...  Information Security   \n",
       "\n",
       "  Job Function    Job Level  \n",
       "0           IT      Manager  \n",
       "1           IT      Manager  \n",
       "2  Engineering  Contributor  \n",
       "3           IT  Contributor  \n",
       "4           IT     Director  "
      ]
     },
     "execution_count": 113,
     "metadata": {},
     "output_type": "execute_result"
    }
   ],
   "source": [
    "import numpy as np\n",
    "\n",
    "#below function creates a vector for a title by adding the vector of each word in it\n",
    "def get_title_vec(title_tokens):\n",
    "    # create a list of vectors of all the tokens in a title\n",
    "    vectors = [ model.wv[token] for token in title_tokens]\n",
    "    #sum all the vectors in the list\n",
    "    return np.sum(vectors, axis=0)\n",
    "\n",
    "title_vecs = df['Title_Tokens'].map(get_title_vec)\n",
    "#Add title vecs as a column in df \n",
    "df.insert(2, 'Title_Vec', title_vecs)\n",
    "df.head()"
   ]
  },
  {
   "cell_type": "code",
   "execution_count": 114,
   "id": "9a8d197c",
   "metadata": {},
   "outputs": [],
   "source": [
    "import nltk\n",
    "#nltk.download('stopwords')"
   ]
  },
  {
   "cell_type": "code",
   "execution_count": 115,
   "id": "d54a2dfb",
   "metadata": {},
   "outputs": [],
   "source": [
    "# First set up DTM\n",
    "from sklearn.feature_extraction.text import CountVectorizer\n",
    "from nltk.corpus import stopwords\n",
    "stops = stopwords.words('english')\n",
    "\n",
    "# Vectorize titles \n",
    "vec = CountVectorizer(token_pattern = r'\\b[a-zA-Z_]{3,}[a-zA-Z]*\\b', # DO NOT REMOVE THIS LINE!!!!!!!!!\n",
    "                      max_df=0.5,\n",
    "                      lowercase=True, \n",
    "                      stop_words=list(stops), \n",
    "                      max_features=1000, ngram_range=(1,2)) \n",
    "dtm = vec.fit_transform(df['Title'])"
   ]
  },
  {
   "cell_type": "code",
   "execution_count": 154,
   "id": "97e26c8f",
   "metadata": {},
   "outputs": [
    {
     "name": "stderr",
     "output_type": "stream",
     "text": [
      "C:\\Users\\local_ltobin7\\Temp\\ipykernel_10720\\3727006887.py:3: SettingWithCopyWarning: \n",
      "A value is trying to be set on a copy of a slice from a DataFrame.\n",
      "Try using .loc[row_indexer,col_indexer] = value instead\n",
      "\n",
      "See the caveats in the documentation: https://pandas.pydata.org/pandas-docs/stable/user_guide/indexing.html#returning-a-view-versus-a-copy\n",
      "  it_function['Job Role'] = it_function['Job Role'].replace(replacements_role)\n",
      "C:\\Users\\local_ltobin7\\Temp\\ipykernel_10720\\3727006887.py:4: SettingWithCopyWarning: \n",
      "A value is trying to be set on a copy of a slice from a DataFrame.\n",
      "Try using .loc[row_indexer,col_indexer] = value instead\n",
      "\n",
      "See the caveats in the documentation: https://pandas.pydata.org/pandas-docs/stable/user_guide/indexing.html#returning-a-view-versus-a-copy\n",
      "  it_function['Job Role'] = it_function['Job Role'].fillna('IT General')\n"
     ]
    }
   ],
   "source": [
    "# Create DTM for titles that are in IT\n",
    "it_function = df[df['Job Function'].str.contains('IT')]\n",
    "it_function['Job Role'] = it_function['Job Role'].replace(replacements_role)\n",
    "it_function['Job Role'] = it_function['Job Role'].fillna('IT General')\n",
    "\n",
    "dtm_it = vec.fit_transform(it_function['Title'])"
   ]
  },
  {
   "cell_type": "code",
   "execution_count": null,
   "id": "9e0d0ff6",
   "metadata": {},
   "outputs": [],
   "source": []
  },
  {
   "cell_type": "code",
   "execution_count": 156,
   "id": "54704f88",
   "metadata": {},
   "outputs": [],
   "source": [
    "# Create training and validation samples\n",
    "from sklearn.model_selection import train_test_split\n",
    "\n",
    "trainX,validX,trainy,validy = train_test_split(dtm, df['Job Function'],train_size=0.80,random_state=123)\n",
    "trainX_role, validX_role, trainy_role, validy_role = train_test_split(dtm_it, it_function['Job Role'], train_size=0.80, random_state=123)"
   ]
  },
  {
   "cell_type": "code",
   "execution_count": 132,
   "id": "d3ceaca7",
   "metadata": {},
   "outputs": [],
   "source": [
    "# Start with Bayes Naive Classifier to determine Job Function \n",
    "from sklearn.naive_bayes import GaussianNB as NBC\n",
    "from sklearn.metrics import confusion_matrix, classification_report\n",
    "nbc = NBC()"
   ]
  },
  {
   "cell_type": "code",
   "execution_count": 124,
   "id": "7249a967",
   "metadata": {},
   "outputs": [],
   "source": [
    "# Parameters to tune for NBC\n",
    "nbc_params = {'var_smoothing': [0.1, 0.5, 1.0, 2.0]}\n"
   ]
  },
  {
   "cell_type": "code",
   "execution_count": 160,
   "id": "77af4c7e",
   "metadata": {},
   "outputs": [
    {
     "name": "stderr",
     "output_type": "stream",
     "text": [
      "C:\\tools\\Anaconda3\\Lib\\site-packages\\sklearn\\model_selection\\_search.py:307: UserWarning: The total space of parameters 4 is smaller than n_iter=50. Running 4 iterations. For exhaustive searches, use GridSearchCV.\n",
      "  warnings.warn(\n",
      "C:\\tools\\Anaconda3\\Lib\\site-packages\\sklearn\\model_selection\\_validation.py:425: FitFailedWarning: \n",
      "1 fits failed out of a total of 20.\n",
      "The score on these train-test partitions for these parameters will be set to nan.\n",
      "If these failures are not expected, you can try to debug them by setting error_score='raise'.\n",
      "\n",
      "Below are more details about the failures:\n",
      "--------------------------------------------------------------------------------\n",
      "1 fits failed with the following error:\n",
      "Traceback (most recent call last):\n",
      "  File \"C:\\tools\\Anaconda3\\Lib\\site-packages\\sklearn\\model_selection\\_validation.py\", line 732, in _fit_and_score\n",
      "    estimator.fit(X_train, y_train, **fit_params)\n",
      "  File \"C:\\tools\\Anaconda3\\Lib\\site-packages\\sklearn\\base.py\", line 1151, in wrapper\n",
      "    return fit_method(estimator, *args, **kwargs)\n",
      "           ^^^^^^^^^^^^^^^^^^^^^^^^^^^^^^^^^^^^^^\n",
      "  File \"C:\\tools\\Anaconda3\\Lib\\site-packages\\sklearn\\naive_bayes.py\", line 263, in fit\n",
      "    return self._partial_fit(\n",
      "           ^^^^^^^^^^^^^^^^^^\n",
      "  File \"C:\\tools\\Anaconda3\\Lib\\site-packages\\sklearn\\naive_bayes.py\", line 489, in _partial_fit\n",
      "    new_theta, new_sigma = self._update_mean_variance(\n",
      "                           ^^^^^^^^^^^^^^^^^^^^^^^^^^^\n",
      "  File \"C:\\tools\\Anaconda3\\Lib\\site-packages\\sklearn\\naive_bayes.py\", line 323, in _update_mean_variance\n",
      "    new_var = np.var(X, axis=0)\n",
      "              ^^^^^^^^^^^^^^^^^\n",
      "  File \"<__array_function__ internals>\", line 200, in var\n",
      "  File \"C:\\tools\\Anaconda3\\Lib\\site-packages\\numpy\\core\\fromnumeric.py\", line 3747, in var\n",
      "    return _methods._var(a, axis=axis, dtype=dtype, out=out, ddof=ddof,\n",
      "           ^^^^^^^^^^^^^^^^^^^^^^^^^^^^^^^^^^^^^^^^^^^^^^^^^^^^^^^^^^^^\n",
      "  File \"C:\\tools\\Anaconda3\\Lib\\site-packages\\numpy\\core\\_methods.py\", line 236, in _var\n",
      "    x = asanyarray(arr - arrmean)\n",
      "                   ~~~~^~~~~~~~~\n",
      "numpy.core._exceptions._ArrayMemoryError: Unable to allocate 2.12 GiB for an array with shape (284368, 1000) and data type float64\n",
      "\n",
      "  warnings.warn(some_fits_failed_message, FitFailedWarning)\n",
      "C:\\tools\\Anaconda3\\Lib\\site-packages\\sklearn\\model_selection\\_search.py:976: UserWarning: One or more of the test scores are non-finite: [0.31347644        nan 0.51232115 0.31876415]\n",
      "  warnings.warn(\n"
     ]
    },
    {
     "name": "stdout",
     "output_type": "stream",
     "text": [
      "Classification Report with hold-out sample for best fit of this model:...\n",
      "\n",
      "<class 'sklearn.naive_bayes.GaussianNB'>\n",
      "                       precision    recall  f1-score   support\n",
      "\n",
      "          Engineering       0.64      0.82      0.72      9123\n",
      "                   IT       0.89      0.95      0.92     88874\n",
      "              Non-ICP       0.84      0.20      0.32     11682\n",
      "          Procurement       0.60      0.17      0.26       222\n",
      "Risk/Legal/Compliance       0.73      0.34      0.47       176\n",
      "\n",
      "             accuracy                           0.86    110077\n",
      "            macro avg       0.74      0.50      0.54    110077\n",
      "         weighted avg       0.86      0.86      0.84    110077\n",
      "\n",
      "------------------------------------------------------\n"
     ]
    }
   ],
   "source": [
    "from sklearn.model_selection import RandomizedSearchCV\n",
    "final_mods = []\n",
    "for mod,params in zip([NBC()],[nbc_params]): # zip creates a list of tuples we can use to iterate\n",
    "    rand_search = RandomizedSearchCV(mod,params, # positional arguments, model and parameter grid\n",
    "                                     n_iter=50,\n",
    "                                     scoring='f1_macro', \n",
    "                                     cv=5,\n",
    "                                     random_state=123,\n",
    "                                     n_jobs=-1)\n",
    "    \n",
    "    rand_search.fit(trainX.toarray(),trainy)\n",
    "    print(f\"Classification Report with hold-out sample for best fit of this model:...\\n\")\n",
    "    print(type(mod))\n",
    "    print(classification_report(validy,rand_search.predict(validX.toarray())))\n",
    "    print(\"------------------------------------------------------\")\n",
    "    final_mods.append(rand_search)"
   ]
  },
  {
   "cell_type": "code",
   "execution_count": 161,
   "id": "35dfea50",
   "metadata": {},
   "outputs": [
    {
     "name": "stderr",
     "output_type": "stream",
     "text": [
      "C:\\tools\\Anaconda3\\Lib\\site-packages\\sklearn\\model_selection\\_search.py:307: UserWarning: The total space of parameters 4 is smaller than n_iter=50. Running 4 iterations. For exhaustive searches, use GridSearchCV.\n",
      "  warnings.warn(\n"
     ]
    },
    {
     "name": "stdout",
     "output_type": "stream",
     "text": [
      "Classification Report with hold-out sample for best fit of this model:...\n",
      "\n",
      "<class 'sklearn.naive_bayes.GaussianNB'>\n",
      "                      precision    recall  f1-score   support\n",
      "\n",
      "         Development       0.30      0.67      0.42      2067\n",
      "          IT General       0.70      0.41      0.52     14611\n",
      "Information Security       0.83      0.79      0.81     40182\n",
      "          Networking       0.81      0.85      0.83     29988\n",
      "             Systems       0.28      0.78      0.42      2019\n",
      "\n",
      "            accuracy                           0.75     88867\n",
      "           macro avg       0.58      0.70      0.60     88867\n",
      "        weighted avg       0.77      0.75      0.75     88867\n",
      "\n",
      "------------------------------------------------------\n"
     ]
    }
   ],
   "source": [
    "for mod,params in zip([NBC()],[nbc_params]): # zip creates a list of tuples we can use to iterate\n",
    "    rand_search = RandomizedSearchCV(mod,params, # positional arguments, model and parameter grid\n",
    "                                     n_iter=50,\n",
    "                                     scoring='f1_macro', \n",
    "                                     cv=5,\n",
    "                                     random_state=123,\n",
    "                                     n_jobs=-1)\n",
    "    \n",
    "    rand_search.fit(trainX_role.toarray(),trainy_role)\n",
    "    print(f\"Classification Report with hold-out sample for best fit of this model:...\\n\")\n",
    "    print(type(mod))\n",
    "    print(classification_report(validy_role,rand_search.predict(validX_role.toarray())))\n",
    "    print(\"------------------------------------------------------\")\n",
    "    final_mods.append(rand_search)"
   ]
  },
  {
   "cell_type": "code",
   "execution_count": 162,
   "id": "c32e0dd0",
   "metadata": {},
   "outputs": [
    {
     "name": "stdout",
     "output_type": "stream",
     "text": [
      "Best estimator for NBC for Job Function: GaussianNB(var_smoothing=1.0) \n",
      "\n",
      "\n",
      "\n",
      "Classification report:                        precision    recall  f1-score   support\n",
      "\n",
      "          Engineering       0.64      0.82      0.72      9123\n",
      "                   IT       0.89      0.95      0.92     88874\n",
      "              Non-ICP       0.84      0.20      0.32     11682\n",
      "          Procurement       0.60      0.17      0.26       222\n",
      "Risk/Legal/Compliance       0.73      0.34      0.47       176\n",
      "\n",
      "             accuracy                           0.86    110077\n",
      "            macro avg       0.74      0.50      0.54    110077\n",
      "         weighted avg       0.86      0.86      0.84    110077\n",
      "\n",
      "------------------------------------------------------\n",
      "Best estimator for NBC for Job Role for IT function only: GaussianNB(var_smoothing=0.1) \n",
      "\n",
      "\n",
      "\n",
      "Classification report:                       precision    recall  f1-score   support\n",
      "\n",
      "         Development       0.30      0.67      0.42      2067\n",
      "          IT General       0.70      0.41      0.52     14611\n",
      "Information Security       0.83      0.79      0.81     40182\n",
      "          Networking       0.81      0.85      0.83     29988\n",
      "             Systems       0.28      0.78      0.42      2019\n",
      "\n",
      "            accuracy                           0.75     88867\n",
      "           macro avg       0.58      0.70      0.60     88867\n",
      "        weighted avg       0.77      0.75      0.75     88867\n",
      "\n",
      "------------------------------------------------------\n"
     ]
    }
   ],
   "source": [
    "print(f\"Best estimator for NBC for Job Function: {final_mods[0].best_estimator_} \\n\\n\\n\")\n",
    "rand_search = final_mods[0].best_estimator_\n",
    "print(f\"Classification report: {classification_report(validy,rand_search.predict(validX.toarray()))}\")\n",
    "print(\"------------------------------------------------------\")\n",
    "\n",
    "print(f\"Best estimator for NBC for Job Role for IT function only: {final_mods[1].best_estimator_} \\n\\n\\n\")\n",
    "rand_search = final_mods[1].best_estimator_\n",
    "print(f\"Classification report: {classification_report(validy_role,rand_search.predict(validX_role.toarray()))}\")\n",
    "print(\"------------------------------------------------------\")\n",
    "\n"
   ]
  },
  {
   "cell_type": "code",
   "execution_count": null,
   "id": "362ddb84",
   "metadata": {},
   "outputs": [],
   "source": [
    "#  From here - create two additional Naive Bayes Classifiers\n",
    "# (1) Tune a Naive Bayes Classifier to identify Job Role for IT Function\n",
    "# (2) Tune Naive Bayes Classifier to identify Job Level for IT and non-IT (but not non-ICP)\n",
    "\n",
    "\n",
    "# Also worth checking performance (if time) - is it better if there is just one Naive Bayes Classifier for all job title\n",
    "# to determine function, role, level? "
   ]
  },
  {
   "cell_type": "code",
   "execution_count": null,
   "id": "c569427d",
   "metadata": {},
   "outputs": [],
   "source": [
    "# Once final models are decided, need to create code to input CSV file with Record ID, Job Title\n",
    "# Output will be Record ID, Job Title, Job Function, Job Role, Job Level  "
   ]
  }
 ],
 "metadata": {
  "kernelspec": {
   "display_name": "Python 3 (ipykernel)",
   "language": "python",
   "name": "python3"
  },
  "language_info": {
   "codemirror_mode": {
    "name": "ipython",
    "version": 3
   },
   "file_extension": ".py",
   "mimetype": "text/x-python",
   "name": "python",
   "nbconvert_exporter": "python",
   "pygments_lexer": "ipython3",
   "version": "3.11.5"
  }
 },
 "nbformat": 4,
 "nbformat_minor": 5
}
