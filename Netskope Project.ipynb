{
 "cells": [
  {
   "cell_type": "code",
   "execution_count": null,
   "id": "652505f0",
   "metadata": {
    "scrolled": true
   },
   "outputs": [],
   "source": [
    "pip install pandas"
   ]
  },
  {
   "cell_type": "code",
   "execution_count": null,
   "id": "e7090400",
   "metadata": {},
   "outputs": [],
   "source": [
    "pip install nltk\n"
   ]
  },
  {
   "cell_type": "code",
   "execution_count": 1,
   "id": "7f749062",
   "metadata": {
    "scrolled": true
   },
   "outputs": [
    {
     "data": {
      "text/html": [
       "<div>\n",
       "<style scoped>\n",
       "    .dataframe tbody tr th:only-of-type {\n",
       "        vertical-align: middle;\n",
       "    }\n",
       "\n",
       "    .dataframe tbody tr th {\n",
       "        vertical-align: top;\n",
       "    }\n",
       "\n",
       "    .dataframe thead th {\n",
       "        text-align: right;\n",
       "    }\n",
       "</style>\n",
       "<table border=\"1\" class=\"dataframe\">\n",
       "  <thead>\n",
       "    <tr style=\"text-align: right;\">\n",
       "      <th></th>\n",
       "      <th>Title</th>\n",
       "      <th>Job Role</th>\n",
       "      <th>Job Function</th>\n",
       "      <th>Job Level</th>\n",
       "    </tr>\n",
       "  </thead>\n",
       "  <tbody>\n",
       "    <tr>\n",
       "      <th>0</th>\n",
       "      <td>Manager-Cybersecurity</td>\n",
       "      <td>Information Security</td>\n",
       "      <td>IT</td>\n",
       "      <td>Manager</td>\n",
       "    </tr>\n",
       "    <tr>\n",
       "      <th>1</th>\n",
       "      <td>Manager, Information Security</td>\n",
       "      <td>Information Security</td>\n",
       "      <td>IT</td>\n",
       "      <td>Manager</td>\n",
       "    </tr>\n",
       "    <tr>\n",
       "      <th>2</th>\n",
       "      <td>User Experience Analyst</td>\n",
       "      <td>Development</td>\n",
       "      <td>Engineering</td>\n",
       "      <td>Contributor</td>\n",
       "    </tr>\n",
       "    <tr>\n",
       "      <th>3</th>\n",
       "      <td>Network Specialist</td>\n",
       "      <td>Networking</td>\n",
       "      <td>IT</td>\n",
       "      <td>Contributor</td>\n",
       "    </tr>\n",
       "    <tr>\n",
       "      <th>4</th>\n",
       "      <td>Director of Privacy and Compliance</td>\n",
       "      <td>Information Security</td>\n",
       "      <td>IT</td>\n",
       "      <td>Director</td>\n",
       "    </tr>\n",
       "  </tbody>\n",
       "</table>\n",
       "</div>"
      ],
      "text/plain": [
       "                                Title              Job Role Job Function  \\\n",
       "0               Manager-Cybersecurity  Information Security           IT   \n",
       "1       Manager, Information Security  Information Security           IT   \n",
       "2             User Experience Analyst           Development  Engineering   \n",
       "3                  Network Specialist            Networking           IT   \n",
       "4  Director of Privacy and Compliance  Information Security           IT   \n",
       "\n",
       "     Job Level  \n",
       "0      Manager  \n",
       "1      Manager  \n",
       "2  Contributor  \n",
       "3  Contributor  \n",
       "4     Director  "
      ]
     },
     "execution_count": 1,
     "metadata": {},
     "output_type": "execute_result"
    }
   ],
   "source": [
    "import pandas as pd\n",
    "df = pd.read_csv('Historical Lead Records.csv', encoding='latin1')\n",
    "\n",
    "df.head()"
   ]
  },
  {
   "cell_type": "code",
   "execution_count": 3,
   "id": "286df2fc",
   "metadata": {
    "scrolled": false
   },
   "outputs": [
    {
     "data": {
      "text/plain": [
       "865671"
      ]
     },
     "execution_count": 3,
     "metadata": {},
     "output_type": "execute_result"
    }
   ],
   "source": [
    "#make title column lowercase\n",
    "df['Title'] = df['Title'].str.lower()\n",
    "\n",
    "df.shape[0]"
   ]
  },
  {
   "cell_type": "code",
   "execution_count": 4,
   "id": "da672f27",
   "metadata": {
    "scrolled": false
   },
   "outputs": [
    {
     "name": "stdout",
     "output_type": "stream",
     "text": [
      "Title           12682\n",
      "Job Role         4502\n",
      "Job Function     5083\n",
      "Job Level       24546\n",
      "dtype: int64\n"
     ]
    }
   ],
   "source": [
    "na_counts = df.isna().sum()\n",
    "print(na_counts)"
   ]
  },
  {
   "cell_type": "code",
   "execution_count": null,
   "id": "be4f72cd",
   "metadata": {},
   "outputs": [],
   "source": []
  },
  {
   "cell_type": "code",
   "execution_count": 5,
   "id": "62b57ca2",
   "metadata": {},
   "outputs": [
    {
     "name": "stdout",
     "output_type": "stream",
     "text": [
      "865671\n",
      "1616\n",
      "864055\n"
     ]
    }
   ],
   "source": [
    "#1616 rows are completely empty\n",
    "before_dropping = df.shape[0]\n",
    "empty_rows= df.isna().all(axis=1).sum()\n",
    "df = df.dropna(how='all')\n",
    "after_dropping = df.shape[0]\n",
    "\n",
    "\n",
    "print (before_dropping)\n",
    "print (empty_rows)\n",
    "print (after_dropping)"
   ]
  },
  {
   "cell_type": "code",
   "execution_count": null,
   "id": "463261de",
   "metadata": {},
   "outputs": [],
   "source": []
  },
  {
   "cell_type": "code",
   "execution_count": null,
   "id": "9eebd913",
   "metadata": {},
   "outputs": [],
   "source": [
    "question_mark = df['Title'].str.contains('\\?').sum()\n",
    "question_mark"
   ]
  },
  {
   "cell_type": "code",
   "execution_count": null,
   "id": "1f41c8aa",
   "metadata": {},
   "outputs": [],
   "source": [
    "# #replacing all question marks with empty strings\n",
    "# df['Title'] = df['Title'].str.replace('?', '')\n",
    "# question_mark1 = df['Title'].str.contains('\\?').sum()\n",
    "# question_mark1"
   ]
  },
  {
   "cell_type": "code",
   "execution_count": 6,
   "id": "b71b8c8d",
   "metadata": {
    "scrolled": true
   },
   "outputs": [
    {
     "data": {
      "text/plain": [
       "852989"
      ]
     },
     "execution_count": 6,
     "metadata": {},
     "output_type": "execute_result"
    }
   ],
   "source": [
    "df = df.dropna(subset=['Title'])\n",
    "df.shape[0]"
   ]
  },
  {
   "cell_type": "code",
   "execution_count": 8,
   "id": "0111dce6",
   "metadata": {},
   "outputs": [],
   "source": [
    "import pandas as pd\n",
    "from langdetect import detect\n",
    "from langdetect.lang_detect_exception import LangDetectException\n",
    "from joblib import Parallel, delayed\n",
    "import numpy as np\n",
    "\n",
    "def is_english(text):\n",
    "    try:\n",
    "        return detect(str(text)) == 'en'\n",
    "    except LangDetectException:\n",
    "        return False\n",
    "\n",
    "def filter_english_titles(df):\n",
    "    return df[df['Title'].apply(is_english)]\n",
    "\n",
    "num_jobs = 4\n",
    "chunks = np.array_split(df, num_jobs)\n",
    "df_filtered_chunks = Parallel(n_jobs=num_jobs)(\n",
    "    delayed(filter_english_titles)(chunk) for chunk in chunks\n",
    ")\n",
    "df_filtered = pd.concat(df_filtered_chunks)\n",
    "\n"
   ]
  },
  {
   "cell_type": "code",
   "execution_count": 9,
   "id": "70e5aefe",
   "metadata": {},
   "outputs": [
    {
     "data": {
      "text/plain": [
       "550328"
      ]
     },
     "execution_count": 9,
     "metadata": {},
     "output_type": "execute_result"
    }
   ],
   "source": [
    "df_filtered.shape[0]"
   ]
  },
  {
   "cell_type": "code",
   "execution_count": 10,
   "id": "66443b87",
   "metadata": {},
   "outputs": [
    {
     "data": {
      "text/html": [
       "<div>\n",
       "<style scoped>\n",
       "    .dataframe tbody tr th:only-of-type {\n",
       "        vertical-align: middle;\n",
       "    }\n",
       "\n",
       "    .dataframe tbody tr th {\n",
       "        vertical-align: top;\n",
       "    }\n",
       "\n",
       "    .dataframe thead th {\n",
       "        text-align: right;\n",
       "    }\n",
       "</style>\n",
       "<table border=\"1\" class=\"dataframe\">\n",
       "  <thead>\n",
       "    <tr style=\"text-align: right;\">\n",
       "      <th></th>\n",
       "      <th>Title</th>\n",
       "      <th>Job Role</th>\n",
       "      <th>Job Function</th>\n",
       "      <th>Job Level</th>\n",
       "    </tr>\n",
       "  </thead>\n",
       "  <tbody>\n",
       "    <tr>\n",
       "      <th>0</th>\n",
       "      <td>manager-cybersecurity</td>\n",
       "      <td>Information Security</td>\n",
       "      <td>IT</td>\n",
       "      <td>Manager</td>\n",
       "    </tr>\n",
       "    <tr>\n",
       "      <th>1</th>\n",
       "      <td>manager, information security</td>\n",
       "      <td>Information Security</td>\n",
       "      <td>IT</td>\n",
       "      <td>Manager</td>\n",
       "    </tr>\n",
       "    <tr>\n",
       "      <th>2</th>\n",
       "      <td>user experience analyst</td>\n",
       "      <td>Development</td>\n",
       "      <td>Engineering</td>\n",
       "      <td>Contributor</td>\n",
       "    </tr>\n",
       "    <tr>\n",
       "      <th>3</th>\n",
       "      <td>network specialist</td>\n",
       "      <td>Networking</td>\n",
       "      <td>IT</td>\n",
       "      <td>Contributor</td>\n",
       "    </tr>\n",
       "    <tr>\n",
       "      <th>4</th>\n",
       "      <td>director of privacy and compliance</td>\n",
       "      <td>Information Security</td>\n",
       "      <td>IT</td>\n",
       "      <td>Director</td>\n",
       "    </tr>\n",
       "  </tbody>\n",
       "</table>\n",
       "</div>"
      ],
      "text/plain": [
       "                                Title              Job Role Job Function  \\\n",
       "0               manager-cybersecurity  Information Security           IT   \n",
       "1       manager, information security  Information Security           IT   \n",
       "2             user experience analyst           Development  Engineering   \n",
       "3                  network specialist            Networking           IT   \n",
       "4  director of privacy and compliance  Information Security           IT   \n",
       "\n",
       "     Job Level  \n",
       "0      Manager  \n",
       "1      Manager  \n",
       "2  Contributor  \n",
       "3  Contributor  \n",
       "4     Director  "
      ]
     },
     "execution_count": 10,
     "metadata": {},
     "output_type": "execute_result"
    }
   ],
   "source": [
    "df_filtered.head()"
   ]
  },
  {
   "cell_type": "code",
   "execution_count": 19,
   "id": "8502f823",
   "metadata": {},
   "outputs": [],
   "source": [
    "def replace_role(row):\n",
    "    if pd.isnull(row['Job Function']): \n",
    "        return 'N/A'\n",
    "    elif 'IT' not in row['Job Function']:\n",
    "        return 'N/A'\n",
    "    else:\n",
    "        return row['Job Role']\n",
    "\n",
    "df_filtered['Job Role'] = df_filtered.apply(replace_role, axis=1)"
   ]
  },
  {
   "cell_type": "code",
   "execution_count": 22,
   "id": "b5b7dadb",
   "metadata": {},
   "outputs": [
    {
     "data": {
      "text/html": [
       "<div>\n",
       "<style scoped>\n",
       "    .dataframe tbody tr th:only-of-type {\n",
       "        vertical-align: middle;\n",
       "    }\n",
       "\n",
       "    .dataframe tbody tr th {\n",
       "        vertical-align: top;\n",
       "    }\n",
       "\n",
       "    .dataframe thead th {\n",
       "        text-align: right;\n",
       "    }\n",
       "</style>\n",
       "<table border=\"1\" class=\"dataframe\">\n",
       "  <thead>\n",
       "    <tr style=\"text-align: right;\">\n",
       "      <th></th>\n",
       "      <th>Title</th>\n",
       "      <th>Job Role</th>\n",
       "      <th>Job Function</th>\n",
       "      <th>Job Level</th>\n",
       "    </tr>\n",
       "  </thead>\n",
       "  <tbody>\n",
       "    <tr>\n",
       "      <th>2</th>\n",
       "      <td>user experience analyst</td>\n",
       "      <td>N/A</td>\n",
       "      <td>Engineering</td>\n",
       "      <td>Contributor</td>\n",
       "    </tr>\n",
       "    <tr>\n",
       "      <th>14</th>\n",
       "      <td>branch manager, purchasing</td>\n",
       "      <td>N/A</td>\n",
       "      <td>Purchasing</td>\n",
       "      <td>Manager</td>\n",
       "    </tr>\n",
       "    <tr>\n",
       "      <th>18</th>\n",
       "      <td>legislative affairs director</td>\n",
       "      <td>N/A</td>\n",
       "      <td>Legal</td>\n",
       "      <td>Director</td>\n",
       "    </tr>\n",
       "    <tr>\n",
       "      <th>25</th>\n",
       "      <td>associate director of software development</td>\n",
       "      <td>N/A</td>\n",
       "      <td>Engineering</td>\n",
       "      <td>Director</td>\n",
       "    </tr>\n",
       "    <tr>\n",
       "      <th>28</th>\n",
       "      <td>turning vision into reality</td>\n",
       "      <td>N/A</td>\n",
       "      <td>Engineering</td>\n",
       "      <td>Unknown</td>\n",
       "    </tr>\n",
       "  </tbody>\n",
       "</table>\n",
       "</div>"
      ],
      "text/plain": [
       "                                         Title Job Role Job Function  \\\n",
       "2                      user experience analyst      N/A  Engineering   \n",
       "14                  branch manager, purchasing      N/A   Purchasing   \n",
       "18                legislative affairs director      N/A        Legal   \n",
       "25  associate director of software development      N/A  Engineering   \n",
       "28                 turning vision into reality      N/A  Engineering   \n",
       "\n",
       "      Job Level  \n",
       "2   Contributor  \n",
       "14      Manager  \n",
       "18     Director  \n",
       "25     Director  \n",
       "28      Unknown  "
      ]
     },
     "execution_count": 22,
     "metadata": {},
     "output_type": "execute_result"
    }
   ],
   "source": [
    "df_filtered['Job Function'] = df_filtered['Job Function'].fillna('')\n",
    "\n",
    "non_it = df_filtered[~df_filtered['Job Function'].str.contains('IT')]\n",
    "non_it.head()"
   ]
  },
  {
   "cell_type": "code",
   "execution_count": null,
   "id": "af0d907b",
   "metadata": {},
   "outputs": [],
   "source": [
    "# delete rows where a title column is empty?\n",
    "#rows with question marks?"
   ]
  },
  {
   "cell_type": "code",
   "execution_count": null,
   "id": "eae24481",
   "metadata": {},
   "outputs": [],
   "source": [
    "df = df.applymap(lambda x: x.strip() if isinstance(x, str) else x)\n"
   ]
  },
  {
   "cell_type": "code",
   "execution_count": null,
   "id": "1ed5e905",
   "metadata": {},
   "outputs": [],
   "source": [
    "job_levels = df['Job Level'].value_counts()\n",
    "job_functions = df['Job Function'].value_counts()\n",
    "\n",
    "print(job_levels.head())\n",
    "print(job_functions.head())"
   ]
  }
 ],
 "metadata": {
  "kernelspec": {
   "display_name": "Python 3 (ipykernel)",
   "language": "python",
   "name": "python3"
  },
  "language_info": {
   "codemirror_mode": {
    "name": "ipython",
    "version": 3
   },
   "file_extension": ".py",
   "mimetype": "text/x-python",
   "name": "python",
   "nbconvert_exporter": "python",
   "pygments_lexer": "ipython3",
   "version": "3.9.12"
  }
 },
 "nbformat": 4,
 "nbformat_minor": 5
}
