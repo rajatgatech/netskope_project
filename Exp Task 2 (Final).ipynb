{
 "cells": [
  {
   "cell_type": "markdown",
   "id": "f3cf6f3e-a5bb-401a-88db-09517a611e50",
   "metadata": {},
   "source": [
    "## Experiential Task 2\n",
    "Publicly traded companies announce earnings four times per year. These quarterly announcements convey significant information to the market about the company's performance as well as expectations about performance in the coming period. While Wall Street often focuses on whether earnings-per-share (EPS) \"meets or beats\" expectations, this metric represents only one data point in the announcement.\n",
    "\n",
    "Managers supplement announced earnings with a detailed narrative disclosure which provides information helpful for interpreting performance. In this task, we will analyze these narrative disclosures using a few different machine learning approaches. Specifically: \n",
    "\n",
    "- We will apply topic modeling to understand the type of language in earnings announcements. \n",
    "- We will use Lasso regression to evaluate which topics best predict stock returns.\n",
    "- We will train a discrete classifier to understand whether earnings announcements can be used to predict large positive returns.\n",
    "\n",
    "This task will proceed in four general steps:\n",
    "1. Load the data, pre-process, and extract features needed for our machine learning procedures (20% of grade).\n",
    "2. Apply LDA to the corpus and inspect the top 5 words associated with each topic (30% of grade).\n",
    "3. Use Lasso Regression to evaluate which topics most strongly predict stock returns (25% of grade).\n",
    "4. Use a classifier of your choice to model the extent to which topics or words (your choice) most strongly predict large positive returns (>5% over 3-day period) (25% of grade).\n",
    "\n",
    "Let's get started!\n",
    "\n",
    "### Step 1: Prepare the Data\n",
    "In this step, you should do the following:\n",
    "1. Load the dataset using pandas. Confirm there are 12,500 rows.\n",
    "2. Write a function that replaces any financial number with \"financial_number. Then the function should filter out \"bad\" sentences, defined as those with fewer than 5 tokens OR more than 50% financial numbers. \n",
    "3. Generate a document term matrix which allows for single words and bigrams. Restrict tokens to only those that are all letters (\"alpha\") and at least 3 characters, but make sure to allow for \"financial_number\". Retain the 1,000 most common features, exclude english stop words, and exclude tokens appearing in more than 50% of documents.\n",
    "\n",
    "#### 1.1 - Load the dataset (ExpTask2Data.csv.gz)\n",
    "Use pandas to load the dataset, \"ExpTask2Data.csv.gz\", into a dataframe. Confirm you have 12,500 rows."
   ]
  },
  {
   "cell_type": "code",
   "execution_count": 3,
   "id": "acb59a2f",
   "metadata": {},
   "outputs": [],
   "source": [
    "import pandas as pd "
   ]
  },
  {
   "cell_type": "code",
   "execution_count": null,
   "id": "0947d514-5669-4909-a0ff-bb337c2f9bec",
   "metadata": {},
   "outputs": [],
   "source": [
    "# Insert code to load the dataset into a dataframe called \"df\"\n",
    "df = pd.read_csv('ExpTask2Data.csv.gz', compression='gzip')\n",
    "assert len(df) == 12500"
   ]
  },
  {
   "cell_type": "code",
   "execution_count": null,
   "id": "84debcfb",
   "metadata": {},
   "outputs": [],
   "source": [
    "df"
   ]
  },
  {
   "cell_type": "markdown",
   "id": "ea3646e1-ce37-4083-a01b-60cc302b19b0",
   "metadata": {},
   "source": [
    "#### 1.2 - Clean out the \"bad\" sentences\n",
    "Fill in the following function based on the criteria given above. I recommend taking the following approach (and I have sketched out a function you can update) but you are free to handle this part of the task as you wish:\n",
    "- Generate a list of sentences with `sent_tokenize`\n",
    "- Loop over each sentence\n",
    "- Identify financial numbers with a regular expression, and replace those with \"financial_number\".\n",
    "- Tokenize words in the sentence with `word_tokenize`, and filter out non-alpha or non-\"financial_number\". Retain good tokens in `good_tokens`.\n",
    "- Evaluate sentence per the parameters above (5 or more tokens, no more than 50% financial numbers)"
   ]
  },
  {
   "cell_type": "code",
   "execution_count": null,
   "id": "8e7943e4",
   "metadata": {},
   "outputs": [],
   "source": [
    "def calculate_percentage(sentence):\n",
    "    total_tokens = len(sentence)\n",
    "    if total_tokens == 0:\n",
    "        return 0.0\n",
    "    financial_number_count = sum(1 for token in sentence if token==\"financial_number\")\n",
    "    return financial_number_count / total_tokens"
   ]
  },
  {
   "cell_type": "code",
   "execution_count": null,
   "id": "1845c7d5-c8ce-4a4e-ab6c-f62b19729204",
   "metadata": {},
   "outputs": [],
   "source": [
    "import re\n",
    "from nltk.tokenize import sent_tokenize, word_tokenize\n",
    "\n",
    "def clean_sentences(txt):\n",
    "    # add regular expression to \"...\" to clean out financial numbers:\n",
    "    financial_pattern = r'[-+]?\\$\\d{1,4}(?:,?\\d{3})*(?:\\.\\d{1,2})?(?:%|M|B|K)?'\n",
    "    clean_txt = re.sub(financial_pattern,\" financial_number \",txt) \n",
    "\n",
    "    good_sents = []\n",
    "    for sent in sent_tokenize(clean_txt): # generate list of sentences with sent_tokenize and loop over each sentence\n",
    "        good_tokens = []\n",
    "        for word in word_tokenize(sent):                \n",
    "            # add code to apply logic above, building list of \"good tokens\"\n",
    "            if not (word.isalpha() or word == 'financial_number'):\n",
    "                continue\n",
    "            else:\n",
    "                good_tokens.append(word.lower())\n",
    "        good_sents.append(good_tokens)\n",
    "        \n",
    "        # Now add logic to check if there are sufficient tokens to keep the sentence:\n",
    "    good_sents = [s for s in good_sents if len(s)>=5] # at least 5 tokens in sentence  \n",
    "    good_sents = [s for s in good_sents if calculate_percentage(s)<=.5] # less than 50% financial_number\n",
    "    flat_list = [item if isinstance(item, str) else \" \".join(item) for item in good_sents]\n",
    "        \n",
    "    \n",
    "    return \" \".join(flat_list)        \n",
    "    #return good_sents"
   ]
  },
  {
   "cell_type": "markdown",
   "id": "767ce19e-1108-4d97-993f-9fde2af313c4",
   "metadata": {},
   "source": [
    "Now apply this function to the earnings announcement text (\"ea_text\"), placing the result in a new dataframe column called \"clean_sent\" (this will likely take 15-20 minutes, so you may want test your function on a smaller sample before applying to the full dataframe)."
   ]
  },
  {
   "cell_type": "code",
   "execution_count": null,
   "id": "5e5b7eac",
   "metadata": {},
   "outputs": [],
   "source": [
    "test_ex = df.loc[0, 'ea_text'] \n",
    "clean_sentences(test_ex)"
   ]
  },
  {
   "cell_type": "code",
   "execution_count": null,
   "id": "c91e6c40-7014-43c6-aae8-3005e18904a6",
   "metadata": {},
   "outputs": [],
   "source": [
    "df['clean_sent'] = df['ea_text'].apply(clean_sentences)"
   ]
  },
  {
   "cell_type": "markdown",
   "id": "720a7965-7caf-4ec2-b8dd-acd8fdef5dc4",
   "metadata": {},
   "source": [
    "Before we generate the document term matrix, I'd recommend saving this dataframe so you don't have to re-run that code when continuing:"
   ]
  },
  {
   "cell_type": "code",
   "execution_count": null,
   "id": "649ca1b0-87b1-4609-9641-549b77436524",
   "metadata": {},
   "outputs": [],
   "source": [
    "# To save:\n",
    "df.to_csv(\"./task2_data_clean.csv.gz\",index=False)"
   ]
  },
  {
   "cell_type": "code",
   "execution_count": 4,
   "id": "3093882c-bd09-47e4-a1cf-5186c257b3c4",
   "metadata": {},
   "outputs": [],
   "source": [
    "# To load:\n",
    "df = pd.read_csv(\"./task2_data_clean.csv.gz\")"
   ]
  },
  {
   "cell_type": "code",
   "execution_count": null,
   "id": "93c85e03-3bfa-4b36-b46d-7d401e2fed30",
   "metadata": {},
   "outputs": [],
   "source": [
    "df"
   ]
  },
  {
   "cell_type": "markdown",
   "id": "532f991a-9daa-4caa-bf0b-ab7828db18e9",
   "metadata": {},
   "source": [
    "#### Step 1.3\n",
    "Now we will generate our document term matrix. Note that you need use `CountVectorizer` since we are going to use LDA. I've provided you the token pattern that will allow financial_number as a single token."
   ]
  },
  {
   "cell_type": "code",
   "execution_count": 5,
   "id": "2b2b945a-eb82-469d-b2c4-12b2a69ac2cd",
   "metadata": {},
   "outputs": [
    {
     "name": "stderr",
     "output_type": "stream",
     "text": [
      "/home/hice1/ltobin7/.local/lib/python3.11/site-packages/spacy/util.py:910: UserWarning: [W095] Model 'en_core_web_lg' (3.5.0) was trained with spaCy v3.5.0 and may not be 100% compatible with the current version (3.7.2). If you see errors or degraded performance, download a newer compatible model or retrain your custom model with the current spaCy version. For more details and available updates, run: python -m spacy validate\n",
      "  warnings.warn(warn_msg)\n"
     ]
    }
   ],
   "source": [
    "import spacy\n",
    "nlp = spacy.load('en_core_web_lg')\n",
    "import numpy as np\n",
    "from nltk.util import ngrams\n",
    "from sklearn.feature_extraction.text import CountVectorizer\n",
    "from nltk.corpus import stopwords\n",
    "stops = stopwords.words('english')\n",
    "\n",
    "# Update with parameters needed per instructions; I've provided a token_pattern\n",
    "vec = CountVectorizer(token_pattern = r'\\b[a-zA-Z_]{3,}[a-zA-Z]*\\b', # DO NOT REMOVE THIS LINE!!!!!!!!!\n",
    "                      max_df=0.5,\n",
    "                      lowercase=True, \n",
    "                      stop_words=list(stops), \n",
    "                      max_features=1000, ngram_range=(1,2)) \n",
    "dtm = vec.fit_transform(df['clean_sent'])"
   ]
  },
  {
   "cell_type": "markdown",
   "id": "7c33b1f3-9d8b-4e1e-8d30-6445b502749b",
   "metadata": {},
   "source": [
    "### Step 2: Fitting the LDA Model\n",
    "Next, we're going to generate topics from our document term matrix using LDA. We'll do this step in four parts:\n",
    "1. Fitting LDA model over a range of topics\n",
    "2. Evaluating diagnostics to select \"best\" choice\n",
    "3. Fit a final model and generate topic scores\n",
    "4. Evaluate top 5 words in each topic\n",
    "\n",
    "#### 2.1 - Tuning LDA\n",
    "As in demo 5A, I suggest using `sklearn`'s implementation of LDA, which is the best option for generating topical relevance at the document level. We need to do a little tuning for our model. I recommend doing this on a smaller sample of 5,000 records to save time. You should try between 40 and 150 topics, counting by 10s. You should set `topic_word_prior` equal to 0.15 and `doc_topic_prior` to 25 divided by the number of topics. Finally, we will use the coherence score, `u_mass`, as in demo 5A to evaluate topic quality. \n",
    "\n",
    "I've set up a tuning loop for you to use. Fill in the code as needed:"
   ]
  },
  {
   "cell_type": "code",
   "execution_count": 6,
   "id": "1431534c",
   "metadata": {},
   "outputs": [],
   "source": [
    "from sklearn.decomposition import LatentDirichletAllocation as LDA\n",
    "from tmtoolkit.topicmod.evaluate import metric_coherence_gensim\n",
    "import numpy as np\n",
    "\n",
    "# Select a sample of 5000 for training; use random_state=123\n",
    "sample = pd.DataFrame(dtm.todense()).sample(5000,random_state=123)\n",
    "\n",
    "# Set up \"vocab\", a list of feature names\n",
    "#vocab = ...\n",
    "vocab = np.array(vec.get_feature_names_out())"
   ]
  },
  {
   "cell_type": "code",
   "execution_count": 8,
   "id": "fd7817d6-48d1-4d86-b876-b30780462893",
   "metadata": {},
   "outputs": [
    {
     "name": "stdout",
     "output_type": "stream",
     "text": [
      "Fitting 40 topics\n",
      "Fitting 50 topics\n",
      "Fitting 60 topics\n",
      "Fitting 70 topics\n",
      "Fitting 80 topics\n",
      "Fitting 90 topics\n",
      "Fitting 100 topics\n",
      "Fitting 110 topics\n",
      "Fitting 120 topics\n",
      "Fitting 130 topics\n",
      "Fitting 140 topics\n",
      "Fitting 150 topics\n"
     ]
    }
   ],
   "source": [
    "# Set up empty list to collect diagnostics\n",
    "records = []\n",
    "#for top in range(...): \n",
    "for top in range(40, 151, 10):\n",
    "    print(f\"Fitting {top} topics\")\n",
    "    record = {'topics':top}\n",
    "    # Fill in missing parameters\n",
    "    lda = LDA(n_components=top,\n",
    "              doc_topic_prior=25/top,\n",
    "              topic_word_prior=0.15,\n",
    "              n_jobs = -1,\n",
    "              random_state=123)\n",
    "\n",
    "     # Add code to fit the the model\n",
    "    lda.fit(sample)\n",
    "    \n",
    "    ## Add code to compute umass, add mean umass to \"record\", and collect record in list\n",
    "    umass = metric_coherence_gensim(measure = \"u_mass\",\n",
    "                        top_n = 5,\n",
    "                        topic_word_distrib = lda.components_,\n",
    "                        dtm = sample,\n",
    "                        vocab = vocab,\n",
    "                        texts = None) \n",
    "    record['mean_umass'] = np.mean(umass)\n",
    "    records.append(record)\n",
    "\n",
    "diagnostics = pd.DataFrame(records)"
   ]
  },
  {
   "cell_type": "markdown",
   "id": "48bad594-e8f7-4da4-a3ca-3722f30fce94",
   "metadata": {},
   "source": [
    "#### 2.2 - Evaluating `umass` and selecting number of topics for final model\n",
    "In this step, you should plot `umass` over the range of topics ran in the previous step. Show your plot and then choose the optimum number of topics based on your plot. You are free to use whatever plotting approach you wish. "
   ]
  },
  {
   "cell_type": "code",
   "execution_count": 7,
   "id": "1575e275",
   "metadata": {},
   "outputs": [],
   "source": [
    "import matplotlib.pyplot as plt"
   ]
  },
  {
   "cell_type": "code",
   "execution_count": 9,
   "id": "43ec6164-973a-44f7-a32e-75d4cf724dec",
   "metadata": {},
   "outputs": [
    {
     "data": {
      "text/plain": [
       "[<matplotlib.lines.Line2D at 0x2aab44aeb590>]"
      ]
     },
     "execution_count": 9,
     "metadata": {},
     "output_type": "execute_result"
    },
    {
     "data": {
      "image/png": "[encoded data removed]",
      "text/plain": [
       "<Figure size 640x480 with 1 Axes>"
      ]
     },
     "metadata": {},
     "output_type": "display_data"
    }
   ],
   "source": [
    "fig,ax = plt.subplots()\n",
    "ax.plot(diagnostics['topics'],diagnostics['mean_umass'],color='red',linestyle='--')"
   ]
  },
  {
   "cell_type": "markdown",
   "id": "01bd4a6e-2e72-4d77-b674-8ac10e82b7a4",
   "metadata": {},
   "source": [
    "**Interpret your plot and comment on the number of topics you plan to use:**\n",
    "\n",
    "*My answer:* We want to choose the plot with the highest average Umass - in this example from the plot above, it looks like <font color='red'>70</font> topics is the optimal number (maybe a slight edge over 90 topics) so we will use that for our final model. "
   ]
  },
  {
   "cell_type": "markdown",
   "id": "3061b122-ca27-4a3e-9220-555cf2a6a778",
   "metadata": {},
   "source": [
    "#### Step 2.3\n",
    "Now, fit a final LDA model using the number of topics chosen in the prior step and use it to transform the data."
   ]
  },
  {
   "cell_type": "code",
   "execution_count": 10,
   "id": "87c44a15-4545-4035-a56c-8aae6027ecb9",
   "metadata": {},
   "outputs": [],
   "source": [
    "chosen_topics = 70\n",
    "# Set up final lda model:\n",
    "final_lda = LDA(n_components=chosen_topics,\n",
    "              doc_topic_prior=25/chosen_topics,\n",
    "              topic_word_prior=0.15,\n",
    "              n_jobs = -1,\n",
    "              random_state=123)\n",
    "# Fit final model and transform the DTM\n",
    "topics = final_lda.fit_transform(dtm)"
   ]
  },
  {
   "cell_type": "code",
   "execution_count": 11,
   "id": "c0ef8431-0bbf-4fad-8552-3c91575f00d5",
   "metadata": {},
   "outputs": [
    {
     "data": {
      "text/plain": [
       "array([[0.00021513, 0.00388399, 0.00023639, ..., 0.00023933, 0.01427641,\n",
       "        0.00134405],\n",
       "       [0.00291993, 0.00065819, 0.00068452, ..., 0.00700787, 0.00068311,\n",
       "        0.00064869],\n",
       "       [0.0982059 , 0.00038921, 0.00049329, ..., 0.00040149, 0.00042315,\n",
       "        0.00041792],\n",
       "       ...,\n",
       "       [0.00446809, 0.06343692, 0.00080555, ..., 0.00078129, 0.00082968,\n",
       "        0.00077786],\n",
       "       [0.01616234, 0.00113584, 0.00113766, ..., 0.00087597, 0.00091161,\n",
       "        0.07197607],\n",
       "       [0.00063744, 0.00065122, 0.0006819 , ..., 0.00096489, 0.02269592,\n",
       "        0.00065235]])"
      ]
     },
     "execution_count": 11,
     "metadata": {},
     "output_type": "execute_result"
    }
   ],
   "source": [
    "topics # view topics matrix"
   ]
  },
  {
   "cell_type": "markdown",
   "id": "31745eda-14bf-45de-bbc3-3a7da94a0561",
   "metadata": {},
   "source": [
    "#### 2.4 - Evaluate topic words\n",
    "The final step in this part of the task is to evaluate the words in your topics. Word intrusion tasks are a good way to validate topics in an objective manner. We will not follow through on a full word intrusion task, but I would like you to display the top 5 words in each topic and a randomly chosen word from the vocabulary, separately identified as an intruder.\n",
    "\n",
    "Fill in this code to generate the top 5 words in each topic plus an intruder:"
   ]
  },
  {
   "cell_type": "code",
   "execution_count": 12,
   "id": "99d0c141",
   "metadata": {},
   "outputs": [],
   "source": [
    "def get_topic_words(topic,top_word,vocab,topn=5):\n",
    "    top_words = top_word[topic,:].argsort()[-topn:][::-1].tolist()\n",
    "    return vocab[top_words]"
   ]
  },
  {
   "cell_type": "code",
   "execution_count": 13,
   "id": "6afe213e-d5ed-4c6f-afaa-97646a2c618a",
   "metadata": {},
   "outputs": [
    {
     "name": "stdout",
     "output_type": "stream",
     "text": [
      "Topic 0 words: percent|increased percent|million percent|percent financial_number|percent compared\t\tIntruder: income continuing\n",
      "Topic 1 words: six|six months|half|million second|first half\t\tIntruder: accrued liabilities\n",
      "Topic 2 words: gas|oil|natural|production|natural gas\t\tIntruder: contract\n",
      "Topic 3 words: september|ended september|nine|nine months|september september\t\tIntruder: reduced\n",
      "Topic 4 words: continuing|continuing operations|discontinued|discontinued operations|loss continuing\t\tIntruder: production\n",
      "Topic 5 words: million first|net revenue|ended march|quarter compared|april\t\tIntruder: excess\n",
      "Topic 6 words: fiscal|fiscal year|tax rate|quarter fiscal|effective\t\tIntruder: involve\n",
      "Topic 7 words: health|care|attributable|ebitda|income attributable\t\tIntruder: cents\n",
      "Topic 8 words: underlying|pretax|volume|special|special items\t\tIntruder: balance sheet\n",
      "Topic 9 words: ebitda|adjusted ebitda|properties|transaction|totaled\t\tIntruder: constant currency\n",
      "Topic 10 words: fiscal|quarter fiscal|fiscal year|october|decreased\t\tIntruder: levels\n",
      "Topic 11 words: systems|commercial|government|contract|pension\t\tIntruder: consideration\n",
      "Topic 12 words: fuel|aircraft|transportation|air|fleet\t\tIntruder: advanced\n",
      "Topic 13 words: net sales|materials|prices|volume|sales financial_number\t\tIntruder: represent\n",
      "Topic 14 words: nine|nine months|third quarter|first nine|ended nine\t\tIntruder: reported net\n",
      "Topic 15 words: industries|industrial|energy|power|manufacturing\t\tIntruder: competitive\n",
      "Topic 16 words: backlog|orders|aerospace|systems|construction\t\tIntruder: commercial\n",
      "Topic 17 words: retail|store|stores|holdings|locations\t\tIntruder: decreased\n",
      "Topic 18 words: america|north|north america|europe|asia\t\tIntruder: accumulated\n",
      "Topic 19 words: currency|constant|constant currency|foreign|ongoing\t\tIntruder: cost sales\n",
      "Topic 20 words: ebit|operating earnings|sales financial_number|net sales|restructuring\t\tIntruder: research\n",
      "Topic 21 words: fiscal|fiscal year|year ago|ago|quarter fiscal\t\tIntruder: strategic\n",
      "Topic 22 words: oil|gas|production|natural|natural gas\t\tIntruder: negative\n",
      "Topic 23 words: digital|advertising|media|online|mobile\t\tIntruder: contains\n",
      "Topic 24 words: healthcare|consulting|group|clients|ebitda\t\tIntruder: strategies\n",
      "Topic 25 words: ebitda|adjusted ebitda|ebitda financial_number|ebitda adjusted|operating performance\t\tIntruder: million adjusted\n",
      "Topic 26 words: prior year|year quarter|million prior|year period|net revenues\t\tIntruder: grow\n",
      "Topic 27 words: net sales|gross profit|gross margin|prior year|sales financial_number\t\tIntruder: revolving credit\n",
      "Topic 28 words: marketable|marketable securities|gross margin|research|restructuring\t\tIntruder: administrative expenses\n",
      "Topic 29 words: facility|ebitda|holdings|table|credit facility\t\tIntruder: deficit\n",
      "Topic 30 words: special|special items|core|millions|group\t\tIntruder: meaning\n",
      "Topic 31 words: interests|noncontrolling|attributable|noncontrolling interests|currency\t\tIntruder: comparisons\n",
      "Topic 32 words: restructuring|restructuring charges|core|foreign exchange|foreign\t\tIntruder: borrowings\n",
      "Topic 33 words: production|tons|credits|steel|price\t\tIntruder: taxes financial_number\n",
      "Topic 34 words: july|august|june|quarters|guidance\t\tIntruder: compensation expense\n",
      "Topic 35 words: vehicle|retail|automotive|parts|unit\t\tIntruder: gains\n",
      "Topic 36 words: corporation|sales financial_number|plant|plant equipment|property plant\t\tIntruder: worldwide\n",
      "Topic 37 words: operating profit|profit financial_number|millions|dollars|dollars millions\t\tIntruder: reporting\n",
      "Topic 38 words: attributable|loss attributable|discontinued|continuing|noncontrolling\t\tIntruder: drive\n",
      "Topic 39 words: organic|care|sales growth|volume|net sales\t\tIntruder: reconciliations\n",
      "Topic 40 words: eps|free|free cash|diluted eps|adjusted operating\t\tIntruder: safe\n",
      "Topic 41 words: june|ended june|six|six months|june june\t\tIntruder: tax benefits\n",
      "Topic 42 words: brands|national|facility|lease|unconsolidated\t\tIntruder: gaap financial\n",
      "Topic 43 words: restructuring|fair|fair value|acquired|amortization intangible\t\tIntruder: provider\n",
      "Topic 44 words: water|net sales|operations financial_number|income operations|sales financial_number\t\tIntruder: various\n",
      "Topic 45 words: broadcast|local|page|increased financial_number|advertising\t\tIntruder: range financial_number\n",
      "Topic 46 words: last|net sales|last year|increased financial_number|weeks\t\tIntruder: awards\n",
      "Topic 47 words: billion|financial_number billion|millions|diluted earnings|millions except\t\tIntruder: derivative\n",
      "Topic 48 words: communications|wireless|network|access|dollars\t\tIntruder: exclude\n",
      "Topic 49 words: pro|forma|pro forma|january|estimated\t\tIntruder: statements cash\n",
      "Topic 50 words: last|last year|technology|technologies|period last\t\tIntruder: expects\n",
      "Topic 51 words: net loss|loss per|loss financial_number|gaap net|gross margin\t\tIntruder: leader\n",
      "Topic 52 words: restaurant|restaurants|franchise|food|weeks\t\tIntruder: reform act\n",
      "Topic 53 words: software|income per|compensation expense|deferred revenue|acquired\t\tIntruder: holdings\n",
      "Topic 54 words: continuing|continuing operations|income continuing|discontinued|discontinued operations\t\tIntruder: advertising\n",
      "Topic 55 words: ended march|par|par value|issued|revenues financial_number\t\tIntruder: regulatory\n",
      "Topic 56 words: ebitda|adjusted ebitda|ebitda financial_number|ebitda margin|ebitda adjusted\t\tIntruder: understanding\n",
      "Topic 57 words: energy|contract|project|days|drilling\t\tIntruder: compared prior\n",
      "Topic 58 words: impairment|charge|asset|note|recorded\t\tIntruder: recovery\n",
      "Topic 59 words: joint|china|notes|venture|subsidiaries\t\tIntruder: nine\n",
      "Topic 60 words: revenue financial_number|solutions|diluted earnings|total revenue|guidance\t\tIntruder: despite\n",
      "Topic 61 words: third quarter|million third|september|october|nine\t\tIntruder: consolidated financial\n",
      "Topic 62 words: ended december|year ended|full year|twelve|twelve months\t\tIntruder: effective\n",
      "Topic 63 words: attributable|group|income attributable|stockholders|common stockholders\t\tIntruder: therefore\n",
      "Topic 64 words: currency|foreign|foreign currency|translation|currency translation\t\tIntruder: sales marketing\n",
      "Topic 65 words: adjusted net|net loss|loss income|ebitda|income adjusted\t\tIntruder: inc\n",
      "Topic 66 words: segment operating|pension|charge|restructuring|continuing\t\tIntruder: severance\n",
      "Topic 67 words: sold|goods|cost goods|goods sold|gross margin\t\tIntruder: favorable\n",
      "Topic 68 words: net loss|free|free cash|restricted|restricted cash\t\tIntruder: outside\n",
      "Topic 69 words: net earnings|earnings financial_number|earnings loss|diluted earnings|restructuring\t\tIntruder: material\n"
     ]
    }
   ],
   "source": [
    "import random\n",
    "topn = 5\n",
    "\n",
    "# You need these two objects:\n",
    "#vocab = ... NOTE: vocab is same as previously defined, so omitting this line \n",
    "top_word = final_lda.components_\n",
    "\n",
    "# Insert code to perform the intrusion task\n",
    "for top in range(chosen_topics):\n",
    "    words = get_topic_words(top,top_word,vocab,topn=5)\n",
    "    random_word = random.sample(list([w for w in vocab if w not in words]),1)[0]\n",
    "    print(f\"Topic {top} words: {'|'.join(words)}\\t\\tIntruder: {random_word}\")"
   ]
  },
  {
   "cell_type": "markdown",
   "id": "e6dd6f62-7792-4527-87c9-6175dd99d140",
   "metadata": {},
   "source": [
    "### Step 3: Using Lasso to evaluate topic informativeness\n",
    "In this portion of the task, you'll use Lasso regression to evaluate which topics exhibit the strongest associations with stock returns, which is labeled as \"BHAR0_2\" (or buy-and-hold abnormal returns from days 0 to 2). Note that this column is in percentage points (i.e., -4.5 indicates a return of -4.5%).\n",
    "\n",
    "You should proceed as follows:\n",
    "1. Identify the optimum out-of-sample value for `alpha` (the primary regularization parameter) using `RandomizedSearchCV`. You should try 100 random values in the range between 0.00001 and 0.02.\n",
    "2. Analyze results of the best fit models. How many topics exhibit non-zero associations with returns? Which topic exhibits the strongest negative and positive associations (two total)?\n",
    "\n",
    "#### 3.1 - Tuning the Lasso model\n",
    "To tune the model, you first need do split your data into a training and testing sample. I've set most of this up for you; Replace `X` and `Y` with the datasets needed to conduct this test and update the function have a training sample of 80% and validation sample of 20%:"
   ]
  },
  {
   "cell_type": "code",
   "execution_count": 14,
   "id": "9bd42160-f54a-4675-b3da-cef5781dbc18",
   "metadata": {},
   "outputs": [],
   "source": [
    "from sklearn.model_selection import train_test_split\n",
    "\n",
    "Xtopic_train, Xtopic_test, Ytopic_train, Ytopic_test = train_test_split(topics, df['BHAR0_2'],train_size=0.8,random_state=123)"
   ]
  },
  {
   "cell_type": "markdown",
   "id": "77e50a1d-6e12-4a6a-b813-d90702ca9e1d",
   "metadata": {},
   "source": [
    "Next, you should set up your lasso model, parameter grid, and randomized searcher. Use these parameters for the search:\n",
    "- <b>You parameter grid should include 100 random values for `alpha` between 0.00001 and 0.02. </b>\n",
    "- <b>Your randomized search should run 50 times and use 5-fold cross-validation. </b>\n",
    "- <b>You should use `neg_root_mean_squared_error` for scoring.</b>\n",
    "- You should use `random_state=123` wherever possible.\n",
    "\n",
    "Fill in the code below to set this up:"
   ]
  },
  {
   "cell_type": "code",
   "execution_count": 15,
   "id": "3389b5b2-88a2-4da5-b1cb-8a1d7422cca7",
   "metadata": {},
   "outputs": [
    {
     "data": {
      "text/html": [
       "<style>#sk-container-id-1 {color: black;background-color: white;}#sk-container-id-1 pre{padding: 0;}#sk-container-id-1 div.sk-toggleable {background-color: white;}#sk-container-id-1 label.sk-toggleable__label {cursor: pointer;display: block;width: 100%;margin-bottom: 0;padding: 0.3em;box-sizing: border-box;text-align: center;}#sk-container-id-1 label.sk-toggleable__label-arrow:before {content: \"▸\";float: left;margin-right: 0.25em;color: #696969;}#sk-container-id-1 label.sk-toggleable__label-arrow:hover:before {color: black;}#sk-container-id-1 div.sk-estimator:hover label.sk-toggleable__label-arrow:before {color: black;}#sk-container-id-1 div.sk-toggleable__content {max-height: 0;max-width: 0;overflow: hidden;text-align: left;background-color: #f0f8ff;}#sk-container-id-1 div.sk-toggleable__content pre {margin: 0.2em;color: black;border-radius: 0.25em;background-color: #f0f8ff;}#sk-container-id-1 input.sk-toggleable__control:checked~div.sk-toggleable__content {max-height: 200px;max-width: 100%;overflow: auto;}#sk-container-id-1 input.sk-toggleable__control:checked~label.sk-toggleable__label-arrow:before {content: \"▾\";}#sk-container-id-1 div.sk-estimator input.sk-toggleable__control:checked~label.sk-toggleable__label {background-color: #d4ebff;}#sk-container-id-1 div.sk-label input.sk-toggleable__control:checked~label.sk-toggleable__label {background-color: #d4ebff;}#sk-container-id-1 input.sk-hidden--visually {border: 0;clip: rect(1px 1px 1px 1px);clip: rect(1px, 1px, 1px, 1px);height: 1px;margin: -1px;overflow: hidden;padding: 0;position: absolute;width: 1px;}#sk-container-id-1 div.sk-estimator {font-family: monospace;background-color: #f0f8ff;border: 1px dotted black;border-radius: 0.25em;box-sizing: border-box;margin-bottom: 0.5em;}#sk-container-id-1 div.sk-estimator:hover {background-color: #d4ebff;}#sk-container-id-1 div.sk-parallel-item::after {content: \"\";width: 100%;border-bottom: 1px solid gray;flex-grow: 1;}#sk-container-id-1 div.sk-label:hover label.sk-toggleable__label {background-color: #d4ebff;}#sk-container-id-1 div.sk-serial::before {content: \"\";position: absolute;border-left: 1px solid gray;box-sizing: border-box;top: 0;bottom: 0;left: 50%;z-index: 0;}#sk-container-id-1 div.sk-serial {display: flex;flex-direction: column;align-items: center;background-color: white;padding-right: 0.2em;padding-left: 0.2em;position: relative;}#sk-container-id-1 div.sk-item {position: relative;z-index: 1;}#sk-container-id-1 div.sk-parallel {display: flex;align-items: stretch;justify-content: center;background-color: white;position: relative;}#sk-container-id-1 div.sk-item::before, #sk-container-id-1 div.sk-parallel-item::before {content: \"\";position: absolute;border-left: 1px solid gray;box-sizing: border-box;top: 0;bottom: 0;left: 50%;z-index: -1;}#sk-container-id-1 div.sk-parallel-item {display: flex;flex-direction: column;z-index: 1;position: relative;background-color: white;}#sk-container-id-1 div.sk-parallel-item:first-child::after {align-self: flex-end;width: 50%;}#sk-container-id-1 div.sk-parallel-item:last-child::after {align-self: flex-start;width: 50%;}#sk-container-id-1 div.sk-parallel-item:only-child::after {width: 0;}#sk-container-id-1 div.sk-dashed-wrapped {border: 1px dashed gray;margin: 0 0.4em 0.5em 0.4em;box-sizing: border-box;padding-bottom: 0.4em;background-color: white;}#sk-container-id-1 div.sk-label label {font-family: monospace;font-weight: bold;display: inline-block;line-height: 1.2em;}#sk-container-id-1 div.sk-label-container {text-align: center;}#sk-container-id-1 div.sk-container {/* jupyter's `normalize.less` sets `[hidden] { display: none; }` but bootstrap.min.css set `[hidden] { display: none !important; }` so we also need the `!important` here to be able to override the default hidden behavior on the sphinx rendered scikit-learn.org. See: https://github.com/scikit-learn/scikit-learn/issues/21755 */display: inline-block !important;position: relative;}#sk-container-id-1 div.sk-text-repr-fallback {display: none;}</style><div id=\"sk-container-id-1\" class=\"sk-top-container\"><div class=\"sk-text-repr-fallback\"><pre>RandomizedSearchCV(cv=5, estimator=Lasso(), n_iter=50, n_jobs=-1,\n",
       "                   param_distributions={&#x27;alpha&#x27;: array([0.01393242, 0.00572993, 0.00454476, 0.01103078, 0.01439218,\n",
       "       0.0084679 , 0.01961548, 0.01369975, 0.00962383, 0.00784843,\n",
       "       0.00687013, 0.0145837 , 0.00877706, 0.00120296, 0.0079669 ,\n",
       "       0.01476253, 0.00365801, 0.00351728, 0.01063571, 0.01064123,\n",
       "       0.01269168, 0.01699014, 0.01449186, 0....\n",
       "       0.01189269, 0.01114014, 0.0031876 , 0.00306988, 0.01391364,\n",
       "       0.00638214, 0.01384249, 0.01109212, 0.00778512, 0.0185034 ,\n",
       "       0.01683498, 0.00715438, 0.00088139, 0.00610231, 0.00796973,\n",
       "       0.01410213, 0.01990722, 0.00712474, 0.01525333, 0.01186761,\n",
       "       0.01383712, 0.00303104, 0.00798354, 0.00482471, 0.00687569]),\n",
       "                                        &#x27;random_state&#x27;: [123]},\n",
       "                   random_state=123, refit=False,\n",
       "                   scoring=[&#x27;neg_root_mean_squared_error&#x27;])</pre><b>In a Jupyter environment, please rerun this cell to show the HTML representation or trust the notebook. <br />On GitHub, the HTML representation is unable to render, please try loading this page with nbviewer.org.</b></div><div class=\"sk-container\" hidden><div class=\"sk-item sk-dashed-wrapped\"><div class=\"sk-label-container\"><div class=\"sk-label sk-toggleable\"><input class=\"sk-toggleable__control sk-hidden--visually\" id=\"sk-estimator-id-1\" type=\"checkbox\" ><label for=\"sk-estimator-id-1\" class=\"sk-toggleable__label sk-toggleable__label-arrow\">RandomizedSearchCV</label><div class=\"sk-toggleable__content\"><pre>RandomizedSearchCV(cv=5, estimator=Lasso(), n_iter=50, n_jobs=-1,\n",
       "                   param_distributions={&#x27;alpha&#x27;: array([0.01393242, 0.00572993, 0.00454476, 0.01103078, 0.01439218,\n",
       "       0.0084679 , 0.01961548, 0.01369975, 0.00962383, 0.00784843,\n",
       "       0.00687013, 0.0145837 , 0.00877706, 0.00120296, 0.0079669 ,\n",
       "       0.01476253, 0.00365801, 0.00351728, 0.01063571, 0.01064123,\n",
       "       0.01269168, 0.01699014, 0.01449186, 0....\n",
       "       0.01189269, 0.01114014, 0.0031876 , 0.00306988, 0.01391364,\n",
       "       0.00638214, 0.01384249, 0.01109212, 0.00778512, 0.0185034 ,\n",
       "       0.01683498, 0.00715438, 0.00088139, 0.00610231, 0.00796973,\n",
       "       0.01410213, 0.01990722, 0.00712474, 0.01525333, 0.01186761,\n",
       "       0.01383712, 0.00303104, 0.00798354, 0.00482471, 0.00687569]),\n",
       "                                        &#x27;random_state&#x27;: [123]},\n",
       "                   random_state=123, refit=False,\n",
       "                   scoring=[&#x27;neg_root_mean_squared_error&#x27;])</pre></div></div></div><div class=\"sk-parallel\"><div class=\"sk-parallel-item\"><div class=\"sk-item\"><div class=\"sk-label-container\"><div class=\"sk-label sk-toggleable\"><input class=\"sk-toggleable__control sk-hidden--visually\" id=\"sk-estimator-id-2\" type=\"checkbox\" ><label for=\"sk-estimator-id-2\" class=\"sk-toggleable__label sk-toggleable__label-arrow\">estimator: Lasso</label><div class=\"sk-toggleable__content\"><pre>Lasso()</pre></div></div></div><div class=\"sk-serial\"><div class=\"sk-item\"><div class=\"sk-estimator sk-toggleable\"><input class=\"sk-toggleable__control sk-hidden--visually\" id=\"sk-estimator-id-3\" type=\"checkbox\" ><label for=\"sk-estimator-id-3\" class=\"sk-toggleable__label sk-toggleable__label-arrow\">Lasso</label><div class=\"sk-toggleable__content\"><pre>Lasso()</pre></div></div></div></div></div></div></div></div></div></div>"
      ],
      "text/plain": [
       "RandomizedSearchCV(cv=5, estimator=Lasso(), n_iter=50, n_jobs=-1,\n",
       "                   param_distributions={'alpha': array([0.01393242, 0.00572993, 0.00454476, 0.01103078, 0.01439218,\n",
       "       0.0084679 , 0.01961548, 0.01369975, 0.00962383, 0.00784843,\n",
       "       0.00687013, 0.0145837 , 0.00877706, 0.00120296, 0.0079669 ,\n",
       "       0.01476253, 0.00365801, 0.00351728, 0.01063571, 0.01064123,\n",
       "       0.01269168, 0.01699014, 0.01449186, 0....\n",
       "       0.01189269, 0.01114014, 0.0031876 , 0.00306988, 0.01391364,\n",
       "       0.00638214, 0.01384249, 0.01109212, 0.00778512, 0.0185034 ,\n",
       "       0.01683498, 0.00715438, 0.00088139, 0.00610231, 0.00796973,\n",
       "       0.01410213, 0.01990722, 0.00712474, 0.01525333, 0.01186761,\n",
       "       0.01383712, 0.00303104, 0.00798354, 0.00482471, 0.00687569]),\n",
       "                                        'random_state': [123]},\n",
       "                   random_state=123, refit=False,\n",
       "                   scoring=['neg_root_mean_squared_error'])"
      ]
     },
     "execution_count": 15,
     "metadata": {},
     "output_type": "execute_result"
    }
   ],
   "source": [
    "from sklearn.model_selection import RandomizedSearchCV\n",
    "from sklearn.linear_model import Lasso\n",
    "\n",
    "np.random.seed(123)\n",
    "\n",
    "param_grid = {'random_state':[123],\n",
    "              'alpha':np.random.uniform(0.00001, 0.02, 100)}\n",
    "\n",
    "lasso = Lasso()\n",
    "\n",
    "rus = RandomizedSearchCV(lasso,param_grid,\n",
    "                         scoring=['neg_root_mean_squared_error'],\n",
    "                         n_iter=50,\n",
    "                        # Update with rest of parameters\n",
    "                        cv=5,\n",
    "                        random_state = 123,\n",
    "                        n_jobs = -1, # Optional\n",
    "                        refit=False\n",
    "                        )\n",
    "rus.fit(Xtopic_train, Ytopic_train)"
   ]
  },
  {
   "cell_type": "markdown",
   "id": "2d417a8f-93b9-4ce4-af84-41b5d9dd52aa",
   "metadata": {},
   "source": [
    "To evaluate performance by `alpha`, prepare a scatter plot that shows the validation `neg_root_mean_squared_error` vs. `alpha` (**HINT**: results from the randomized search are in `rus.cv_results_`, which is a dictionary)."
   ]
  },
  {
   "cell_type": "code",
   "execution_count": 16,
   "id": "7bd79dbf-3bee-41a3-8a83-828cb61d83c0",
   "metadata": {},
   "outputs": [
    {
     "data": {
      "text/plain": [
       "<matplotlib.collections.PathCollection at 0x2aab46f2a8d0>"
      ]
     },
     "execution_count": 16,
     "metadata": {},
     "output_type": "execute_result"
    },
    {
     "data": {
      "image/png": "[encoded data removed]",
      "text/plain": [
       "<Figure size 640x480 with 1 Axes>"
      ]
     },
     "metadata": {},
     "output_type": "display_data"
    }
   ],
   "source": [
    "plt.scatter(rus.cv_results_['param_alpha'],rus.cv_results_['mean_test_neg_root_mean_squared_error'])"
   ]
  },
  {
   "cell_type": "markdown",
   "id": "9cbc3685-ba6f-435e-9c42-5e172db1be61",
   "metadata": {},
   "source": [
    "Now print the optimum value for `alpha`:"
   ]
  },
  {
   "cell_type": "code",
   "execution_count": 17,
   "id": "6ff81c09-5cbc-46c7-a47e-9f72365530c9",
   "metadata": {},
   "outputs": [
    {
     "name": "stdout",
     "output_type": "stream",
     "text": [
      "The alpha that produces the minimum MSE is 0.005729925305658085.\n"
     ]
    }
   ],
   "source": [
    "max_neg_mse = rus.cv_results_['mean_test_neg_root_mean_squared_error'].argmax()\n",
    "print(f\"The alpha that produces the minimum MSE is {rus.cv_results_['param_alpha'][max_neg_mse]}.\")"
   ]
  },
  {
   "cell_type": "markdown",
   "id": "57674e3b-4035-40eb-9c8b-43cc09f92385",
   "metadata": {},
   "source": [
    "#### 3.2 Interpreting Lasso results\n",
    "To finish up this step, I'd like you to identify:\n",
    "\n",
    "1. How many coefficients (each of which corresponds to a topic) are non-zero\n",
    "2. Which topic has the most negative coefficient?\n",
    "3. Which topic has the most positive coefficient?\n",
    "\n",
    "Let's start with non-zero coefficients. Fill in the cell below to print out the number of coefficients not equal to zero:"
   ]
  },
  {
   "cell_type": "code",
   "execution_count": 18,
   "id": "046333bd",
   "metadata": {},
   "outputs": [
    {
     "data": {
      "text/html": [
       "<style>#sk-container-id-2 {color: black;background-color: white;}#sk-container-id-2 pre{padding: 0;}#sk-container-id-2 div.sk-toggleable {background-color: white;}#sk-container-id-2 label.sk-toggleable__label {cursor: pointer;display: block;width: 100%;margin-bottom: 0;padding: 0.3em;box-sizing: border-box;text-align: center;}#sk-container-id-2 label.sk-toggleable__label-arrow:before {content: \"▸\";float: left;margin-right: 0.25em;color: #696969;}#sk-container-id-2 label.sk-toggleable__label-arrow:hover:before {color: black;}#sk-container-id-2 div.sk-estimator:hover label.sk-toggleable__label-arrow:before {color: black;}#sk-container-id-2 div.sk-toggleable__content {max-height: 0;max-width: 0;overflow: hidden;text-align: left;background-color: #f0f8ff;}#sk-container-id-2 div.sk-toggleable__content pre {margin: 0.2em;color: black;border-radius: 0.25em;background-color: #f0f8ff;}#sk-container-id-2 input.sk-toggleable__control:checked~div.sk-toggleable__content {max-height: 200px;max-width: 100%;overflow: auto;}#sk-container-id-2 input.sk-toggleable__control:checked~label.sk-toggleable__label-arrow:before {content: \"▾\";}#sk-container-id-2 div.sk-estimator input.sk-toggleable__control:checked~label.sk-toggleable__label {background-color: #d4ebff;}#sk-container-id-2 div.sk-label input.sk-toggleable__control:checked~label.sk-toggleable__label {background-color: #d4ebff;}#sk-container-id-2 input.sk-hidden--visually {border: 0;clip: rect(1px 1px 1px 1px);clip: rect(1px, 1px, 1px, 1px);height: 1px;margin: -1px;overflow: hidden;padding: 0;position: absolute;width: 1px;}#sk-container-id-2 div.sk-estimator {font-family: monospace;background-color: #f0f8ff;border: 1px dotted black;border-radius: 0.25em;box-sizing: border-box;margin-bottom: 0.5em;}#sk-container-id-2 div.sk-estimator:hover {background-color: #d4ebff;}#sk-container-id-2 div.sk-parallel-item::after {content: \"\";width: 100%;border-bottom: 1px solid gray;flex-grow: 1;}#sk-container-id-2 div.sk-label:hover label.sk-toggleable__label {background-color: #d4ebff;}#sk-container-id-2 div.sk-serial::before {content: \"\";position: absolute;border-left: 1px solid gray;box-sizing: border-box;top: 0;bottom: 0;left: 50%;z-index: 0;}#sk-container-id-2 div.sk-serial {display: flex;flex-direction: column;align-items: center;background-color: white;padding-right: 0.2em;padding-left: 0.2em;position: relative;}#sk-container-id-2 div.sk-item {position: relative;z-index: 1;}#sk-container-id-2 div.sk-parallel {display: flex;align-items: stretch;justify-content: center;background-color: white;position: relative;}#sk-container-id-2 div.sk-item::before, #sk-container-id-2 div.sk-parallel-item::before {content: \"\";position: absolute;border-left: 1px solid gray;box-sizing: border-box;top: 0;bottom: 0;left: 50%;z-index: -1;}#sk-container-id-2 div.sk-parallel-item {display: flex;flex-direction: column;z-index: 1;position: relative;background-color: white;}#sk-container-id-2 div.sk-parallel-item:first-child::after {align-self: flex-end;width: 50%;}#sk-container-id-2 div.sk-parallel-item:last-child::after {align-self: flex-start;width: 50%;}#sk-container-id-2 div.sk-parallel-item:only-child::after {width: 0;}#sk-container-id-2 div.sk-dashed-wrapped {border: 1px dashed gray;margin: 0 0.4em 0.5em 0.4em;box-sizing: border-box;padding-bottom: 0.4em;background-color: white;}#sk-container-id-2 div.sk-label label {font-family: monospace;font-weight: bold;display: inline-block;line-height: 1.2em;}#sk-container-id-2 div.sk-label-container {text-align: center;}#sk-container-id-2 div.sk-container {/* jupyter's `normalize.less` sets `[hidden] { display: none; }` but bootstrap.min.css set `[hidden] { display: none !important; }` so we also need the `!important` here to be able to override the default hidden behavior on the sphinx rendered scikit-learn.org. See: https://github.com/scikit-learn/scikit-learn/issues/21755 */display: inline-block !important;position: relative;}#sk-container-id-2 div.sk-text-repr-fallback {display: none;}</style><div id=\"sk-container-id-2\" class=\"sk-top-container\"><div class=\"sk-text-repr-fallback\"><pre>Lasso(alpha=0.005729925305658085, random_state=123)</pre><b>In a Jupyter environment, please rerun this cell to show the HTML representation or trust the notebook. <br />On GitHub, the HTML representation is unable to render, please try loading this page with nbviewer.org.</b></div><div class=\"sk-container\" hidden><div class=\"sk-item\"><div class=\"sk-estimator sk-toggleable\"><input class=\"sk-toggleable__control sk-hidden--visually\" id=\"sk-estimator-id-4\" type=\"checkbox\" checked><label for=\"sk-estimator-id-4\" class=\"sk-toggleable__label sk-toggleable__label-arrow\">Lasso</label><div class=\"sk-toggleable__content\"><pre>Lasso(alpha=0.005729925305658085, random_state=123)</pre></div></div></div></div></div>"
      ],
      "text/plain": [
       "Lasso(alpha=0.005729925305658085, random_state=123)"
      ]
     },
     "execution_count": 18,
     "metadata": {},
     "output_type": "execute_result"
    }
   ],
   "source": [
    "# first must fit the lasso model with the optimal alpha\n",
    "lasso = Lasso(alpha=rus.cv_results_['param_alpha'][max_neg_mse],\n",
    "             random_state=123)\n",
    "lasso.fit(Xtopic_train,Ytopic_train)"
   ]
  },
  {
   "cell_type": "code",
   "execution_count": 19,
   "id": "407ef1b1-345d-4d6f-a060-2714c1081ad7",
   "metadata": {},
   "outputs": [
    {
     "data": {
      "text/plain": [
       "18"
      ]
     },
     "execution_count": 19,
     "metadata": {},
     "output_type": "execute_result"
    }
   ],
   "source": [
    "#now print the total number of coefficients not equal to zero\n",
    "len([c for c in lasso.coef_ if c!=0])"
   ]
  },
  {
   "cell_type": "markdown",
   "id": "5df202dd",
   "metadata": {},
   "source": [
    "<b> Additional response to satisfy grading rubric: </b>There are <font color='red'>18</font> non-zero coefficients for the Lasso regression, hence according to the Lasso regression there are only 18 (of 70) topics that capture relevant predictions of stock returns. "
   ]
  },
  {
   "cell_type": "markdown",
   "id": "5aee0e82-700d-486c-94f7-88702b3d91be",
   "metadata": {},
   "source": [
    "Now identify the most positive and most negative topics and print associated words (**HINT**: `argmax()` and `argmin()` make this very straightforward). \n",
    "\n",
    "Print out both the values of these coefficients and their indices:"
   ]
  },
  {
   "cell_type": "code",
   "execution_count": 20,
   "id": "d59017dc-0945-4abc-b09b-73aafa697d22",
   "metadata": {},
   "outputs": [
    {
     "name": "stdout",
     "output_type": "stream",
     "text": [
      "The most positive coefficient corresponds to topic 40 and has a value 2.293208709204696.\n",
      "The most negative coefficient corresponds to topic 65 and has a value -7.101443764662978.\n"
     ]
    }
   ],
   "source": [
    "most_pos = lasso.coef_.argmax()\n",
    "most_neg = lasso.coef_.argmin()\n",
    "\n",
    "print(f\"The most positive coefficient corresponds to topic {most_pos} and has a value {lasso.coef_[most_pos]}.\")\n",
    "print(f\"The most negative coefficient corresponds to topic {most_neg} and has a value {lasso.coef_[most_neg]}.\")"
   ]
  },
  {
   "cell_type": "markdown",
   "id": "62c366bc-ff70-4a09-8a70-b771671528fe",
   "metadata": {},
   "source": [
    "Now, print the top 5 words corresponding to each of these two topics:"
   ]
  },
  {
   "cell_type": "code",
   "execution_count": 21,
   "id": "9124370f-85f5-44c4-b48b-8b6999d1ca01",
   "metadata": {},
   "outputs": [
    {
     "name": "stdout",
     "output_type": "stream",
     "text": [
      "Topic 40 words: eps|free|free cash|diluted eps|adjusted operating\n",
      "Topic 65 words: adjusted net|net loss|loss income|ebitda|income adjusted\n"
     ]
    }
   ],
   "source": [
    "# Positive words:\n",
    "words = get_topic_words(most_pos,top_word,vocab,topn=5)\n",
    "print(f\"Topic {most_pos} words: {'|'.join(words)}\")\n",
    "\n",
    "# Negative words:\n",
    "words = get_topic_words(most_neg,top_word,vocab,topn=5)\n",
    "print(f\"Topic {most_neg} words: {'|'.join(words)}\")"
   ]
  },
  {
   "cell_type": "markdown",
   "id": "9da7fb68-a3d9-40fd-9551-29e810c8da2c",
   "metadata": {},
   "source": [
    "**QUESTION**: Do you find this answer intuitive? Why or why not?\n",
    "\n",
    "*INSERT ANSWER HERE*: Yes - these results do appear somewhat intuitive. EPS (earnings per share), free cash, diluted EPS, adjusted operating when discussing returns might relate to financial numbers might generally be positive values and will likely be mentioned strongly when the numbers are strong, improving, etc. On the flip side, the mentions of net loss, loss income are negative in sentiment just as is and EBITDA and income adjusted can take on negative values. Thus, it makes sense that the Lasso regression is picking up topic <font color='red'>40</font> as a positive predictor of stock returns and topic <font color='red'>65</font> as a negative predictor of stock returns. "
   ]
  },
  {
   "cell_type": "markdown",
   "id": "07158613-f8bd-4097-bdea-94b6b4e5a92c",
   "metadata": {},
   "source": [
    "### Step 4: Use a classifier to predict large positive returns\n",
    "The final part of this task is to use a classifier of your choice to predict large positive returns. You can use the document-term matrix or topic-matrix. You're also free to tune the model as you wish. Training classifiers can be time consuming, so I'm going to use an approach to this section called *specification grading*, meaning you can choose to omit parts of the process for a reduced grade.\n",
    "\n",
    "Grading for this part will be done as follows:\n",
    "\n",
    "1. Set up, train, and evaluate at least one classifier: If this portion is done perfectly and nothing else is done, you'll receive 50% credit for this part.\n",
    "2. Apply robust tuning procedures to one or more models: If you tune multiple hyperparameters for the one model you fit in step 1, you'll receive an additional 10-20% (max grade 70%) credit, depending on extent of tuning. If you tune two or more models properly, this scale increases to 20-40% (max grade 90%).\n",
    "3. Finally, the last 10% will be based on your best fit model. Specifically, using the validation data set up below, you should print your classification report. The best macro-F1 score in the class will receive 10% (100% cumulative) second best 9.5%, and so forth.\n",
    "\n",
    "#### 4.1 - Data set-up an single model training\n",
    "I'll help you set up the data so we all start from the same place. Note that I'm going to set up two sets of \"X\" data, one based on the DTM and the other on the topic matrix. You can use either (or both if you consider multiple models):"
   ]
  },
  {
   "cell_type": "code",
   "execution_count": 22,
   "id": "ea1a9375-2dc2-44bd-b4d2-e67f63190396",
   "metadata": {},
   "outputs": [],
   "source": [
    "YLR = (df['BHAR0_2']>5).astype(int)\n",
    "train_Xdtm, test_Xdtm, train_Xtopic, test_Xtopic, train_YLR, test_YLR = train_test_split(np.asarray(dtm.todense()),topics,YLR,train_size=0.80,random_state=123)"
   ]
  },
  {
   "cell_type": "markdown",
   "id": "173dce66-84a3-47d8-a157-da292214a83b",
   "metadata": {},
   "source": [
    "Next, you should fill in the cell below with code to train at least one model:"
   ]
  },
  {
   "cell_type": "code",
   "execution_count": 23,
   "id": "589d32c4",
   "metadata": {},
   "outputs": [],
   "source": [
    "from sklearn.tree import DecisionTreeClassifier as DTC\n",
    "from sklearn.metrics import confusion_matrix, classification_report\n",
    "from lightgbm import LGBMClassifier as LGBM\n",
    "from sklearn.ensemble import RandomForestClassifier as RFC\n",
    "from sklearn.linear_model import SGDClassifier as SGD"
   ]
  },
  {
   "cell_type": "code",
   "execution_count": 24,
   "id": "d3d925fb-e3a7-4062-b828-104a2b542b37",
   "metadata": {},
   "outputs": [
    {
     "name": "stdout",
     "output_type": "stream",
     "text": [
      "              precision    recall  f1-score   support\n",
      "\n",
      "           0       0.77      0.76      0.76      1904\n",
      "           1       0.26      0.28      0.27       596\n",
      "\n",
      "    accuracy                           0.64      2500\n",
      "   macro avg       0.52      0.52      0.52      2500\n",
      "weighted avg       0.65      0.64      0.65      2500\n",
      "\n"
     ]
    }
   ],
   "source": [
    "# Train and evaluate at least one model\n",
    "# For this first model, we will train a decision tree model \n",
    "tree = DTC(max_depth = 200, max_features = 'sqrt', random_state = 123)\n",
    "tree.fit(train_Xdtm,train_YLR)\n",
    "\n",
    "# evaluate the model on the test sample\n",
    "print(classification_report(test_YLR,tree.predict(test_Xdtm)))"
   ]
  },
  {
   "cell_type": "markdown",
   "id": "56d8b4be",
   "metadata": {},
   "source": [
    "<b>Commentary:</b> This model appears to be biased - as we see large differences in precision, recall, F1-score for predicting the 0's vs. the 1's (i.e. lower returns vs. large positive returns). This is likely because we have many more 0's compared to 1's in the data so there is more information about the lower returns to be able to more accurately predict. "
   ]
  },
  {
   "cell_type": "code",
   "execution_count": 25,
   "id": "a29159dc",
   "metadata": {},
   "outputs": [
    {
     "name": "stdout",
     "output_type": "stream",
     "text": [
      "              precision    recall  f1-score   support\n",
      "\n",
      "           0       0.76      0.75      0.76      1904\n",
      "           1       0.24      0.25      0.24       596\n",
      "\n",
      "    accuracy                           0.63      2500\n",
      "   macro avg       0.50      0.50      0.50      2500\n",
      "weighted avg       0.64      0.63      0.63      2500\n",
      "\n"
     ]
    }
   ],
   "source": [
    "# Since the model is biased, let's try to balance the weighting and see if that improves\n",
    "tree = DTC(max_depth = 200, max_features = 'sqrt', random_state = 123, class_weight='balanced')\n",
    "tree.fit(train_Xdtm,train_YLR)\n",
    "\n",
    "# evaluate the model on the test sample\n",
    "print(classification_report(test_YLR,tree.predict(test_Xdtm)))"
   ]
  },
  {
   "cell_type": "markdown",
   "id": "1f5d18ed",
   "metadata": {},
   "source": [
    "<b>Commentary:</b> This appeared to worsen the model; let's revisit in the next section when tuning. "
   ]
  },
  {
   "cell_type": "markdown",
   "id": "8a443105-c9da-44df-9c62-bf68c8eb00b6",
   "metadata": {},
   "source": [
    "#### 4.2 - Model Tuning\n",
    "Here, you should insert code you use to tune your classifier. You can insert additional cells if needed, or skip this step and accept a lower grade if desired."
   ]
  },
  {
   "cell_type": "code",
   "execution_count": 26,
   "id": "f13ce671-7a6e-48e0-9727-612d2f6ddd9d",
   "metadata": {},
   "outputs": [
    {
     "data": {
      "text/plain": [
       "[{0: 0.6517654072010692, 1: 0.3482345927989308},\n",
       " {0: 0.8569303325248103, 1: 0.14306966747518973},\n",
       " {0: 0.8865742732178985, 1: 0.11342572678210155},\n",
       " {0: 0.7243426154585544, 1: 0.2756573845414456},\n",
       " {0: 0.6402655151072185, 1: 0.35973448489278154},\n",
       " {0: 0.7884467699377695, 1: 0.21155323006223048},\n",
       " {0: 0.5096179008076922, 1: 0.49038209919230774},\n",
       " {0: 0.6575851307075684, 1: 0.34241486929243165},\n",
       " {0: 0.7595340492578195, 1: 0.24046595074218047},\n",
       " {0: 0.8039412409029247, 1: 0.19605875909707526}]"
      ]
     },
     "execution_count": 26,
     "metadata": {},
     "output_type": "execute_result"
    }
   ],
   "source": [
    "# Here I will go through many classification models and tuning hyperparamters before arriving at a final model \n",
    "np.random.seed(123)\n",
    "maj_weight = np.random.uniform(0,0.5,50) # 50 random numbers between 0 and 0.5\n",
    "class_weights = [{0: 1-k, 1:k} for k in maj_weight]\n",
    "class_weights.append('balanced') # adds \"balanced\" as an option\n",
    "class_weights.append(None) # adds no weighting as an option\n",
    "class_weights[:10]"
   ]
  },
  {
   "cell_type": "code",
   "execution_count": 27,
   "id": "4a1449bd",
   "metadata": {},
   "outputs": [],
   "source": [
    "dt_params = {'criterion':['gini','entropy','log_loss'],\n",
    "             'max_depth':[None,10, 20, 50, 100],\n",
    "             'min_samples_split':[2,5,10], # required to split\n",
    "             'max_features':[None,'sqrt','log2'],\n",
    "             'class_weight':class_weights,\n",
    "             'random_state':[123]\n",
    "            }\n",
    "\n",
    "sgd_params = {'loss':['hinge','log_loss','modified_huber', 'squared_hinge', 'perceptron'],\n",
    "              'penalty':['l1','l2','elasticnet',None], # elasticinet is another regularization technique that encourages sparsity\n",
    "              'alpha':[0.0001, 0.001, 0.01, 0.05, 0.1, 0.5, 1, 5, 10],\n",
    "              'l1_ratio':np.random.uniform(0,1,10).tolist(),\n",
    "              'random_state':[123],\n",
    "              'class_weight':class_weights,\n",
    "              'max_iter':[1000,2000]\n",
    "             }     \n",
    "\n",
    "rf_params = {'n_estimators':[10,25,50,100,200],\n",
    "             'criterion':['gini','entropy','log_loss'],\n",
    "             'max_depth':[None,10, 20, 50, 100],\n",
    "             'min_samples_split':[2,5,10], # required to split\n",
    "             'max_features':[None,'sqrt','log2'],\n",
    "             'max_samples':[None,0.10,0.50,0.75],\n",
    "             'class_weight':class_weights,\n",
    "             'random_state':[123]\n",
    "            }\n",
    "\n",
    "#lgbm_params = {'boosting_type':['gbdt', 'dart', 'goss'],\n",
    "#               'num_leaves':[10,20,30,40,50],\n",
    "#               'max_depth':[-1, 10, 20, 50, 100],\n",
    "#               'learning_rate':[0.01,0.1,0.2,0.5], # note this is a very important parameter, as it controls how much \"feedback\" the model has. You can also define a function to make it adaptive\n",
    "#               'n_estimators':[25,50,75,100,200],\n",
    "#               'class_weight':class_weights,\n",
    "#               'random_state':[123]\n",
    "#              }"
   ]
  },
  {
   "cell_type": "code",
   "execution_count": 28,
   "id": "97a9b814",
   "metadata": {},
   "outputs": [
    {
     "name": "stdout",
     "output_type": "stream",
     "text": [
      "Classification Report with hold-out sample for best fit of this model:...\n",
      "\n",
      "<class 'sklearn.tree._classes.DecisionTreeClassifier'>\n",
      "              precision    recall  f1-score   support\n",
      "\n",
      "           0       0.76      0.74      0.75      1904\n",
      "           1       0.24      0.26      0.25       596\n",
      "\n",
      "    accuracy                           0.63      2500\n",
      "   macro avg       0.50      0.50      0.50      2500\n",
      "weighted avg       0.64      0.63      0.63      2500\n",
      "\n",
      "------------------------------------------------------\n"
     ]
    },
    {
     "name": "stderr",
     "output_type": "stream",
     "text": [
      "/storage/ice-shared/mgt8833/class_environment/ExpTask2/lib/python3.11/site-packages/sklearn/linear_model/_stochastic_gradient.py:702: ConvergenceWarning: Maximum number of iteration reached before convergence. Consider increasing max_iter to improve the fit.\n",
      "  warnings.warn(\n",
      "/storage/ice-shared/mgt8833/class_environment/ExpTask2/lib/python3.11/site-packages/sklearn/linear_model/_stochastic_gradient.py:702: ConvergenceWarning: Maximum number of iteration reached before convergence. Consider increasing max_iter to improve the fit.\n",
      "  warnings.warn(\n",
      "/storage/ice-shared/mgt8833/class_environment/ExpTask2/lib/python3.11/site-packages/sklearn/linear_model/_stochastic_gradient.py:702: ConvergenceWarning: Maximum number of iteration reached before convergence. Consider increasing max_iter to improve the fit.\n",
      "  warnings.warn(\n",
      "/storage/ice-shared/mgt8833/class_environment/ExpTask2/lib/python3.11/site-packages/sklearn/linear_model/_stochastic_gradient.py:702: ConvergenceWarning: Maximum number of iteration reached before convergence. Consider increasing max_iter to improve the fit.\n",
      "  warnings.warn(\n",
      "/storage/ice-shared/mgt8833/class_environment/ExpTask2/lib/python3.11/site-packages/sklearn/linear_model/_stochastic_gradient.py:702: ConvergenceWarning: Maximum number of iteration reached before convergence. Consider increasing max_iter to improve the fit.\n",
      "  warnings.warn(\n",
      "/storage/ice-shared/mgt8833/class_environment/ExpTask2/lib/python3.11/site-packages/sklearn/linear_model/_stochastic_gradient.py:702: ConvergenceWarning: Maximum number of iteration reached before convergence. Consider increasing max_iter to improve the fit.\n",
      "  warnings.warn(\n",
      "/storage/ice-shared/mgt8833/class_environment/ExpTask2/lib/python3.11/site-packages/sklearn/linear_model/_stochastic_gradient.py:702: ConvergenceWarning: Maximum number of iteration reached before convergence. Consider increasing max_iter to improve the fit.\n",
      "  warnings.warn(\n",
      "/storage/ice-shared/mgt8833/class_environment/ExpTask2/lib/python3.11/site-packages/sklearn/linear_model/_stochastic_gradient.py:702: ConvergenceWarning: Maximum number of iteration reached before convergence. Consider increasing max_iter to improve the fit.\n",
      "  warnings.warn(\n",
      "/storage/ice-shared/mgt8833/class_environment/ExpTask2/lib/python3.11/site-packages/sklearn/linear_model/_stochastic_gradient.py:702: ConvergenceWarning: Maximum number of iteration reached before convergence. Consider increasing max_iter to improve the fit.\n",
      "  warnings.warn(\n",
      "/storage/ice-shared/mgt8833/class_environment/ExpTask2/lib/python3.11/site-packages/sklearn/linear_model/_stochastic_gradient.py:702: ConvergenceWarning: Maximum number of iteration reached before convergence. Consider increasing max_iter to improve the fit.\n",
      "  warnings.warn(\n",
      "/storage/ice-shared/mgt8833/class_environment/ExpTask2/lib/python3.11/site-packages/sklearn/linear_model/_stochastic_gradient.py:702: ConvergenceWarning: Maximum number of iteration reached before convergence. Consider increasing max_iter to improve the fit.\n",
      "  warnings.warn(\n",
      "/storage/ice-shared/mgt8833/class_environment/ExpTask2/lib/python3.11/site-packages/sklearn/linear_model/_stochastic_gradient.py:702: ConvergenceWarning: Maximum number of iteration reached before convergence. Consider increasing max_iter to improve the fit.\n",
      "  warnings.warn(\n",
      "/storage/ice-shared/mgt8833/class_environment/ExpTask2/lib/python3.11/site-packages/sklearn/linear_model/_stochastic_gradient.py:702: ConvergenceWarning: Maximum number of iteration reached before convergence. Consider increasing max_iter to improve the fit.\n",
      "  warnings.warn(\n",
      "/storage/ice-shared/mgt8833/class_environment/ExpTask2/lib/python3.11/site-packages/sklearn/linear_model/_stochastic_gradient.py:702: ConvergenceWarning: Maximum number of iteration reached before convergence. Consider increasing max_iter to improve the fit.\n",
      "  warnings.warn(\n",
      "/storage/ice-shared/mgt8833/class_environment/ExpTask2/lib/python3.11/site-packages/sklearn/linear_model/_stochastic_gradient.py:702: ConvergenceWarning: Maximum number of iteration reached before convergence. Consider increasing max_iter to improve the fit.\n",
      "  warnings.warn(\n",
      "/storage/ice-shared/mgt8833/class_environment/ExpTask2/lib/python3.11/site-packages/sklearn/linear_model/_stochastic_gradient.py:702: ConvergenceWarning: Maximum number of iteration reached before convergence. Consider increasing max_iter to improve the fit.\n",
      "  warnings.warn(\n",
      "/storage/ice-shared/mgt8833/class_environment/ExpTask2/lib/python3.11/site-packages/sklearn/linear_model/_stochastic_gradient.py:702: ConvergenceWarning: Maximum number of iteration reached before convergence. Consider increasing max_iter to improve the fit.\n",
      "  warnings.warn(\n",
      "/storage/ice-shared/mgt8833/class_environment/ExpTask2/lib/python3.11/site-packages/sklearn/linear_model/_stochastic_gradient.py:702: ConvergenceWarning: Maximum number of iteration reached before convergence. Consider increasing max_iter to improve the fit.\n",
      "  warnings.warn(\n",
      "/storage/ice-shared/mgt8833/class_environment/ExpTask2/lib/python3.11/site-packages/sklearn/linear_model/_stochastic_gradient.py:702: ConvergenceWarning: Maximum number of iteration reached before convergence. Consider increasing max_iter to improve the fit.\n",
      "  warnings.warn(\n",
      "/storage/ice-shared/mgt8833/class_environment/ExpTask2/lib/python3.11/site-packages/sklearn/linear_model/_stochastic_gradient.py:702: ConvergenceWarning: Maximum number of iteration reached before convergence. Consider increasing max_iter to improve the fit.\n",
      "  warnings.warn(\n",
      "/storage/ice-shared/mgt8833/class_environment/ExpTask2/lib/python3.11/site-packages/sklearn/linear_model/_stochastic_gradient.py:702: ConvergenceWarning: Maximum number of iteration reached before convergence. Consider increasing max_iter to improve the fit.\n",
      "  warnings.warn(\n",
      "/storage/ice-shared/mgt8833/class_environment/ExpTask2/lib/python3.11/site-packages/sklearn/linear_model/_stochastic_gradient.py:702: ConvergenceWarning: Maximum number of iteration reached before convergence. Consider increasing max_iter to improve the fit.\n",
      "  warnings.warn(\n",
      "/storage/ice-shared/mgt8833/class_environment/ExpTask2/lib/python3.11/site-packages/sklearn/linear_model/_stochastic_gradient.py:702: ConvergenceWarning: Maximum number of iteration reached before convergence. Consider increasing max_iter to improve the fit.\n",
      "  warnings.warn(\n",
      "/storage/ice-shared/mgt8833/class_environment/ExpTask2/lib/python3.11/site-packages/sklearn/linear_model/_stochastic_gradient.py:702: ConvergenceWarning: Maximum number of iteration reached before convergence. Consider increasing max_iter to improve the fit.\n",
      "  warnings.warn(\n",
      "/storage/ice-shared/mgt8833/class_environment/ExpTask2/lib/python3.11/site-packages/sklearn/linear_model/_stochastic_gradient.py:702: ConvergenceWarning: Maximum number of iteration reached before convergence. Consider increasing max_iter to improve the fit.\n",
      "  warnings.warn(\n",
      "/storage/ice-shared/mgt8833/class_environment/ExpTask2/lib/python3.11/site-packages/sklearn/linear_model/_stochastic_gradient.py:702: ConvergenceWarning: Maximum number of iteration reached before convergence. Consider increasing max_iter to improve the fit.\n",
      "  warnings.warn(\n",
      "/storage/ice-shared/mgt8833/class_environment/ExpTask2/lib/python3.11/site-packages/sklearn/linear_model/_stochastic_gradient.py:702: ConvergenceWarning: Maximum number of iteration reached before convergence. Consider increasing max_iter to improve the fit.\n",
      "  warnings.warn(\n",
      "/storage/ice-shared/mgt8833/class_environment/ExpTask2/lib/python3.11/site-packages/sklearn/linear_model/_stochastic_gradient.py:702: ConvergenceWarning: Maximum number of iteration reached before convergence. Consider increasing max_iter to improve the fit.\n",
      "  warnings.warn(\n",
      "/storage/ice-shared/mgt8833/class_environment/ExpTask2/lib/python3.11/site-packages/sklearn/linear_model/_stochastic_gradient.py:702: ConvergenceWarning: Maximum number of iteration reached before convergence. Consider increasing max_iter to improve the fit.\n",
      "  warnings.warn(\n",
      "/storage/ice-shared/mgt8833/class_environment/ExpTask2/lib/python3.11/site-packages/sklearn/linear_model/_stochastic_gradient.py:702: ConvergenceWarning: Maximum number of iteration reached before convergence. Consider increasing max_iter to improve the fit.\n",
      "  warnings.warn(\n",
      "/storage/ice-shared/mgt8833/class_environment/ExpTask2/lib/python3.11/site-packages/sklearn/linear_model/_stochastic_gradient.py:702: ConvergenceWarning: Maximum number of iteration reached before convergence. Consider increasing max_iter to improve the fit.\n",
      "  warnings.warn(\n",
      "/storage/ice-shared/mgt8833/class_environment/ExpTask2/lib/python3.11/site-packages/sklearn/linear_model/_stochastic_gradient.py:702: ConvergenceWarning: Maximum number of iteration reached before convergence. Consider increasing max_iter to improve the fit.\n",
      "  warnings.warn(\n",
      "/storage/ice-shared/mgt8833/class_environment/ExpTask2/lib/python3.11/site-packages/sklearn/linear_model/_stochastic_gradient.py:702: ConvergenceWarning: Maximum number of iteration reached before convergence. Consider increasing max_iter to improve the fit.\n",
      "  warnings.warn(\n",
      "/storage/ice-shared/mgt8833/class_environment/ExpTask2/lib/python3.11/site-packages/sklearn/linear_model/_stochastic_gradient.py:702: ConvergenceWarning: Maximum number of iteration reached before convergence. Consider increasing max_iter to improve the fit.\n",
      "  warnings.warn(\n",
      "/storage/ice-shared/mgt8833/class_environment/ExpTask2/lib/python3.11/site-packages/sklearn/linear_model/_stochastic_gradient.py:702: ConvergenceWarning: Maximum number of iteration reached before convergence. Consider increasing max_iter to improve the fit.\n",
      "  warnings.warn(\n",
      "/storage/ice-shared/mgt8833/class_environment/ExpTask2/lib/python3.11/site-packages/sklearn/linear_model/_stochastic_gradient.py:702: ConvergenceWarning: Maximum number of iteration reached before convergence. Consider increasing max_iter to improve the fit.\n",
      "  warnings.warn(\n",
      "/storage/ice-shared/mgt8833/class_environment/ExpTask2/lib/python3.11/site-packages/sklearn/linear_model/_stochastic_gradient.py:702: ConvergenceWarning: Maximum number of iteration reached before convergence. Consider increasing max_iter to improve the fit.\n",
      "  warnings.warn(\n",
      "/storage/ice-shared/mgt8833/class_environment/ExpTask2/lib/python3.11/site-packages/sklearn/linear_model/_stochastic_gradient.py:702: ConvergenceWarning: Maximum number of iteration reached before convergence. Consider increasing max_iter to improve the fit.\n",
      "  warnings.warn(\n",
      "/storage/ice-shared/mgt8833/class_environment/ExpTask2/lib/python3.11/site-packages/sklearn/linear_model/_stochastic_gradient.py:702: ConvergenceWarning: Maximum number of iteration reached before convergence. Consider increasing max_iter to improve the fit.\n",
      "  warnings.warn(\n",
      "/storage/ice-shared/mgt8833/class_environment/ExpTask2/lib/python3.11/site-packages/sklearn/linear_model/_stochastic_gradient.py:702: ConvergenceWarning: Maximum number of iteration reached before convergence. Consider increasing max_iter to improve the fit.\n",
      "  warnings.warn(\n",
      "/storage/ice-shared/mgt8833/class_environment/ExpTask2/lib/python3.11/site-packages/sklearn/linear_model/_stochastic_gradient.py:702: ConvergenceWarning: Maximum number of iteration reached before convergence. Consider increasing max_iter to improve the fit.\n",
      "  warnings.warn(\n",
      "/storage/ice-shared/mgt8833/class_environment/ExpTask2/lib/python3.11/site-packages/sklearn/linear_model/_stochastic_gradient.py:702: ConvergenceWarning: Maximum number of iteration reached before convergence. Consider increasing max_iter to improve the fit.\n",
      "  warnings.warn(\n",
      "/storage/ice-shared/mgt8833/class_environment/ExpTask2/lib/python3.11/site-packages/sklearn/linear_model/_stochastic_gradient.py:702: ConvergenceWarning: Maximum number of iteration reached before convergence. Consider increasing max_iter to improve the fit.\n",
      "  warnings.warn(\n",
      "/storage/ice-shared/mgt8833/class_environment/ExpTask2/lib/python3.11/site-packages/sklearn/linear_model/_stochastic_gradient.py:702: ConvergenceWarning: Maximum number of iteration reached before convergence. Consider increasing max_iter to improve the fit.\n",
      "  warnings.warn(\n",
      "/storage/ice-shared/mgt8833/class_environment/ExpTask2/lib/python3.11/site-packages/sklearn/linear_model/_stochastic_gradient.py:702: ConvergenceWarning: Maximum number of iteration reached before convergence. Consider increasing max_iter to improve the fit.\n",
      "  warnings.warn(\n",
      "/storage/ice-shared/mgt8833/class_environment/ExpTask2/lib/python3.11/site-packages/sklearn/linear_model/_stochastic_gradient.py:702: ConvergenceWarning: Maximum number of iteration reached before convergence. Consider increasing max_iter to improve the fit.\n",
      "  warnings.warn(\n",
      "/storage/ice-shared/mgt8833/class_environment/ExpTask2/lib/python3.11/site-packages/sklearn/linear_model/_stochastic_gradient.py:702: ConvergenceWarning: Maximum number of iteration reached before convergence. Consider increasing max_iter to improve the fit.\n",
      "  warnings.warn(\n",
      "/storage/ice-shared/mgt8833/class_environment/ExpTask2/lib/python3.11/site-packages/sklearn/linear_model/_stochastic_gradient.py:702: ConvergenceWarning: Maximum number of iteration reached before convergence. Consider increasing max_iter to improve the fit.\n",
      "  warnings.warn(\n",
      "/storage/ice-shared/mgt8833/class_environment/ExpTask2/lib/python3.11/site-packages/sklearn/linear_model/_stochastic_gradient.py:702: ConvergenceWarning: Maximum number of iteration reached before convergence. Consider increasing max_iter to improve the fit.\n",
      "  warnings.warn(\n",
      "/storage/ice-shared/mgt8833/class_environment/ExpTask2/lib/python3.11/site-packages/sklearn/linear_model/_stochastic_gradient.py:702: ConvergenceWarning: Maximum number of iteration reached before convergence. Consider increasing max_iter to improve the fit.\n",
      "  warnings.warn(\n",
      "/storage/ice-shared/mgt8833/class_environment/ExpTask2/lib/python3.11/site-packages/sklearn/linear_model/_stochastic_gradient.py:702: ConvergenceWarning: Maximum number of iteration reached before convergence. Consider increasing max_iter to improve the fit.\n",
      "  warnings.warn(\n",
      "/storage/ice-shared/mgt8833/class_environment/ExpTask2/lib/python3.11/site-packages/sklearn/linear_model/_stochastic_gradient.py:702: ConvergenceWarning: Maximum number of iteration reached before convergence. Consider increasing max_iter to improve the fit.\n",
      "  warnings.warn(\n",
      "/storage/ice-shared/mgt8833/class_environment/ExpTask2/lib/python3.11/site-packages/sklearn/linear_model/_stochastic_gradient.py:702: ConvergenceWarning: Maximum number of iteration reached before convergence. Consider increasing max_iter to improve the fit.\n",
      "  warnings.warn(\n",
      "/storage/ice-shared/mgt8833/class_environment/ExpTask2/lib/python3.11/site-packages/sklearn/linear_model/_stochastic_gradient.py:702: ConvergenceWarning: Maximum number of iteration reached before convergence. Consider increasing max_iter to improve the fit.\n",
      "  warnings.warn(\n",
      "/storage/ice-shared/mgt8833/class_environment/ExpTask2/lib/python3.11/site-packages/sklearn/linear_model/_stochastic_gradient.py:702: ConvergenceWarning: Maximum number of iteration reached before convergence. Consider increasing max_iter to improve the fit.\n",
      "  warnings.warn(\n",
      "/storage/ice-shared/mgt8833/class_environment/ExpTask2/lib/python3.11/site-packages/sklearn/linear_model/_stochastic_gradient.py:702: ConvergenceWarning: Maximum number of iteration reached before convergence. Consider increasing max_iter to improve the fit.\n",
      "  warnings.warn(\n",
      "/storage/ice-shared/mgt8833/class_environment/ExpTask2/lib/python3.11/site-packages/sklearn/linear_model/_stochastic_gradient.py:702: ConvergenceWarning: Maximum number of iteration reached before convergence. Consider increasing max_iter to improve the fit.\n",
      "  warnings.warn(\n",
      "/storage/ice-shared/mgt8833/class_environment/ExpTask2/lib/python3.11/site-packages/sklearn/linear_model/_stochastic_gradient.py:702: ConvergenceWarning: Maximum number of iteration reached before convergence. Consider increasing max_iter to improve the fit.\n",
      "  warnings.warn(\n",
      "/storage/ice-shared/mgt8833/class_environment/ExpTask2/lib/python3.11/site-packages/sklearn/linear_model/_stochastic_gradient.py:702: ConvergenceWarning: Maximum number of iteration reached before convergence. Consider increasing max_iter to improve the fit.\n",
      "  warnings.warn(\n",
      "/storage/ice-shared/mgt8833/class_environment/ExpTask2/lib/python3.11/site-packages/sklearn/linear_model/_stochastic_gradient.py:702: ConvergenceWarning: Maximum number of iteration reached before convergence. Consider increasing max_iter to improve the fit.\n",
      "  warnings.warn(\n"
     ]
    },
    {
     "name": "stdout",
     "output_type": "stream",
     "text": [
      "Classification Report with hold-out sample for best fit of this model:...\n",
      "\n",
      "<class 'sklearn.linear_model._stochastic_gradient.SGDClassifier'>\n",
      "              precision    recall  f1-score   support\n",
      "\n",
      "           0       0.77      0.82      0.80      1904\n",
      "           1       0.28      0.22      0.25       596\n",
      "\n",
      "    accuracy                           0.68      2500\n",
      "   macro avg       0.53      0.52      0.52      2500\n",
      "weighted avg       0.65      0.68      0.67      2500\n",
      "\n",
      "------------------------------------------------------\n",
      "Classification Report with hold-out sample for best fit of this model:...\n",
      "\n",
      "<class 'sklearn.ensemble._forest.RandomForestClassifier'>\n",
      "              precision    recall  f1-score   support\n",
      "\n",
      "           0       0.76      0.88      0.82      1904\n",
      "           1       0.25      0.12      0.17       596\n",
      "\n",
      "    accuracy                           0.70      2500\n",
      "   macro avg       0.51      0.50      0.49      2500\n",
      "weighted avg       0.64      0.70      0.66      2500\n",
      "\n",
      "------------------------------------------------------\n"
     ]
    }
   ],
   "source": [
    "final_mods = []\n",
    "for mod,params in zip([DTC(),SGD(),RFC()],[dt_params, sgd_params, rf_params]): # zip creates a list of tuples we can use to iterate\n",
    "    rand_search = RandomizedSearchCV(mod,params, # positional arguments, model and parameter grid\n",
    "                                     n_iter=50,\n",
    "                                     scoring='f1_macro', \n",
    "                                     cv=5,\n",
    "                                     random_state=123,\n",
    "                                     n_jobs=-1)\n",
    "    \n",
    "    rand_search.fit(train_Xdtm,train_YLR)\n",
    "    print(f\"Classification Report with hold-out sample for best fit of this model:...\\n\")\n",
    "    print(type(mod))\n",
    "    print(classification_report(test_YLR,rand_search.predict(test_Xdtm)))\n",
    "    print(\"------------------------------------------------------\")\n",
    "    final_mods.append(rand_search)"
   ]
  },
  {
   "cell_type": "markdown",
   "id": "fa07fad6-5d98-41c2-a304-e0f480d9bb50",
   "metadata": {},
   "source": [
    "#### 4.3 - Report final classification report\n",
    "Here, you should report your final classification report:"
   ]
  },
  {
   "cell_type": "code",
   "execution_count": 29,
   "id": "2ddcef82",
   "metadata": {},
   "outputs": [
    {
     "name": "stdout",
     "output_type": "stream",
     "text": [
      "Best estimator for Decision Tree: DecisionTreeClassifier(class_weight={0: 0.6517654072010692,\n",
      "                                     1: 0.3482345927989308},\n",
      "                       criterion='log_loss', max_features='log2',\n",
      "                       random_state=123) \n",
      "\n",
      "\n",
      "\n",
      "Classification report:               precision    recall  f1-score   support\n",
      "\n",
      "           0       0.76      0.74      0.75      1904\n",
      "           1       0.24      0.26      0.25       596\n",
      "\n",
      "    accuracy                           0.63      2500\n",
      "   macro avg       0.50      0.50      0.50      2500\n",
      "weighted avg       0.64      0.63      0.63      2500\n",
      "\n",
      "------------------------------------------------------\n",
      "Best estimator for Stochastic Gradient: SGDClassifier(alpha=0.5,\n",
      "              class_weight={0: 0.7490816620578318, 1: 0.2509183379421683},\n",
      "              l1_ratio=0.6813007657927966, loss='squared_hinge',\n",
      "              penalty='elasticnet', random_state=123) \n",
      "\n",
      "\n",
      "\n",
      "Classification report:               precision    recall  f1-score   support\n",
      "\n",
      "           0       0.77      0.82      0.80      1904\n",
      "           1       0.28      0.22      0.25       596\n",
      "\n",
      "    accuracy                           0.68      2500\n",
      "   macro avg       0.53      0.52      0.52      2500\n",
      "weighted avg       0.65      0.68      0.67      2500\n",
      "\n",
      "------------------------------------------------------\n",
      "Best estimator for Random Forest: RandomForestClassifier(class_weight={0: 0.6354751463079792,\n",
      "                                     1: 0.3645248536920208},\n",
      "                       max_depth=50, max_features=None, max_samples=0.1,\n",
      "                       n_estimators=10, random_state=123) \n",
      "\n",
      "\n",
      "\n",
      "Classification report:               precision    recall  f1-score   support\n",
      "\n",
      "           0       0.76      0.88      0.82      1904\n",
      "           1       0.25      0.12      0.17       596\n",
      "\n",
      "    accuracy                           0.70      2500\n",
      "   macro avg       0.51      0.50      0.49      2500\n",
      "weighted avg       0.64      0.70      0.66      2500\n",
      "\n",
      "------------------------------------------------------\n"
     ]
    }
   ],
   "source": [
    "print(f\"Best estimator for Decision Tree: {final_mods[0].best_estimator_} \\n\\n\\n\")\n",
    "rand_search = final_mods[0].best_estimator_\n",
    "print(f\"Classification report: {classification_report(test_YLR, rand_search.predict(test_Xdtm))}\")\n",
    "print(\"------------------------------------------------------\")\n",
    "print(f\"Best estimator for Stochastic Gradient: {final_mods[1].best_estimator_} \\n\\n\\n\")\n",
    "rand_search = final_mods[1].best_estimator_\n",
    "print(f\"Classification report: {classification_report(test_YLR, rand_search.predict(test_Xdtm))}\")\n",
    "print(\"------------------------------------------------------\")\n",
    "print(f\"Best estimator for Random Forest: {final_mods[2].best_estimator_} \\n\\n\\n\")\n",
    "rand_search = final_mods[2].best_estimator_\n",
    "print(f\"Classification report: {classification_report(test_YLR, rand_search.predict(test_Xdtm))}\")\n",
    "print(\"------------------------------------------------------\")"
   ]
  },
  {
   "cell_type": "markdown",
   "id": "3e2db77d",
   "metadata": {},
   "source": [
    "<b>Commentary:</b> <font color='red'>I spent many hours tuning - including for a LightGBM model, but no matter the parameters I set on the session (nodes, cores, memory), I could not get this to complete within 8 hours. So in this final version, I have dropped the attempts at tuning the LightGBM model. All of the tuning that did complete still did not show much improvement in the performance of the model. The best average macro F1 score was 52% for the SGD classifier model - but for the lower returns, the F1-score was 80% and large positive returns 25%. The model is biased - likely driven by the fact that there are many more lower returns in the data compared to high positiv5e returns. </font>"
   ]
  }
 ],
 "metadata": {
  "kernelspec": {
   "display_name": "Python 3 (ipykernel)",
   "language": "python",
   "name": "python3"
  },
  "language_info": {
   "codemirror_mode": {
    "name": "ipython",
    "version": 3
   },
   "file_extension": ".py",
   "mimetype": "text/x-python",
   "name": "python",
   "nbconvert_exporter": "python",
   "pygments_lexer": "ipython3",
   "version": "3.11.5"
  }
 },
 "nbformat": 4,
 "nbformat_minor": 5
}
